{
 "metadata": {
  "name": "",
  "signature": "sha256:f0bdb5530f75bbd1ac4a0e428ba2964f429d03a59d513cb784f093f7abb3a28f"
 },
 "nbformat": 3,
 "nbformat_minor": 0,
 "worksheets": [
  {
   "cells": [
    {
     "cell_type": "heading",
     "level": 1,
     "metadata": {},
     "source": [
      "Graph Theory Introduction"
     ]
    },
    {
     "cell_type": "code",
     "collapsed": false,
     "input": [
      "import networkx as nx\n",
      "import matplotlib.pyplot as plt\n",
      "from scipy import sparse\n",
      "from IPython.display import Image, display\n",
      "%matplotlib inline\n",
      "\n",
      "G = nx.house_graph()\n",
      "pos = nx.spring_layout(G)\n",
      "nx.draw(G, pos=pos)"
     ],
     "language": "python",
     "metadata": {},
     "outputs": [
      {
       "metadata": {},
       "output_type": "display_data",
       "png": "[encoded data removed]",
       "text": [
        "<matplotlib.figure.Figure at 0x3ba4e50>"
       ]
      }
     ],
     "prompt_number": 130
    },
    {
     "cell_type": "heading",
     "level": 2,
     "metadata": {},
     "source": [
      "Definition"
     ]
    },
    {
     "cell_type": "markdown",
     "metadata": {},
     "source": [
      "- Mathematical definition:\n",
      "\n",
      "    A **graph** is is an ordered pair $G = (V,E)$ of a set $V$ of **vertices** or **nodes** and a set $E \\subseteq [V]^2$ of **edges** or **lines**. The elements of $E$ are therefore 2-element subsets of $V$, representing a relation between the two elemnts of $V$.\n",
      "\n",
      "\n",
      "- Terminology:\n",
      "    - graph = network = web\n",
      "    - vertex = node = point = site = junction: $i = v_i$\n",
      "    - edge = line = link = arc = tie: $(i,j) = e$\n",
      "\n",
      "\n",
      "- Examples:\n",
      "\n",
      "    <table>\n",
      "<tr>\n",
      "<th>graph</th>\n",
      "<th>nodes</th>\n",
      "<th>edges</th>\n",
      "</tr>\n",
      "<tr>\n",
      "<td>internet</td>\n",
      "<td>computers</td>\n",
      "<td>network connections</td>\n",
      "</tr>\n",
      "<tr>\n",
      "<td>power grid</td>\n",
      "<td>power plants, consumers</td>\n",
      "<td>power cables</td>\n",
      "</tr>\n",
      "<tr>\n",
      "<td>transportation network</td>\n",
      "<td>locations</td>\n",
      "<td>routes</td>\n",
      "</tr>\n",
      "<tr>\n",
      "<td>social network</td>\n",
      "<td>individuals</td>\n",
      "<td>relationship</td>\n",
      "</tr>\n",
      "<tr>\n",
      "<td>citation network</td>\n",
      "<td>scientific paper</td>\n",
      "<td>citation</td>\n",
      "</tr>\n",
      "<tr>\n",
      "<td>neural network</td>\n",
      "<td>neuron</td>\n",
      "<td>synapses</td>\n",
      "</tr>\n",
      "<tr>\n",
      "<td>food web</td>\n",
      "<td>functional groups</td>\n",
      "<td>feeding relationships</td>\n",
      "</tr>\n",
      "</table>"
     ]
    },
    {
     "cell_type": "code",
     "collapsed": false,
     "input": [
      "display(Image(filename='pictures/air_net_light.jpg'))\n",
      "display(Image(filename='pictures/europ_grid.jpg'))\n",
      "display(Image(filename='pictures/ice_net.jpg'))\n",
      "display(Image(filename='pictures/leaf_net.jpg'))\n",
      "display(Image(filename='pictures/mold_net.png'))\n",
      "display(Image(filename='pictures/mouse_brain.jpg'))\n"
     ],
     "language": "python",
     "metadata": {},
     "outputs": [
      {
       "ename": "NameError",
       "evalue": "name 'display' is not defined",
       "output_type": "pyerr",
       "traceback": [
        "\u001b[0;31m---------------------------------------------------------------------------\u001b[0m\n\u001b[0;31mNameError\u001b[0m                                 Traceback (most recent call last)",
        "\u001b[0;32m<ipython-input-1-baee06b89279>\u001b[0m in \u001b[0;36m<module>\u001b[0;34m()\u001b[0m\n\u001b[0;32m----> 1\u001b[0;31m \u001b[0mdisplay\u001b[0m\u001b[0;34m(\u001b[0m\u001b[0mImage\u001b[0m\u001b[0;34m(\u001b[0m\u001b[0mfilename\u001b[0m\u001b[0;34m=\u001b[0m\u001b[0;34m'../pictures/air_net_light.jpg'\u001b[0m\u001b[0;34m)\u001b[0m\u001b[0;34m)\u001b[0m\u001b[0;34m\u001b[0m\u001b[0m\n\u001b[0m\u001b[1;32m      2\u001b[0m \u001b[0mdisplay\u001b[0m\u001b[0;34m(\u001b[0m\u001b[0mImage\u001b[0m\u001b[0;34m(\u001b[0m\u001b[0mfilename\u001b[0m\u001b[0;34m=\u001b[0m\u001b[0;34m'../pictures/europ_grid.jpg'\u001b[0m\u001b[0;34m)\u001b[0m\u001b[0;34m)\u001b[0m\u001b[0;34m\u001b[0m\u001b[0m\n\u001b[1;32m      3\u001b[0m \u001b[0mdisplay\u001b[0m\u001b[0;34m(\u001b[0m\u001b[0mImage\u001b[0m\u001b[0;34m(\u001b[0m\u001b[0mfilename\u001b[0m\u001b[0;34m=\u001b[0m\u001b[0;34m'../pictures/ice_net.jpg'\u001b[0m\u001b[0;34m)\u001b[0m\u001b[0;34m)\u001b[0m\u001b[0;34m\u001b[0m\u001b[0m\n\u001b[1;32m      4\u001b[0m \u001b[0mdisplay\u001b[0m\u001b[0;34m(\u001b[0m\u001b[0mImage\u001b[0m\u001b[0;34m(\u001b[0m\u001b[0mfilename\u001b[0m\u001b[0;34m=\u001b[0m\u001b[0;34m'../pictures/leaf_net.jpg'\u001b[0m\u001b[0;34m)\u001b[0m\u001b[0;34m)\u001b[0m\u001b[0;34m\u001b[0m\u001b[0m\n\u001b[1;32m      5\u001b[0m \u001b[0mdisplay\u001b[0m\u001b[0;34m(\u001b[0m\u001b[0mImage\u001b[0m\u001b[0;34m(\u001b[0m\u001b[0mfilename\u001b[0m\u001b[0;34m=\u001b[0m\u001b[0;34m'../pictures/mold_net.png'\u001b[0m\u001b[0;34m)\u001b[0m\u001b[0;34m)\u001b[0m\u001b[0;34m\u001b[0m\u001b[0m\n",
        "\u001b[0;31mNameError\u001b[0m: name 'display' is not defined"
       ]
      }
     ],
     "prompt_number": 1
    },
    {
     "cell_type": "heading",
     "level": 2,
     "metadata": {},
     "source": [
      "Basic graph types"
     ]
    },
    {
     "cell_type": "markdown",
     "metadata": {},
     "source": [
      "- directed $\\leftrightarrow$ undirected\n",
      "- weighted $\\leftrightarrow$ unweighted\n",
      "- multigraph $\\leftrightarrow$ simple graph"
     ]
    },
    {
     "cell_type": "heading",
     "level": 2,
     "metadata": {},
     "source": [
      "Representations"
     ]
    },
    {
     "cell_type": "code",
     "collapsed": false,
     "input": [
      "nx.draw_networkx(G, pos=pos, node_color='black', font_color='white')\n",
      "dump = nx.draw_networkx_edge_labels(G, pos=pos, edge_labels=dict(zip(G.edges(), G.edges())))"
     ],
     "language": "python",
     "metadata": {},
     "outputs": [
      {
       "metadata": {},
       "output_type": "display_data",
       "png": "[encoded data removed]",
       "text": [
        "<matplotlib.figure.Figure at 0x38448d0>"
       ]
      }
     ],
     "prompt_number": 43
    },
    {
     "cell_type": "heading",
     "level": 3,
     "metadata": {},
     "source": [
      "Adjacency matrix"
     ]
    },
    {
     "cell_type": "markdown",
     "metadata": {},
     "source": [
      "$$A_{ij} := \\left\\{\n",
      "   \\begin{array}{ll}    \n",
      "   1 & : \\text{node }i \\text{ and } j \\text{ are connected}\\\\\n",
      "   0 & : \\text{else}\n",
      "   \\end{array}\n",
      "   \\right. \\quad i, j \\in V$$"
     ]
    },
    {
     "cell_type": "code",
     "collapsed": false,
     "input": [
      "A = nx.adjacency_matrix(G).toarray()\n",
      "print A"
     ],
     "language": "python",
     "metadata": {},
     "outputs": [
      {
       "output_type": "stream",
       "stream": "stdout",
       "text": [
        "[[0 1 1 0 0]\n",
        " [1 0 0 1 0]\n",
        " [1 0 0 1 1]\n",
        " [0 1 1 0 1]\n",
        " [0 0 1 1 0]]\n"
       ]
      }
     ],
     "prompt_number": 127
    },
    {
     "cell_type": "heading",
     "level": 3,
     "metadata": {},
     "source": [
      "Incidence matrix"
     ]
    },
    {
     "cell_type": "markdown",
     "metadata": {},
     "source": [
      "   $$B_{ei} := \\left\\{\n",
      "   \\begin{array}{ll}      \n",
      "   1 & : \\text{edge } e \\text{ connects to node } j\\\\\\\n",
      "   0 & : \\text{else} \n",
      "   \\end{array}\n",
      "   \\right. \\quad e \\in E, i \\in V$$"
     ]
    },
    {
     "cell_type": "code",
     "collapsed": false,
     "input": [
      "B = nx.incidence_matrix(G).toarray().astype(int)\n",
      "print B"
     ],
     "language": "python",
     "metadata": {},
     "outputs": [
      {
       "output_type": "stream",
       "stream": "stdout",
       "text": [
        "[[1 1 0 0 0 0]\n",
        " [1 0 1 0 0 0]\n",
        " [0 1 0 1 1 0]\n",
        " [0 0 1 1 0 1]\n",
        " [0 0 0 0 1 1]]\n"
       ]
      }
     ],
     "prompt_number": 102
    },
    {
     "cell_type": "heading",
     "level": 3,
     "metadata": {},
     "source": [
      "Edgelist"
     ]
    },
    {
     "cell_type": "code",
     "collapsed": false,
     "input": [
      "edgelist = G.edges()\n",
      "print edgelist"
     ],
     "language": "python",
     "metadata": {},
     "outputs": [
      {
       "output_type": "stream",
       "stream": "stdout",
       "text": [
        "[(0, 1), (0, 2), (1, 3), (2, 3), (2, 4), (3, 4)]\n"
       ]
      }
     ],
     "prompt_number": 71
    },
    {
     "cell_type": "heading",
     "level": 3,
     "metadata": {},
     "source": [
      "Dict of lists"
     ]
    },
    {
     "cell_type": "code",
     "collapsed": false,
     "input": [
      "nested_list = nx.to_dict_of_lists(G)\n",
      "print nested_list"
     ],
     "language": "python",
     "metadata": {},
     "outputs": [
      {
       "output_type": "stream",
       "stream": "stdout",
       "text": [
        "{0: [1, 2], 1: [0, 3], 2: [0, 3, 4], 3: [1, 2, 4], 4: [2, 3]}\n"
       ]
      }
     ],
     "prompt_number": 72
    },
    {
     "cell_type": "heading",
     "level": 2,
     "metadata": {},
     "source": [
      "Basic graph properties"
     ]
    },
    {
     "cell_type": "heading",
     "level": 3,
     "metadata": {},
     "source": [
      "Order (number of nodes)    "
     ]
    },
    {
     "cell_type": "markdown",
     "metadata": {},
     "source": [
      "   $$N := |V|$$"
     ]
    },
    {
     "cell_type": "code",
     "collapsed": false,
     "input": [
      "N = G.order()\n",
      "print N"
     ],
     "language": "python",
     "metadata": {},
     "outputs": [
      {
       "output_type": "stream",
       "stream": "stdout",
       "text": [
        "5\n"
       ]
      }
     ],
     "prompt_number": 67
    },
    {
     "cell_type": "heading",
     "level": 3,
     "metadata": {},
     "source": [
      "Size (number of edges)    "
     ]
    },
    {
     "cell_type": "markdown",
     "metadata": {},
     "source": [
      "$$M := |E|$$"
     ]
    },
    {
     "cell_type": "code",
     "collapsed": false,
     "input": [
      "M = G.size()\n",
      "print M"
     ],
     "language": "python",
     "metadata": {},
     "outputs": [
      {
       "output_type": "stream",
       "stream": "stdout",
       "text": [
        "6\n"
       ]
      }
     ],
     "prompt_number": 68
    },
    {
     "cell_type": "heading",
     "level": 3,
     "metadata": {},
     "source": [
      "Degree of a node    "
     ]
    },
    {
     "cell_type": "markdown",
     "metadata": {},
     "source": [
      "$$d_i := \\sum_{j=0}^N A_{ij}$$\n",
      "    \n",
      "   $\\rightarrow$ number of edges connected to a node"
     ]
    },
    {
     "cell_type": "code",
     "collapsed": false,
     "input": [
      "degrees = G.degree()\n",
      "print degrees"
     ],
     "language": "python",
     "metadata": {},
     "outputs": [
      {
       "output_type": "stream",
       "stream": "stdout",
       "text": [
        "{0: 2, 1: 2, 2: 3, 3: 3, 4: 2}\n"
       ]
      }
     ],
     "prompt_number": 73
    },
    {
     "cell_type": "heading",
     "level": 3,
     "metadata": {},
     "source": [
      "Degree distribution    "
     ]
    },
    {
     "cell_type": "markdown",
     "metadata": {},
     "source": [
      "$$P(d) := \\frac{N_d}{N} \\\\ N_d : \\text{number of nodes with degree } d$$"
     ]
    },
    {
     "cell_type": "code",
     "collapsed": false,
     "input": [
      "N_d = np.array(nx.degree_histogram(G), dtype=float)\n",
      "print N_d / N"
     ],
     "language": "python",
     "metadata": {},
     "outputs": [
      {
       "output_type": "stream",
       "stream": "stdout",
       "text": [
        "[ 0.   0.   0.6  0.4]\n"
       ]
      }
     ],
     "prompt_number": 89
    },
    {
     "cell_type": "heading",
     "level": 3,
     "metadata": {},
     "source": [
      "Degree matrix    "
     ]
    },
    {
     "cell_type": "markdown",
     "metadata": {},
     "source": [
      "$$D_{ij} := \\left\\{\n",
      "   \\begin{array}{ll}\n",
      "   d_i & : i=j\\\\\\    \n",
      "   0 & : i \\neq j\n",
      "   \\end{array}\n",
      "   \\right. \\\\\n",
      "   = \\delta_{ij} \\sum_{j=0}^N A_{ij}$$"
     ]
    },
    {
     "cell_type": "code",
     "collapsed": false,
     "input": [
      "print A.sum(axis=0)"
     ],
     "language": "python",
     "metadata": {},
     "outputs": [
      {
       "output_type": "stream",
       "stream": "stdout",
       "text": [
        "[2 2 3 3 2]\n"
       ]
      }
     ],
     "prompt_number": 106
    },
    {
     "cell_type": "code",
     "collapsed": false,
     "input": [
      "D = np.diag(A.sum(axis=0))\n",
      "print D"
     ],
     "language": "python",
     "metadata": {},
     "outputs": [
      {
       "output_type": "stream",
       "stream": "stdout",
       "text": [
        "[[2 0 0 0 0]\n",
        " [0 2 0 0 0]\n",
        " [0 0 3 0 0]\n",
        " [0 0 0 3 0]\n",
        " [0 0 0 0 2]]\n"
       ]
      }
     ],
     "prompt_number": 105
    },
    {
     "cell_type": "heading",
     "level": 3,
     "metadata": {},
     "source": [
      "Shortest paths"
     ]
    },
    {
     "cell_type": "markdown",
     "metadata": {},
     "source": [
      "A **path** from node $v_1$ to node $v_n$ is a sequence of pairwise connected nodes $v_i \\in V$, so that $(v_i, v_{i+1}) \\in E$:\n",
      "$$p(v_1,v_n) = \\{v_1, v_2, \\dots, v_n\\}$$\n",
      "The **length of a path** in an unweighted graph is the number of edges it contains:\n",
      "$$l_{ij} = |p(v_i, v_j)| - 1$$\n",
      "Therefore a **shortest path** between two nodes is a path of length equal to the minimum of the lengths of all possibple paths between them."
     ]
    },
    {
     "cell_type": "code",
     "collapsed": false,
     "input": [
      "p = nx.shortest_path(G, source=0, target=3)\n",
      "print p"
     ],
     "language": "python",
     "metadata": {},
     "outputs": [
      {
       "output_type": "stream",
       "stream": "stdout",
       "text": [
        "[0, 1, 3]\n"
       ]
      }
     ],
     "prompt_number": 113
    },
    {
     "cell_type": "code",
     "collapsed": false,
     "input": [
      "print nx.shortest_path_length(G, source=0, target=3)"
     ],
     "language": "python",
     "metadata": {},
     "outputs": [
      {
       "output_type": "stream",
       "stream": "stdout",
       "text": [
        "2\n"
       ]
      }
     ],
     "prompt_number": 112
    },
    {
     "cell_type": "heading",
     "level": 3,
     "metadata": {},
     "source": [
      "Centralities"
     ]
    },
    {
     "cell_type": "markdown",
     "metadata": {},
     "source": [
      "- measure of relative importance for nodes or edges"
     ]
    },
    {
     "cell_type": "heading",
     "level": 4,
     "metadata": {},
     "source": [
      "closeness centrality"
     ]
    },
    {
     "cell_type": "markdown",
     "metadata": {},
     "source": [
      "$$C_C(v_i) = \\sum_{j=0}^N \\frac{1}{min(l_{ij})}$$\n",
      "$\\rightarrow$ information on how close a node is to all other nodes"
     ]
    },
    {
     "cell_type": "code",
     "collapsed": false,
     "input": [
      "CC = nx.closeness_centrality(G)\n",
      "print CC"
     ],
     "language": "python",
     "metadata": {},
     "outputs": [
      {
       "output_type": "stream",
       "stream": "stdout",
       "text": [
        "{0: 0.6666666666666666, 1: 0.6666666666666666, 2: 0.8, 3: 0.8, 4: 0.6666666666666666}\n"
       ]
      }
     ],
     "prompt_number": 125
    },
    {
     "cell_type": "heading",
     "level": 4,
     "metadata": {},
     "source": [
      "betweenness centrality"
     ]
    },
    {
     "cell_type": "markdown",
     "metadata": {},
     "source": [
      "$$C_B(v_i) = \\sum_{k,l \\in V}_{k \\neq l \\neq i} \\frac{\\sigma_{kl}(v_i)}{\\sigma_{kl}} \\\\\n",
      "\\sigma_{kl} : \\text{ number of shortest paths } p(v_k, v_l) \\\\\n",
      "\\sigma_{kl}(v_i) : \\text{ those passing through } v_i $$\n",
      "\n",
      "$\\rightarrow$ information on how often a node is \"in-between\" all other nodes\n"
     ]
    },
    {
     "cell_type": "code",
     "collapsed": false,
     "input": [
      "BC = nx.betweenness_centrality(G)\n",
      "print BC"
     ],
     "language": "python",
     "metadata": {},
     "outputs": [
      {
       "output_type": "stream",
       "stream": "stdout",
       "text": [
        "{0: 0.08333333333333333, 1: 0.08333333333333333, 2: 0.25, 3: 0.25, 4: 0.0}\n"
       ]
      }
     ],
     "prompt_number": 126
    }
   ],
   "metadata": {}
  }
 ]
}