{
 "metadata": {
  "name": ""
 },
 "nbformat": 3,
 "nbformat_minor": 0,
 "worksheets": [
  {
   "cells": [
    {
     "cell_type": "code",
     "collapsed": false,
     "input": [
      "import networkx as nx\n",
      "%matplotlib inline\n",
      "import pylab\n",
      "pylab.rcParams['figure.figsize'] = (10.0, 8.0)\n",
      "import numpy as np\n",
      "import matplotlib.pyplot as plt\n",
      "from __future__ import division"
     ],
     "language": "python",
     "metadata": {},
     "outputs": [],
     "prompt_number": 1
    },
    {
     "cell_type": "markdown",
     "metadata": {},
     "source": [
      "**E4.1  Erd\u00f6s Reny\u00ed connectivity**"
     ]
    },
    {
     "cell_type": "markdown",
     "metadata": {},
     "source": [
      "In the $G(n, p)$ Erdos-Renyi-model, a graph with $n$ edges is constructed by con-\n",
      "necting nodes randomly. Each edge is included in the graph with probability $p$\n",
      "independent from every other edge.\n",
      "Check the statement that almost every graph in $G(n, 2 ln(n)/n)$ is connected.\n",
      "Meaning that as n tends to infinity, the probability of a graph on n vertices\n",
      "with edge probability $2 ln(n)/n$ being connected tends to one.\n",
      "You can proceed as follows:"
     ]
    },
    {
     "cell_type": "markdown",
     "metadata": {},
     "source": [
      "a)  Up to a moderately high number of n (n = 100 should be enough, why\n",
      "not more nodes?) create a sufficiently high number of Erd \u030bos-R \u0301enyi-graphs\n",
      "(around 1000 should be ok).\n",
      "\n",
      "b)  Investigate how many connected components each of these graphs has and\n",
      "average over all graphs for a given n.\n",
      "\n",
      "c)  Plot the average number of connected components over n. Does the behaviour of the number of connected components support the above statement? How long does it take to create an Erd \u030bos-R \u0301enyi-Graph of size n?"
     ]
    },
    {
     "cell_type": "markdown",
     "metadata": {},
     "source": [
      "**E4.2 Scale free degre distribution**"
     ]
    },
    {
     "cell_type": "markdown",
     "metadata": {},
     "source": [
      "**a)** Create a Barabasi-Albert random graph with $|V|>500$ and plot the degree distribution using **plt.hist** or **np.histogram**. "
     ]
    },
    {
     "cell_type": "markdown",
     "metadata": {},
     "source": [
      "**b)** Find out what kind of function fits the degree distribution best. (*Hint: Try semi/doubly logarithmic plots*)"
     ]
    },
    {
     "cell_type": "markdown",
     "metadata": {},
     "source": [
      "**E4.3 Average shortest path length scaling: small world**"
     ]
    },
    {
     "cell_type": "markdown",
     "metadata": {},
     "source": [
      "**a)** networkx provides these two functions to generate radom graphs:\n",
      "*  nx.erdos_renyi_graph(nnode, p)\n",
      "*  nx.barabasi_albert_graph(nnode, m)\n",
      "\n",
      "Find out how the number of edges scales with $p$ and $m$ in these cases respectively. "
     ]
    },
    {
     "cell_type": "markdown",
     "metadata": {},
     "source": [
      "**b)** Write a function that generates one Erdos-Renyi graph and one Barabasi-Albert graph with $N$ nodes and  (approximately) $6N$ edges. Vary $N$ in about 10 stepsizes  between 100 and 500. Check which random graph has smalles average shortest path length: Erdos-Renyi or Barabasi-Albert."
     ]
    },
    {
     "cell_type": "markdown",
     "metadata": {},
     "source": [
      "**E4.4 Robustness of graphs against attacks** "
     ]
    },
    {
     "cell_type": "markdown",
     "metadata": {},
     "source": [
      "Using the same function that you wrote in **E4.3 (b)**, check how many nodes when removed randomly from ER graph and BA graph with similar size and order to make the graph disconnected. Make a remark about which kind of graph is more robust against random attacks aginst nodes."
     ]
    },
    {
     "cell_type": "code",
     "collapsed": false,
     "input": [],
     "language": "python",
     "metadata": {},
     "outputs": []
    }
   ],
   "metadata": {}
  }
 ]
}