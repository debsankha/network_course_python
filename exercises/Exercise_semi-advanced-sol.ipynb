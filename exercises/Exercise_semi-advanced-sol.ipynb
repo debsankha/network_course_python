{
 "metadata": {
  "name": ""
 },
 "nbformat": 3,
 "nbformat_minor": 0,
 "worksheets": [
  {
   "cells": [
    {
     "cell_type": "code",
     "collapsed": false,
     "input": [
      "import networkx as nx\n",
      "%matplotlib inline\n",
      "import pylab\n",
      "pylab.rcParams['figure.figsize'] = (10.0, 8.0)\n",
      "import numpy as np"
     ],
     "language": "python",
     "metadata": {},
     "outputs": [],
     "prompt_number": 2
    },
    {
     "cell_type": "markdown",
     "metadata": {},
     "source": [
      "**E2.1  Shortest Paths and Cycles**\n"
     ]
    },
    {
     "cell_type": "code",
     "collapsed": false,
     "input": [
      "G=nx.read_graphml(\"../data/visualization/small_graph.xml\", node_type=int)#Load the graph"
     ],
     "language": "python",
     "metadata": {},
     "outputs": [],
     "prompt_number": 14
    },
    {
     "cell_type": "markdown",
     "metadata": {},
     "source": [
      "a) How many nodes and ages does G have?"
     ]
    },
    {
     "cell_type": "code",
     "collapsed": false,
     "input": [
      "nodes = G.number_of_nodes()\n",
      "edges = G.number_of_edges()\n",
      "print(\"b) The graph has %d nodes and %d edges\\n\"%(nodes,edges))"
     ],
     "language": "python",
     "metadata": {},
     "outputs": [
      {
       "output_type": "stream",
       "stream": "stdout",
       "text": [
        "b) The graph has 132 nodes and 190 edges\n",
        "\n"
       ]
      }
     ],
     "prompt_number": 15
    },
    {
     "cell_type": "markdown",
     "metadata": {},
     "source": [
      "b) How many cycles does the cycle basis of the graph contain? How Many\n",
      "edges does the longest cycle in the cycle basis have?\n"
     ]
    },
    {
     "cell_type": "code",
     "collapsed": false,
     "input": [
      "basis = nx.cycle_basis(G)\n",
      "entry_length = [len(entry) for entry in basis]\n",
      "print(\"c) The cycle basis of the graph contains %d entries, the longest entry contains %d edges.\\n\"\\\n",
      "%(len(basis),np.asarray(entry_length).max()))\n"
     ],
     "language": "python",
     "metadata": {},
     "outputs": [
      {
       "output_type": "stream",
       "stream": "stdout",
       "text": [
        "c) The cycle basis of the graph contains 59 entries, the longest entry contains 31 edges.\n",
        "\n"
       ]
      }
     ],
     "prompt_number": 16
    },
    {
     "cell_type": "markdown",
     "metadata": {},
     "source": [
      "c) Create a small graph using G.add nodes from() and G.add edges from()\n",
      "containing about 5-10 nodes and edges. Check if the graph has a planar\n",
      "embedding using the following check for planarity:\n"
     ]
    },
    {
     "cell_type": "code",
     "collapsed": false,
     "input": [
      "# function checks if graph G has K (5) or K (3 ,3) as minors ,\n",
      "# returns True / False on planarity\n",
      "import itertools as it\n",
      "from networkx.algorithms import bipartite\n",
      "def is_planar ( G ):\n",
      "    result = True\n",
      "    n = len ( G . nodes ())\n",
      "    if n > 5:\n",
      "        for subnodes in it . combinations ( G . nodes () ,6):\n",
      "            subG = G . subgraph ( subnodes )\n",
      "            # check if the graph G has a subgraph K (3 ,3)\n",
      "            if bipartite.is_bipartite ( G ):\n",
      "                X , Y = bipartite . sets ( G )\n",
      "                if len ( X )==3:\n",
      "                    result = False\n",
      "    if n > 4 and result :\n",
      "        for subnodes in it . combinations ( G . nodes () ,5):\n",
      "            subG = G . subgraph ( subnodes )\n",
      "            # check if the graph G has a subgraph K (5)\n",
      "            if len ( subG . edges ())==10:\n",
      "                result = False\n",
      "    return result\n"
     ],
     "language": "python",
     "metadata": {},
     "outputs": [],
     "prompt_number": 17
    },
    {
     "cell_type": "code",
     "collapsed": false,
     "input": [
      "H = nx.Graph()\n",
      "H.add_nodes_from([1,2,3,4,5])\n",
      "H.add_edges_from([(1,2),(1,4),(2,3),(3,4),(3,5),(4,5)])\n",
      "\n",
      "is_planar(H)"
     ],
     "language": "python",
     "metadata": {},
     "outputs": [
      {
       "metadata": {},
       "output_type": "pyout",
       "prompt_number": 18,
       "text": [
        "True"
       ]
      }
     ],
     "prompt_number": 18
    },
    {
     "cell_type": "markdown",
     "metadata": {},
     "source": [
      "d) Select two (random) nodes in the graph and calculate the length of the\n",
      "shortest path between them.\n"
     ]
    },
    {
     "cell_type": "code",
     "collapsed": false,
     "input": [
      "node1 = np.random.random_integers(0,nodes)\n",
      "node2 = np.random.random_integers(0,nodes)\n",
      "path = nx.shortest_path(G, node1, node2)\n",
      "print(\"e) The shortest path between node %d and node %d contains %d edges.\\n\"\\\n",
      "%(node1, node2, len(path)))"
     ],
     "language": "python",
     "metadata": {},
     "outputs": [
      {
       "output_type": "stream",
       "stream": "stdout",
       "text": [
        "e) The shortest path between node 59 and node 50 contains 14 edges.\n",
        "\n"
       ]
      }
     ],
     "prompt_number": 19
    },
    {
     "cell_type": "markdown",
     "metadata": {},
     "source": [
      "e)  What is the greatest distance between any pair of vertices? (Longest\n",
      "shortest path/diameter)\n",
      "\n"
     ]
    },
    {
     "cell_type": "code",
     "collapsed": false,
     "input": [
      "diameter = nx.diameter(G)\n",
      "print(\"f) The diameter of the graph is %d.\\n\"%diameter)"
     ],
     "language": "python",
     "metadata": {},
     "outputs": [
      {
       "output_type": "stream",
       "stream": "stdout",
       "text": [
        "f) The diameter of the graph is 15.\n",
        "\n"
       ]
      }
     ],
     "prompt_number": 20
    },
    {
     "cell_type": "markdown",
     "metadata": {},
     "source": [
      "f)  Select one node in the graph. Create and plot a histogram of the shortest\n",
      "paths from this node to every other node.\n"
     ]
    },
    {
     "cell_type": "code",
     "collapsed": false,
     "input": [
      "path_lengths = []\n",
      "start = np.random.random_integers(0,nodes)\n",
      "path_lengths = [len(nx.shortest_path(G,start,end)) for end in G.nodes()]\n",
      "\n",
      "plt.title(\"Histogram of shortest paths from node %d to all other nodes\"%start)\n",
      "plt.xlabel(\"Path length / [number of edges]\")\n",
      "plt.ylabel(\"Counts\")\n",
      "plt.hist(path_lengths)\n",
      "plt.show()"
     ],
     "language": "python",
     "metadata": {},
     "outputs": [
      {
       "metadata": {},
       "output_type": "display_data",
       "png": "[encoded data removed]",
       "text": [
        "<matplotlib.figure.Figure at 0x7fd66abf2940>"
       ]
      }
     ],
     "prompt_number": 21
    },
    {
     "cell_type": "markdown",
     "metadata": {},
     "source": [
      "**E2.2 Edge and Node Attributes** "
     ]
    },
    {
     "cell_type": "markdown",
     "metadata": {},
     "source": [
      "a) Which node/edge attributes does the graph have?"
     ]
    },
    {
     "cell_type": "code",
     "collapsed": false,
     "input": [
      "node_attribute_dict = G.node[0]\n",
      "edge_attribute_dict = G.edge[0][16]\n",
      "print(\"a) The graph has the node attributes\",node_attribute_dict.keys())\n",
      "print(\"a) The graph has the edge attributes\",edge_attribute_dict.keys())"
     ],
     "language": "python",
     "metadata": {},
     "outputs": [
      {
       "output_type": "stream",
       "stream": "stdout",
       "text": [
        "a) The graph has the node attributes dict_keys(['y', 'x', 'radius'])\n",
        "a) The graph has the edge attributes dict_keys(['radius'])\n"
       ]
      }
     ],
     "prompt_number": 22
    },
    {
     "cell_type": "markdown",
     "metadata": {},
     "source": [
      "b) Using the node attributes calculate the total length of the graph."
     ]
    },
    {
     "cell_type": "code",
     "collapsed": false,
     "input": [
      "length = 0\n",
      "for e in G.edges():\n",
      "    x1 = G.node[e[0]]['x']\n",
      "    x2 = G.node[e[1]]['x']\n",
      "    y1 = G.node[e[0]]['y']\n",
      "    y2 = G.node[e[1]]['y']\n",
      "    length += np.sqrt((x1 - x2)**2 + (y1 - y2)**2)\n",
      "print(\"\\nb) The total length of the graph is %d.\\n\"%length)"
     ],
     "language": "python",
     "metadata": {},
     "outputs": [
      {
       "output_type": "stream",
       "stream": "stdout",
       "text": [
        "\n",
        "b) The total length of the graph is 19138.\n",
        "\n"
       ]
      }
     ],
     "prompt_number": 23
    },
    {
     "cell_type": "markdown",
     "metadata": {},
     "source": [
      "c) Using the lengths calculated in c) create a new edge attribute called\n",
      "\u201clength\u201d for each edge. Calculate the length of the graph again using\n",
      "the new edge attribute.\n"
     ]
    },
    {
     "cell_type": "code",
     "collapsed": false,
     "input": [
      "for e in G.edges():\n",
      "    x1 = G.node[e[0]]['x']\n",
      "    x2 = G.node[e[1]]['x']\n",
      "    y1 = G.node[e[0]]['y']\n",
      "    y2 = G.node[e[1]]['y']\n",
      "    length = np.sqrt((x1 - x2)**2 + (y1 - y2)**2)\n",
      "    G.edge[e[0]][e[1]].update({'length':length})\n",
      "print(\"c) The graph has the edge attributes\",edge_attribute_dict.keys())\n",
      "length = 0\n",
      "for e in G.edges(data=True):\n",
      "    length += e[2]['length']\n",
      "\n",
      "edge_attribute_dict = G.edge[0][16]    \n",
      "print(\"c) The total length of the graph is %d.\\n\"%length)"
     ],
     "language": "python",
     "metadata": {},
     "outputs": [
      {
       "output_type": "stream",
       "stream": "stdout",
       "text": [
        "c) The graph has the edge attributes dict_keys(['radius', 'length'])\n",
        "c) The total length of the graph is 19138.\n",
        "\n"
       ]
      }
     ],
     "prompt_number": 25
    },
    {
     "cell_type": "markdown",
     "metadata": {},
     "source": [
      "d) Create and plot a histogram of edge lengths.\n"
     ]
    },
    {
     "cell_type": "code",
     "collapsed": false,
     "input": [
      "edge_lengths = [e[2]['length'] for e in G.edges(data=True)]\n",
      "plt.clf()\n",
      "plt.xlabel(\"Edge length\")\n",
      "plt.ylabel(\"Counts\")\n",
      "plt.hist(edge_lengths,bins=20)\n",
      "plt.show()"
     ],
     "language": "python",
     "metadata": {},
     "outputs": [
      {
       "metadata": {},
       "output_type": "display_data",
       "png": "[encoded data removed]",
       "text": [
        "<matplotlib.figure.Figure at 0x7fd66aba64a8>"
       ]
      }
     ],
     "prompt_number": 26
    },
    {
     "cell_type": "code",
     "collapsed": false,
     "input": [],
     "language": "python",
     "metadata": {},
     "outputs": []
    }
   ],
   "metadata": {}
  }
 ]
}