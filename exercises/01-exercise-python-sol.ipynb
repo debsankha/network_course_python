{
 "cells": [
  {
   "cell_type": "code",
   "execution_count": null,
   "metadata": {
    "collapsed": true
   },
   "outputs": [],
   "source": [
    "import numpy as np\n",
    "import matplotlib.pyplot as plt\n",
    "import matplotlib\n",
    "%matplotlib inline\n",
    "%config InlineBackend.figure_format = 'png'\n",
    "matplotlib.rcParams['figure.figsize'] = (15,12)\n",
    "matplotlib.rcParams['xtick.labelsize'] = 35\n",
    "matplotlib.rcParams['ytick.labelsize'] = 35\n",
    "matplotlib.rcParams['font.size'] = 35\n",
    "matplotlib.rcParams['axes.labelsize'] = 50\n",
    "matplotlib.rcParams['axes.facecolor'] = 'white'\n",
    "matplotlib.rcParams['axes.edgecolor'] = 'black'\n",
    "matplotlib.rcParams['axes.linewidth'] = 5\n",
    "matplotlib.rcParams['lines.linewidth'] = 10.0     # line width in points\n",
    "#matplotlib.rcParams['lines.color'] = 'blue'    # has no affect on plot(); see axes.prop_cycle\n",
    "matplotlib.rcParams['image.cmap'] = 'gray'\n",
    "matplotlib.rcParams['lines.markersize'] = 8           #"
   ]
  },
  {
   "cell_type": "markdown",
   "metadata": {},
   "source": [
    "# 1. Party game: squeezed"
   ]
  },
  {
   "cell_type": "markdown",
   "metadata": {},
   "source": [
    "One guessing game, called “squeezed”, is very common in parties. It consists of a player,\n",
    "the chooser, who writes down a number between 00–99. The other players then take\n",
    "turns guessing numbers, with a catch: if one says the chosen number, he loses and has\n",
    "to do something daft. If the guessed number is not the chosen one, it splits the range.\n",
    "The chooser then states the part which contains the chosen number. If the new region\n",
    "only has one number, the chooser is said to be “squeezed” and is punished. An example\n",
    "of gameplay would be:\n",
    "\n",
    "* Chooser writes down (secretly) his number (let’s say, 30).\n",
    " * Chooser: “State a number between 00 and 99.”\n",
    " * Player: “42”.\n",
    " * Chooser: “State a number between 00 and 42.”\n",
    " * Player: “26”.\n",
    " * Chooser: “State a number between 26 and 42.”\n",
    "\n",
    "    $\\vdots$\n",
    "    \n",
    " * Chooser: “State a number between 29 and 32.”\n",
    " * Player: “31”.\n",
    "* Chooser dances some very silly children song.\n",
    "\n",
    "Implement this game in Python, where the computer is the chooser.\n",
    "\n",
    "**Useful:** $\\mathtt{random.randint()}$ and $\\mathtt{input()}$."
   ]
  },
  {
   "cell_type": "code",
   "execution_count": null,
   "metadata": {
    "collapsed": false
   },
   "outputs": [],
   "source": [
    "from random import randint\n",
    "\n",
    "secret_num = randint(0,99)\n",
    "print(secret_num)\n",
    "interval = [0,99]\n",
    "while 1:\n",
    "    guessed_num = int(input(\"State a number between %d and %d: \" % tuple(interval)))\n",
    "    if guessed_num > interval[1]:\n",
    "        print(\"Number is to large, we said between %d and %d\" % tuple(interval))\n",
    "    elif guessed_num < interval[0]:\n",
    "        print(\"Number is to small, we said between %d and %d\" % tuple(interval))\n",
    "    elif guessed_num == secret_num:\n",
    "        print(\"Soooory, you hit the number - haha, you have to kiss your neighbor! Okay, let's say only on the cheek.\")\n",
    "        break\n",
    "    elif guessed_num < secret_num:\n",
    "        interval[0] = guessed_num\n",
    "    elif guessed_num > secret_num:\n",
    "        interval[1] = guessed_num\n",
    "        \n",
    "    if interval[0]+1 == secret_num and interval[1]-1 == secret_num:\n",
    "        print(\"Okay, you won. I'll do the silly dance for you if you provide me with legs.\")\n",
    "        break\n"
   ]
  },
  {
   "cell_type": "markdown",
   "metadata": {},
   "source": [
    "#2 List comprehensions"
   ]
  },
  {
   "cell_type": "code",
   "execution_count": 16,
   "metadata": {
    "collapsed": true
   },
   "outputs": [],
   "source": [
    "numbers = [[1,2,3],[4,5,6],[7,8,9]]\n",
    "words = ['if','i','could','just','go','outside','and','have','an','ice','cream']"
   ]
  },
  {
   "cell_type": "code",
   "execution_count": 17,
   "metadata": {
    "collapsed": false
   },
   "outputs": [
    {
     "name": "stdout",
     "output_type": "stream",
     "text": [
      "[1, 2, 3, 4, 5, 6, 7, 8, 9]\n",
      "[1, 3, 5, 7, 9]\n",
      "['could', 'just', 'go', 'and', 'have', 'an', 'cream']\n",
      "['if', 'i', 'just', 'go', 'and', 'an']\n",
      "[2, 3, 5, 7, 11, 13, 17, 19, 23, 29, 31, 37, 41, 43, 47, 53, 59, 61, 67, 71, 73, 79, 83, 89, 97]\n"
     ]
    }
   ],
   "source": [
    "numbers_flattened = [item for sublist in numbers for item in sublist]\n",
    "print(numbers_flattened)\n",
    "numbers_odd = [n for n in numbers_flattened if n%2 != 0]\n",
    "print(numbers_odd)\n",
    "new_words1 = [w for w in words if 'i' not in w]\n",
    "print(new_words1)\n",
    "vowels = ['a','e','i','o','u']\n",
    "new_words2 = [w for w in words if sum([v in w for v in vowels]) < 2] \n",
    "print(new_words2)\n",
    "prime = [i for i in range(2,100) if 0 not in [i%p for p in range(2,i)]]\n",
    "print(prime)"
   ]
  },
  {
   "cell_type": "markdown",
   "metadata": {},
   "source": [
    "# 2. Cartesian/Polar Coordinates"
   ]
  },
  {
   "cell_type": "markdown",
   "metadata": {},
   "source": [
    "Points may be given in polar $(r, \\theta)$ or cartesian coordinates $(x, y)$, see Figure 1.\n",
    "\n",
    "<img src=\"https://upload.wikimedia.org/wikipedia/commons/1/18/Polar_coordinates_.png\" />\n",
    "\n",
    "Figure 1. Relationship between polar and cartesian coordinates."
   ]
  },
  {
   "cell_type": "markdown",
   "metadata": {},
   "source": [
    "## 2.1 Polar to cartesian\n",
    "Write a function $\\mathtt{pol2cart}$, that takes a tuple $\\mathtt{(r, θ)}$ in polar coordinates and\n",
    "returns a tuple in cartesian coordinates.\n",
    "\n",
    "## 2.2 Cartesian to polar\n",
    "\n",
    "Write the inverse function $\\mathtt{cart2pol}$, such that $\\mathtt{pol2cart( cart2pol( ( x,y) ) )}$ is $\\mathtt{(x, y)}$ for any input $\\mathtt{(x, y)}$.\n",
    "\n",
    "## 2.3 Extend the two functions:\n",
    "such that they can in addition handle lists of tuples."
   ]
  },
  {
   "cell_type": "code",
   "execution_count": null,
   "metadata": {
    "collapsed": false
   },
   "outputs": [],
   "source": [
    "from math import sqrt, atan, cos, sin\n",
    "def pol2cart( pts ):\n",
    "    if isinstance( pts, tuple ):\n",
    "        pts=[pts];\n",
    "    c=[ (r*cos(th), r*sin(th)) for (r,th) in pts ];\n",
    "    return c if len(c)>1 else c[0]\n",
    "\n",
    "def cart2pol( pts ):\n",
    "    if isinstance( pts, tuple ):\n",
    "        pts=[pts];\n",
    "    p=[ (sqrt(x**2+y**2), atan(float(y)/x)) for (x,y) in pts ];\n",
    "    return p if len(p)>1 else p[0]\n",
    "\n",
    "\n",
    "pts=[(2,1), (3.4, 5.3)];\n",
    "print(\"Cartesian : \",pts)\n",
    "print(\"Polar     : \",cart2pol( pts ))\n",
    "print(\"And Back  : \",pol2cart(cart2pol( pts )))\n"
   ]
  },
  {
   "cell_type": "markdown",
   "metadata": {},
   "source": [
    "# 3. A bit of statistics"
   ]
  },
  {
   "cell_type": "markdown",
   "metadata": {},
   "source": [
    "Draw $N=10000$ unifromly distributed random numbers (use `np.random.uniform`, for example). Plot it's histogram and check that it looks uniform. \n",
    "\n",
    "Now draw another such sample, and sum the two. How does the histogram of the sum look like? \n",
    "\n",
    "Continue to sum $3,4,5,..$ such samples and keep plotting the histogram. It should quickly start to look like a gaussian."
   ]
  },
  {
   "cell_type": "code",
   "execution_count": null,
   "metadata": {
    "collapsed": false
   },
   "outputs": [],
   "source": [
    "sample_size = 10000\n",
    "n_max = 100\n",
    "num_hists = 5\n",
    "num_repeats = np.arange(1, n_max, n_max//num_hists)\n",
    "\n",
    "num_repeats = [1,2,5, 10, 20]\n",
    "\n",
    "variances = []\n",
    "for repeat in num_repeats:\n",
    "    data = np.random.uniform(size = (repeat, sample_size))\n",
    "    means = data.mean(axis = 0)\n",
    "    variances.append(means.var())\n",
    "    plt.hist(means, label =\"n = %d\"%repeat,\\\n",
    "             normed = True, histtype = 'step', lw = 3)\n",
    "plt.legend()"
   ]
  },
  {
   "cell_type": "markdown",
   "metadata": {},
   "source": [
    "# 4. Some numpy array"
   ]
  },
  {
   "cell_type": "markdown",
   "metadata": {},
   "source": [
    "## Defeat optical illusions\n",
    "This is a quite famous optical illusion: \n",
    "\n",
    "<img src=\"images/ill.png\"/>\n",
    "\n",
    "The rows are perfectly straight, althought they appear crooked. \n",
    "Use numpy and slicing operations to verify for yourself that they are indeed so.\n",
    "\n",
    "The code for loading the image as a numpy array is provided below:"
   ]
  },
  {
   "cell_type": "code",
   "execution_count": null,
   "metadata": {
    "collapsed": false
   },
   "outputs": [],
   "source": [
    "import scipy.ndimage\n",
    "im = scipy.ndimage.imread(\"images/ill.png\")\n",
    "plt.imshow(im)\n",
    "plt.grid(0)\n",
    "plt.yticks([])\n",
    "plt.xticks([])"
   ]
  },
  {
   "cell_type": "code",
   "execution_count": null,
   "metadata": {
    "collapsed": false
   },
   "outputs": [],
   "source": [
    "plt.imshow(im[:80, :])\n",
    "plt.grid(0)\n",
    "plt.yticks([])\n",
    "plt.xticks([])"
   ]
  },
  {
   "cell_type": "markdown",
   "metadata": {},
   "source": [
    "## Compute $\\pi$:\n",
    "Below is an array which, when plotted, produces an image of a circle.\n",
    "Compute the value of $\\pi$ by counting the number of black pixels in the \n",
    "array."
   ]
  },
  {
   "cell_type": "code",
   "execution_count": null,
   "metadata": {
    "collapsed": false
   },
   "outputs": [],
   "source": [
    "x = np.arange(-1,1, 0.01)\n",
    "y = np.arange(-1,1, 0.01)\n",
    "\n",
    "X,Y = np.meshgrid(x,y)\n",
    "Z = X**2 + Y**2\n",
    "\n",
    "Z = np.where(Z<1, 1, 0)\n",
    "plt.matshow(Z)"
   ]
  },
  {
   "cell_type": "code",
   "execution_count": null,
   "metadata": {
    "collapsed": false
   },
   "outputs": [],
   "source": [
    "np.argwhere(Z).shape[0]*4/Z.size"
   ]
  },
  {
   "cell_type": "markdown",
   "metadata": {},
   "source": [
    "## Twist and turn\n",
    "Convert this image:\n",
    "<img width = \"400px\" src = \"images/mosaic_grey.png\" />\n",
    "\n",
    "to\n",
    "\n",
    "<img width = \"400px\" src = \"images/mosaic_conv.png\" />"
   ]
  },
  {
   "cell_type": "code",
   "execution_count": null,
   "metadata": {
    "collapsed": false
   },
   "outputs": [],
   "source": [
    "mos = scipy.ndimage.imread(\"images/mosaic_grey.png\")\n",
    "plt.imshow(mos)"
   ]
  },
  {
   "cell_type": "code",
   "execution_count": null,
   "metadata": {
    "collapsed": false
   },
   "outputs": [],
   "source": [
    "l = mos.shape[0]\n",
    "N = mos.copy()\n",
    "N[:l//2,:l//2] = mos[l//2:0:-1,l//2:0:-1]\n",
    "N[l//2:,l//2:] = mos[-1:l//2-1:-1,-1:l//2-1:-1]\n",
    "N[l//2:,:l//2] = mos[-1:l//2-1:-1,l//2:0:-1]\n",
    "N[:l//2,l//2:] = mos[l//2:0:-1,-1:l//2-1:-1]\n",
    "\n",
    "N = np.where(N==255,0,N)\n",
    "#N[l//4:3*l//4, l//4:3*l//4] = 1-N[l//4:3*l//4, l//4:3*l//4]\n",
    "plt.matshow(N)\n",
    "plt.axis('off')\n",
    "plt.savefig(\"images/mosaic_conv.png\", bbox_inches = 'tight')\n",
    "plt.grid(False)"
   ]
  },
  {
   "cell_type": "code",
   "execution_count": null,
   "metadata": {
    "collapsed": true
   },
   "outputs": [],
   "source": []
  }
 ],
 "metadata": {
  "kernelspec": {
   "display_name": "Python 3",
   "language": "python",
   "name": "python3"
  },
  "language_info": {
   "codemirror_mode": {
    "name": "ipython",
    "version": 3
   },
   "file_extension": ".py",
   "mimetype": "text/x-python",
   "name": "python",
   "nbconvert_exporter": "python",
   "pygments_lexer": "ipython3",
   "version": "3.5.1"
  }
 },
 "nbformat": 4,
 "nbformat_minor": 0
}
