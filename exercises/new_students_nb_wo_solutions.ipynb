{
 "metadata": {
  "name": "",
  "signature": "sha256:f95e93d547bf0d65f7898373f2b279c399c716b585fcb2a586f7bc35e1d81970"
 },
 "nbformat": 3,
 "nbformat_minor": 0,
 "worksheets": [
  {
   "cells": [
    {
     "cell_type": "heading",
     "level": 1,
     "metadata": {},
     "source": [
      "Introduction to Interactive Network Analysis and Visualization with Python"
     ]
    },
    {
     "cell_type": "markdown",
     "metadata": {},
     "source": [
      "*a GGNB short method course offered by Debsankha Manik and Johannes Gr\u00e4wer at the MPI for Dynamics and Self-Organization in September 2014*"
     ]
    },
    {
     "cell_type": "heading",
     "level": 4,
     "metadata": {},
     "source": [
      "Student's notebook version"
     ]
    },
    {
     "cell_type": "markdown",
     "metadata": {},
     "source": [
      "Schedule\n",
      "-------\n",
      "\n",
      "- 10:00 h - 10:30 h Getting started (30 min)\n",
      "- 10:30 h - 11:30 h Graph Theory (50 min)\n",
      "- 11:30 h - 12:30 h Python syntax (50 min)\n",
      "\n",
      "- 12:30 h - 13:30 h Lunch Break (60 min)\n",
      "\n",
      "- 13:30 h - 14:00 h *Exercise E1 (30 min)*\n",
      "- 14:00 h - 14:30 h Numpy, Matplotlib, NetworkX (30 min)\n",
      "- 14:30 h - 15:00 h *Exercise E2 (30 min)*\n",
      "- 15:00 h - 15:30 h Network analysis I (30 min)\n",
      "- 15:30 h - 16:00 h *Exercise E3 & E4 (30 min)*\n",
      "- 16:00 h - 16:45 h Network analysis II (45 min)\n",
      "- 16:45 h - 17:15 h *Exercise E5 (30 min)*\n",
      "- 17:15 h - 17:45 h Wrap up (30 min)\n"
     ]
    },
    {
     "cell_type": "heading",
     "level": 2,
     "metadata": {},
     "source": [
      "1. Getting started"
     ]
    },
    {
     "cell_type": "markdown",
     "metadata": {},
     "source": [
      "This is an [IPython Notebook](http://ipython.org/notebook.html) file, that will guide you through the course exercises, covering the material in the lecturer's notebook version. \n",
      "> The IPython Notebook is a web-based interactive computational environment where you can combine code execution, text, mathematics, plots and rich media into a single document"
     ]
    },
    {
     "cell_type": "markdown",
     "metadata": {},
     "source": [
      "You will type into this file, using the embedded interactive Python shell to run Python commands and to receive the output they might produce within this environment.\n",
      "\n",
      "All you need to know about it for the moment is the fact, that it is organized in so called cells of different type (typically either \"Code\" for executable Python code or \"Markdown\" for HTML-like text) and that selected cells can be \"run\" by clicking on the play symbol button or typing Shift-Enter.\n",
      "\n",
      "If you want to find out more about IPython Notebook, have a look at its [documentation](http://ipython.org/ipython-doc/stable/interactive/htmlnotebook.html)."
     ]
    },
    {
     "cell_type": "heading",
     "level": 4,
     "metadata": {},
     "source": [
      "Accessing help in ipython notebook:"
     ]
    },
    {
     "cell_type": "code",
     "collapsed": false,
     "input": [
      "l=[1,2,3]"
     ],
     "language": "python",
     "metadata": {},
     "outputs": [],
     "prompt_number": 5
    },
    {
     "cell_type": "markdown",
     "metadata": {},
     "source": [
      "brief help:"
     ]
    },
    {
     "cell_type": "code",
     "collapsed": false,
     "input": [
      "l?"
     ],
     "language": "python",
     "metadata": {},
     "outputs": [],
     "prompt_number": 10
    },
    {
     "cell_type": "markdown",
     "metadata": {},
     "source": [
      "`l`.`TAB` shows what methods can be applied to it."
     ]
    },
    {
     "cell_type": "markdown",
     "metadata": {},
     "source": [
      "`func SHIFT+TAB` shows what arguments the function `func` accepts"
     ]
    },
    {
     "cell_type": "heading",
     "level": 3,
     "metadata": {},
     "source": [
      "Exercise (Python syntax)"
     ]
    },
    {
     "cell_type": "markdown",
     "metadata": {},
     "source": [
      "**E1.1** Write a function that accepts a list as argument, adds up the numbers and returns the sum. For example:\n",
      "\n",
      "```python\n",
      " In [1] mysum([1,4,5])\n",
      "Out [1] 10\n",
      "    ```"
     ]
    },
    {
     "cell_type": "markdown",
     "metadata": {},
     "source": [
      "**E1.2** Create a list of tuples:\n",
      "```\n",
      "tuplist=[('a',1),('b',2),('c',3)]\n",
      "```\n",
      "\n",
      "Now create an empty dictionary, insert the elements of `tuplist` as key->value pairs. e.g.:\n",
      "```python\n",
      " In[2] print d['a']\n",
      "Out[2] 1\n",
      "```"
     ]
    },
    {
     "cell_type": "heading",
     "level": 3,
     "metadata": {},
     "source": [
      "Exercise (reading data and basic plotting)"
     ]
    },
    {
     "cell_type": "markdown",
     "metadata": {},
     "source": [
      "**E2.1** Load the example network in form of the given edgelist text file `'data/random_subgraph.txt'` into a NetworkX graph using <code>nx.read_edgelist()</code>."
     ]
    },
    {
     "cell_type": "markdown",
     "metadata": {},
     "source": [
      "**E2.2** Explore this NetworkX graph using its methods <code>Graph.nodes()</code>, <code>Graph.edges()</code>, <code>Graph.number_of_nodes()</code>, <code>Graph.number_of_edges()</code>, <code>Graph.neighbors()</code> or the index notation (e.g. <code>Graph['ABC']</code>)."
     ]
    },
    {
     "cell_type": "markdown",
     "metadata": {},
     "source": [
      "**E2.3** Plot the network using <code>nx.draw()</code> and <code>nx.draw_networkx()</code>."
     ]
    },
    {
     "cell_type": "heading",
     "level": 2,
     "metadata": {},
     "source": [
      "2. Network Analysis"
     ]
    },
    {
     "cell_type": "heading",
     "level": 3,
     "metadata": {},
     "source": [
      "Exercise (degree distribution)"
     ]
    },
    {
     "cell_type": "markdown",
     "metadata": {},
     "source": [
      "**E3.1** Explore the node degrees of the network using <code>Graph.degree()</code> and <code>nx.degree_histogram()</code>.\n",
      "\n",
      "**E3.2** Calculate the average degree of the network using <code>Graph.degree().values()</code>.\n",
      "\n",
      "**E3.3** Plot the degree distribution of the network using <code>plt.hist()</code> and <code>Graph.degree().values()</code>."
     ]
    },
    {
     "cell_type": "heading",
     "level": 3,
     "metadata": {},
     "source": [
      "Exercise (shortest paths)"
     ]
    },
    {
     "cell_type": "markdown",
     "metadata": {},
     "source": [
      "**E4.1** Find a flight route from Beirut, Lebanon (<code>'BEY'</code>) to Portland, US (<code>'PWM'</code>) with as little intermediate airports as possible using <code>nx.shortest_path()</code>.\n",
      "\n",
      "**E4.2** Assume the the two big hubs Los Angeles, US and Frankfurt, Germany are shut down. Find an alternative shortest flight route from Beirut to Portland using a for loop over the generator <code>nx.all_shortest_paths()</code> or the <code>Graph.remove_node()</code> method."
     ]
    },
    {
     "cell_type": "heading",
     "level": 3,
     "metadata": {},
     "source": [
      "Exercise (centrality)"
     ]
    },
    {
     "cell_type": "markdown",
     "metadata": {},
     "source": [
      "**E5.1** determine the edge betweenness centrality of the graph `G` by using the function `nx.betweenness_centrality`. \n",
      "\n",
      "**E5.2** plot a histogram of the above-mentioned centralities. \n",
      "\n",
      "**E5.3** generate a visualization of the network such that each node is coluored according to its centrality\n",
      "\n",
      "Hint: Use\n",
      "```python\n",
      "nx.draw(G, node_color=<list_of_floats>, cmap=plt.get_cmap('cool'))\n",
      "```"
     ]
    },
    {
     "cell_type": "markdown",
     "metadata": {},
     "source": [
      "**E6** Repeat the steps of **E5.2**, but use a different measure of centrality: maybe `nx.closeness_centrality`? \n",
      "Try to rationalize the visualizations based on the definitions of centrality measures you have learnt. "
     ]
    },
    {
     "cell_type": "heading",
     "level": 2,
     "metadata": {},
     "source": [
      "References and helpful resources"
     ]
    },
    {
     "cell_type": "markdown",
     "metadata": {},
     "source": [
      "* [Python documentation](https://docs.python.org/2.7/library/index.html)\n",
      "* [networkx documentation](http://networkx.github.io/documentation/networkx-1.9/)\n",
      "* [cool thingsyou can do with numpy](http://wiki.scipy.org/Tentative_NumPy_Tutorial)\n",
      "* [great Q/A forum where everybody is encouraged to ask questions](http://stackoverflow.com/)\n",
      "* [Dive into python: a very good online book](http://www.diveintopython.net/)\n",
      "* [online interactive tutorial](http://www.learnpython.org/)"
     ]
    }
   ],
   "metadata": {}
  }
 ]
}