{
 "cells": [
  {
   "cell_type": "code",
   "execution_count": 3,
   "metadata": {
    "collapsed": false
   },
   "outputs": [],
   "source": [
    "import networkx as nx\n",
    "%matplotlib inline\n",
    "import matplotlib\n",
    "matplotlib.rcParams['figure.figsize'] = (10.0, 8.0)\n",
    "import numpy as np"
   ]
  },
  {
   "cell_type": "code",
   "execution_count": 4,
   "metadata": {
    "collapsed": false
   },
   "outputs": [],
   "source": [
    "AG=nx.read_gpickle(\"../data/airport/smaller_airportnet.pickle\")"
   ]
  },
  {
   "cell_type": "markdown",
   "metadata": {},
   "source": [
    "**E1.1** Explore the graph **AG** using the methods:\n",
    "*  AG.nodes()\n",
    "*  AG.edges()\n",
    "*  AG.number_of_nodes()\n",
    "\n",
    "etc.\n",
    "\n",
    "Draw the graph using nx.draw"
   ]
  },
  {
   "cell_type": "code",
   "execution_count": 5,
   "metadata": {
    "collapsed": false
   },
   "outputs": [
    {
     "data": {
      "text/plain": [
       "['SAN',\n",
       " 'PWM',\n",
       " 'VCE',\n",
       " 'LAX',\n",
       " 'ADD',\n",
       " 'BEY',\n",
       " 'RIC',\n",
       " 'CMH',\n",
       " 'CDG',\n",
       " 'MLA',\n",
       " 'LGW',\n",
       " 'YYZ',\n",
       " 'PTY',\n",
       " 'TIJ',\n",
       " 'FRA',\n",
       " 'SNN',\n",
       " 'MGA',\n",
       " 'CJS']"
      ]
     },
     "execution_count": 5,
     "metadata": {},
     "output_type": "execute_result"
    }
   ],
   "source": [
    "AG.nodes()"
   ]
  },
  {
   "cell_type": "code",
   "execution_count": 6,
   "metadata": {
    "collapsed": false
   },
   "outputs": [
    {
     "data": {
      "text/plain": [
       "[('SAN', 'LGW'),\n",
       " ('SAN', 'YYZ'),\n",
       " ('SAN', 'LAX'),\n",
       " ('SAN', 'RIC'),\n",
       " ('SAN', 'FRA'),\n",
       " ('SAN', 'CMH'),\n",
       " ('PWM', 'RIC'),\n",
       " ('PWM', 'CMH'),\n",
       " ('VCE', 'CDG'),\n",
       " ('VCE', 'MLA'),\n",
       " ('VCE', 'LGW'),\n",
       " ('VCE', 'FRA'),\n",
       " ('VCE', 'LAX'),\n",
       " ('LAX', 'MGA'),\n",
       " ('LAX', 'CDG'),\n",
       " ('LAX', 'CMH'),\n",
       " ('LAX', 'RIC'),\n",
       " ('LAX', 'LGW'),\n",
       " ('LAX', 'YYZ'),\n",
       " ('LAX', 'PTY'),\n",
       " ('LAX', 'TIJ'),\n",
       " ('LAX', 'FRA'),\n",
       " ('LAX', 'SNN'),\n",
       " ('ADD', 'CDG'),\n",
       " ('ADD', 'BEY'),\n",
       " ('ADD', 'FRA'),\n",
       " ('BEY', 'CDG'),\n",
       " ('BEY', 'FRA'),\n",
       " ('RIC', 'CMH'),\n",
       " ('RIC', 'YYZ'),\n",
       " ('CMH', 'YYZ'),\n",
       " ('CDG', 'PTY'),\n",
       " ('CDG', 'LGW'),\n",
       " ('CDG', 'TIJ'),\n",
       " ('CDG', 'YYZ'),\n",
       " ('CDG', 'FRA'),\n",
       " ('CDG', 'SNN'),\n",
       " ('MLA', 'FRA'),\n",
       " ('MLA', 'LGW'),\n",
       " ('LGW', 'YYZ'),\n",
       " ('LGW', 'FRA'),\n",
       " ('LGW', 'SNN'),\n",
       " ('YYZ', 'SNN'),\n",
       " ('YYZ', 'FRA'),\n",
       " ('PTY', 'MGA'),\n",
       " ('TIJ', 'CJS')]"
      ]
     },
     "execution_count": 6,
     "metadata": {},
     "output_type": "execute_result"
    }
   ],
   "source": [
    "AG.edges()"
   ]
  },
  {
   "cell_type": "code",
   "execution_count": 7,
   "metadata": {
    "collapsed": false
   },
   "outputs": [
    {
     "name": "stderr",
     "output_type": "stream",
     "text": [
      "/home/dmanik/venvs/teaching/lib/python3.4/site-packages/matplotlib/collections.py:650: FutureWarning: elementwise comparison failed; returning scalar instead, but in the future will perform elementwise comparison\n",
      "  if self._edgecolors_original != str('face'):\n",
      "/home/dmanik/venvs/teaching/lib/python3.4/site-packages/matplotlib/collections.py:590: FutureWarning: elementwise comparison failed; returning scalar instead, but in the future will perform elementwise comparison\n",
      "  if self._edgecolors == str('face'):\n"
     ]
    },
    {
     "data": {
      "image/svg+xml": [
       "<?xml version=\"1.0\" encoding=\"utf-8\" standalone=\"no\"?>\n",
       "<!DOCTYPE svg PUBLIC \"-//W3C//DTD SVG 1.1//EN\"\n",
       "  \"http://www.w3.org/Graphics/SVG/1.1/DTD/svg11.dtd\">\n",
       "<!-- Created with matplotlib (http://matplotlib.org/) -->\n",
       "<svg height=\"614pt\" version=\"1.1\" viewBox=\"0 0 771 614\" width=\"771pt\" xmlns=\"http://www.w3.org/2000/svg\" xmlns:xlink=\"http://www.w3.org/1999/xlink\">\n",
       " <defs>\n",
       "  <style type=\"text/css\">\n",
       "*{stroke-linecap:butt;stroke-linejoin:round;}\n",
       "  </style>\n",
       " </defs>\n",
       " <g id=\"figure_1\">\n",
       "  <g id=\"patch_1\">\n",
       "   <path d=\"\n",
       "M0 614.179\n",
       "L771.543 614.179\n",
       "L771.543 0\n",
       "L0 0\n",
       "z\n",
       "\" style=\"fill:#ffffff;\"/>\n",
       "  </g>\n",
       "  <g id=\"axes_1\">\n",
       "   <g id=\"LineCollection_1\">\n",
       "    <path clip-path=\"url(#p1c41057bfe)\" d=\"\n",
       "M183.831 109.084\n",
       "L196.955 114.727\" style=\"fill:none;stroke:#000000;\"/>\n",
       "    <path clip-path=\"url(#p1c41057bfe)\" d=\"\n",
       "M183.831 109.084\n",
       "L192.415 114.498\" style=\"fill:none;stroke:#000000;\"/>\n",
       "    <path clip-path=\"url(#p1c41057bfe)\" d=\"\n",
       "M183.831 109.084\n",
       "L211.971 129.387\" style=\"fill:none;stroke:#000000;\"/>\n",
       "    <path clip-path=\"url(#p1c41057bfe)\" d=\"\n",
       "M183.831 109.084\n",
       "L185.463 119.739\" style=\"fill:none;stroke:#000000;\"/>\n",
       "    <path clip-path=\"url(#p1c41057bfe)\" d=\"\n",
       "M183.831 109.084\n",
       "L194.302 110.288\" style=\"fill:none;stroke:#000000;\"/>\n",
       "    <path clip-path=\"url(#p1c41057bfe)\" d=\"\n",
       "M183.831 109.084\n",
       "L181.512 118.27\" style=\"fill:none;stroke:#000000;\"/>\n",
       "    <path clip-path=\"url(#p1c41057bfe)\" d=\"\n",
       "M156.694 113.721\n",
       "L185.463 119.739\" style=\"fill:none;stroke:#000000;\"/>\n",
       "    <path clip-path=\"url(#p1c41057bfe)\" d=\"\n",
       "M156.694 113.721\n",
       "L181.512 118.27\" style=\"fill:none;stroke:#000000;\"/>\n",
       "    <path clip-path=\"url(#p1c41057bfe)\" d=\"\n",
       "M206.776 117.073\n",
       "L198.645 111.254\" style=\"fill:none;stroke:#000000;\"/>\n",
       "    <path clip-path=\"url(#p1c41057bfe)\" d=\"\n",
       "M206.776 117.073\n",
       "L195.532 97.4816\" style=\"fill:none;stroke:#000000;\"/>\n",
       "    <path clip-path=\"url(#p1c41057bfe)\" d=\"\n",
       "M206.776 117.073\n",
       "L196.955 114.727\" style=\"fill:none;stroke:#000000;\"/>\n",
       "    <path clip-path=\"url(#p1c41057bfe)\" d=\"\n",
       "M206.776 117.073\n",
       "L194.302 110.288\" style=\"fill:none;stroke:#000000;\"/>\n",
       "    <path clip-path=\"url(#p1c41057bfe)\" d=\"\n",
       "M206.776 117.073\n",
       "L211.971 129.387\" style=\"fill:none;stroke:#000000;\"/>\n",
       "    <path clip-path=\"url(#p1c41057bfe)\" d=\"\n",
       "M211.971 129.387\n",
       "L206.245 135.409\" style=\"fill:none;stroke:#000000;\"/>\n",
       "    <path clip-path=\"url(#p1c41057bfe)\" d=\"\n",
       "M211.971 129.387\n",
       "L198.645 111.254\" style=\"fill:none;stroke:#000000;\"/>\n",
       "    <path clip-path=\"url(#p1c41057bfe)\" d=\"\n",
       "M211.971 129.387\n",
       "L181.512 118.27\" style=\"fill:none;stroke:#000000;\"/>\n",
       "    <path clip-path=\"url(#p1c41057bfe)\" d=\"\n",
       "M211.971 129.387\n",
       "L185.463 119.739\" style=\"fill:none;stroke:#000000;\"/>\n",
       "    <path clip-path=\"url(#p1c41057bfe)\" d=\"\n",
       "M211.971 129.387\n",
       "L196.955 114.727\" style=\"fill:none;stroke:#000000;\"/>\n",
       "    <path clip-path=\"url(#p1c41057bfe)\" d=\"\n",
       "M211.971 129.387\n",
       "L192.415 114.498\" style=\"fill:none;stroke:#000000;\"/>\n",
       "    <path clip-path=\"url(#p1c41057bfe)\" d=\"\n",
       "M211.971 129.387\n",
       "L220.675 127.372\" style=\"fill:none;stroke:#000000;\"/>\n",
       "    <path clip-path=\"url(#p1c41057bfe)\" d=\"\n",
       "M211.971 129.387\n",
       "L503.41 388.426\" style=\"fill:none;stroke:#000000;\"/>\n",
       "    <path clip-path=\"url(#p1c41057bfe)\" d=\"\n",
       "M211.971 129.387\n",
       "L194.302 110.288\" style=\"fill:none;stroke:#000000;\"/>\n",
       "    <path clip-path=\"url(#p1c41057bfe)\" d=\"\n",
       "M211.971 129.387\n",
       "L196.116 119.064\" style=\"fill:none;stroke:#000000;\"/>\n",
       "    <path clip-path=\"url(#p1c41057bfe)\" d=\"\n",
       "M188.379 100.975\n",
       "L198.645 111.254\" style=\"fill:none;stroke:#000000;\"/>\n",
       "    <path clip-path=\"url(#p1c41057bfe)\" d=\"\n",
       "M188.379 100.975\n",
       "L183.467 95.0788\" style=\"fill:none;stroke:#000000;\"/>\n",
       "    <path clip-path=\"url(#p1c41057bfe)\" d=\"\n",
       "M188.379 100.975\n",
       "L194.302 110.288\" style=\"fill:none;stroke:#000000;\"/>\n",
       "    <path clip-path=\"url(#p1c41057bfe)\" d=\"\n",
       "M183.467 95.0788\n",
       "L198.645 111.254\" style=\"fill:none;stroke:#000000;\"/>\n",
       "    <path clip-path=\"url(#p1c41057bfe)\" d=\"\n",
       "M183.467 95.0788\n",
       "L194.302 110.288\" style=\"fill:none;stroke:#000000;\"/>\n",
       "    <path clip-path=\"url(#p1c41057bfe)\" d=\"\n",
       "M185.463 119.739\n",
       "L181.512 118.27\" style=\"fill:none;stroke:#000000;\"/>\n",
       "    <path clip-path=\"url(#p1c41057bfe)\" d=\"\n",
       "M185.463 119.739\n",
       "L192.415 114.498\" style=\"fill:none;stroke:#000000;\"/>\n",
       "    <path clip-path=\"url(#p1c41057bfe)\" d=\"\n",
       "M181.512 118.27\n",
       "L192.415 114.498\" style=\"fill:none;stroke:#000000;\"/>\n",
       "    <path clip-path=\"url(#p1c41057bfe)\" d=\"\n",
       "M198.645 111.254\n",
       "L220.675 127.372\" style=\"fill:none;stroke:#000000;\"/>\n",
       "    <path clip-path=\"url(#p1c41057bfe)\" d=\"\n",
       "M198.645 111.254\n",
       "L196.955 114.727\" style=\"fill:none;stroke:#000000;\"/>\n",
       "    <path clip-path=\"url(#p1c41057bfe)\" d=\"\n",
       "M198.645 111.254\n",
       "L503.41 388.426\" style=\"fill:none;stroke:#000000;\"/>\n",
       "    <path clip-path=\"url(#p1c41057bfe)\" d=\"\n",
       "M198.645 111.254\n",
       "L192.415 114.498\" style=\"fill:none;stroke:#000000;\"/>\n",
       "    <path clip-path=\"url(#p1c41057bfe)\" d=\"\n",
       "M198.645 111.254\n",
       "L194.302 110.288\" style=\"fill:none;stroke:#000000;\"/>\n",
       "    <path clip-path=\"url(#p1c41057bfe)\" d=\"\n",
       "M198.645 111.254\n",
       "L196.116 119.064\" style=\"fill:none;stroke:#000000;\"/>\n",
       "    <path clip-path=\"url(#p1c41057bfe)\" d=\"\n",
       "M195.532 97.4816\n",
       "L194.302 110.288\" style=\"fill:none;stroke:#000000;\"/>\n",
       "    <path clip-path=\"url(#p1c41057bfe)\" d=\"\n",
       "M195.532 97.4816\n",
       "L196.955 114.727\" style=\"fill:none;stroke:#000000;\"/>\n",
       "    <path clip-path=\"url(#p1c41057bfe)\" d=\"\n",
       "M196.955 114.727\n",
       "L192.415 114.498\" style=\"fill:none;stroke:#000000;\"/>\n",
       "    <path clip-path=\"url(#p1c41057bfe)\" d=\"\n",
       "M196.955 114.727\n",
       "L194.302 110.288\" style=\"fill:none;stroke:#000000;\"/>\n",
       "    <path clip-path=\"url(#p1c41057bfe)\" d=\"\n",
       "M196.955 114.727\n",
       "L196.116 119.064\" style=\"fill:none;stroke:#000000;\"/>\n",
       "    <path clip-path=\"url(#p1c41057bfe)\" d=\"\n",
       "M192.415 114.498\n",
       "L196.116 119.064\" style=\"fill:none;stroke:#000000;\"/>\n",
       "    <path clip-path=\"url(#p1c41057bfe)\" d=\"\n",
       "M192.415 114.498\n",
       "L194.302 110.288\" style=\"fill:none;stroke:#000000;\"/>\n",
       "    <path clip-path=\"url(#p1c41057bfe)\" d=\"\n",
       "M220.675 127.372\n",
       "L206.245 135.409\" style=\"fill:none;stroke:#000000;\"/>\n",
       "    <path clip-path=\"url(#p1c41057bfe)\" d=\"\n",
       "M503.41 388.426\n",
       "L636.238 506.507\" style=\"fill:none;stroke:#000000;\"/>\n",
       "   </g>\n",
       "   <g id=\"PathCollection_1\">\n",
       "    <defs>\n",
       "     <path d=\"\n",
       "M0 8.66025\n",
       "C2.29673 8.66025 4.49969 7.74776 6.12372 6.12372\n",
       "C7.74776 4.49969 8.66025 2.29673 8.66025 0\n",
       "C8.66025 -2.29673 7.74776 -4.49969 6.12372 -6.12372\n",
       "C4.49969 -7.74776 2.29673 -8.66025 0 -8.66025\n",
       "C-2.29673 -8.66025 -4.49969 -7.74776 -6.12372 -6.12372\n",
       "C-7.74776 -4.49969 -8.66025 -2.29673 -8.66025 0\n",
       "C-8.66025 2.29673 -7.74776 4.49969 -6.12372 6.12372\n",
       "C-4.49969 7.74776 -2.29673 8.66025 0 8.66025\n",
       "z\n",
       "\" id=\"m34022a7bc3\" style=\"stroke:#000000;stroke-width:0.3;\"/>\n",
       "    </defs>\n",
       "    <g clip-path=\"url(#p1c41057bfe)\">\n",
       "     <use style=\"fill:#ff0000;stroke:#000000;stroke-width:0.3;\" x=\"183.831437197\" xlink:href=\"#m34022a7bc3\" y=\"109.083827873\"/>\n",
       "     <use style=\"fill:#ff0000;stroke:#000000;stroke-width:0.3;\" x=\"156.694375\" xlink:href=\"#m34022a7bc3\" y=\"113.720734431\"/>\n",
       "     <use style=\"fill:#ff0000;stroke:#000000;stroke-width:0.3;\" x=\"206.776395712\" xlink:href=\"#m34022a7bc3\" y=\"117.073335406\"/>\n",
       "     <use style=\"fill:#ff0000;stroke:#000000;stroke-width:0.3;\" x=\"211.970813241\" xlink:href=\"#m34022a7bc3\" y=\"129.386597806\"/>\n",
       "     <use style=\"fill:#ff0000;stroke:#000000;stroke-width:0.3;\" x=\"188.379007834\" xlink:href=\"#m34022a7bc3\" y=\"100.975207831\"/>\n",
       "     <use style=\"fill:#ff0000;stroke:#000000;stroke-width:0.3;\" x=\"183.467111896\" xlink:href=\"#m34022a7bc3\" y=\"95.0788392857\"/>\n",
       "     <use style=\"fill:#ff0000;stroke:#000000;stroke-width:0.3;\" x=\"185.463254788\" xlink:href=\"#m34022a7bc3\" y=\"119.739191981\"/>\n",
       "     <use style=\"fill:#ff0000;stroke:#000000;stroke-width:0.3;\" x=\"181.511568201\" xlink:href=\"#m34022a7bc3\" y=\"118.270255793\"/>\n",
       "     <use style=\"fill:#ff0000;stroke:#000000;stroke-width:0.3;\" x=\"198.64548887\" xlink:href=\"#m34022a7bc3\" y=\"111.253648933\"/>\n",
       "     <use style=\"fill:#ff0000;stroke:#000000;stroke-width:0.3;\" x=\"195.532099586\" xlink:href=\"#m34022a7bc3\" y=\"97.4816391981\"/>\n",
       "     <use style=\"fill:#ff0000;stroke:#000000;stroke-width:0.3;\" x=\"196.954999468\" xlink:href=\"#m34022a7bc3\" y=\"114.726906517\"/>\n",
       "     <use style=\"fill:#ff0000;stroke:#000000;stroke-width:0.3;\" x=\"192.415425415\" xlink:href=\"#m34022a7bc3\" y=\"114.498195746\"/>\n",
       "     <use style=\"fill:#ff0000;stroke:#000000;stroke-width:0.3;\" x=\"220.674763974\" xlink:href=\"#m34022a7bc3\" y=\"127.371628975\"/>\n",
       "     <use style=\"fill:#ff0000;stroke:#000000;stroke-width:0.3;\" x=\"503.409950081\" xlink:href=\"#m34022a7bc3\" y=\"388.426461179\"/>\n",
       "     <use style=\"fill:#ff0000;stroke:#000000;stroke-width:0.3;\" x=\"194.301972855\" xlink:href=\"#m34022a7bc3\" y=\"110.287681683\"/>\n",
       "     <use style=\"fill:#ff0000;stroke:#000000;stroke-width:0.3;\" x=\"196.116085066\" xlink:href=\"#m34022a7bc3\" y=\"119.064395839\"/>\n",
       "     <use style=\"fill:#ff0000;stroke:#000000;stroke-width:0.3;\" x=\"206.245014686\" xlink:href=\"#m34022a7bc3\" y=\"135.408966164\"/>\n",
       "     <use style=\"fill:#ff0000;stroke:#000000;stroke-width:0.3;\" x=\"636.23764822\" xlink:href=\"#m34022a7bc3\" y=\"506.507410714\"/>\n",
       "    </g>\n",
       "   </g>\n",
       "  </g>\n",
       " </g>\n",
       " <defs>\n",
       "  <clipPath id=\"p1c41057bfe\">\n",
       "   <rect height=\"576.0\" width=\"720.0\" x=\"36.694375\" y=\"12.793125\"/>\n",
       "  </clipPath>\n",
       " </defs>\n",
       "</svg>\n"
      ],
      "text/plain": [
       "<matplotlib.figure.Figure at 0x7f18a61a3da0>"
      ]
     },
     "metadata": {},
     "output_type": "display_data"
    }
   ],
   "source": [
    "nx.draw(AG)"
   ]
  },
  {
   "cell_type": "markdown",
   "metadata": {},
   "source": [
    "**E1.2**  Find out the average distance between all pairs of airports in **AG**\n"
   ]
  },
  {
   "cell_type": "code",
   "execution_count": 8,
   "metadata": {
    "collapsed": false
   },
   "outputs": [
    {
     "data": {
      "text/plain": [
       "1.9673202614379084"
      ]
     },
     "execution_count": 8,
     "metadata": {},
     "output_type": "execute_result"
    }
   ],
   "source": [
    "np.average([nx.shortest_path_length(AG, source=u, target=v) for u in AG.nodes() for v in AG.nodes() if u!=v])"
   ]
  },
  {
   "cell_type": "markdown",
   "metadata": {},
   "source": [
    "**E1.3** Find out which airport in **AG** has the highest number of neighbours. "
   ]
  },
  {
   "cell_type": "code",
   "execution_count": 9,
   "metadata": {
    "collapsed": false
   },
   "outputs": [
    {
     "name": "stdout",
     "output_type": "stream",
     "text": [
      "LAX\n"
     ]
    }
   ],
   "source": [
    "maxnei=0\n",
    "node_w_max_nei=None\n",
    "\n",
    "for n in AG.nodes():\n",
    "    numnei=len(AG[n])\n",
    "    if numnei>maxnei:\n",
    "        maxnei=numnei\n",
    "        node_w_max_nei=n\n",
    "\n",
    "print(node_w_max_nei)"
   ]
  },
  {
   "cell_type": "markdown",
   "metadata": {},
   "source": [
    "**E1.4** Now remove that node from **AG**, and redo **E1.2**."
   ]
  },
  {
   "cell_type": "code",
   "execution_count": 10,
   "metadata": {
    "collapsed": false
   },
   "outputs": [],
   "source": [
    "AG.remove_node('LAX')"
   ]
  },
  {
   "cell_type": "code",
   "execution_count": 11,
   "metadata": {
    "collapsed": false
   },
   "outputs": [
    {
     "data": {
      "text/plain": [
       "2.2794117647058822"
      ]
     },
     "execution_count": 11,
     "metadata": {},
     "output_type": "execute_result"
    }
   ],
   "source": [
    "np.average([nx.shortest_path_length(AG, source=u, target=v) for u in AG.nodes() for v in AG.nodes() if u!=v])"
   ]
  },
  {
   "cell_type": "code",
   "execution_count": null,
   "metadata": {
    "collapsed": false
   },
   "outputs": [],
   "source": []
  }
 ],
 "metadata": {
  "kernelspec": {
   "display_name": "Python 3",
   "language": "python",
   "name": "python3"
  },
  "language_info": {
   "codemirror_mode": {
    "name": "ipython",
    "version": 3
   },
   "file_extension": ".py",
   "mimetype": "text/x-python",
   "name": "python",
   "nbconvert_exporter": "python",
   "pygments_lexer": "ipython3",
   "version": "3.4.3"
  }
 },
 "nbformat": 4,
 "nbformat_minor": 0
}
