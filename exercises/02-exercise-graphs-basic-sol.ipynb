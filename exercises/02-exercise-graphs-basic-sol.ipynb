{
 "cells": [
  {
   "cell_type": "code",
   "execution_count": 1,
   "metadata": {
    "collapsed": false
   },
   "outputs": [],
   "source": [
    "import networkx as nx\n",
    "%matplotlib inline\n",
    "import pylab\n",
    "pylab.rcParams['figure.figsize'] = (10.0, 8.0)\n"
   ]
  },
  {
   "cell_type": "code",
   "execution_count": 2,
   "metadata": {
    "collapsed": false
   },
   "outputs": [],
   "source": [
    "AG=nx.read_gpickle(\"../data/airport/smaller_airportnet.pickle\")"
   ]
  },
  {
   "cell_type": "markdown",
   "metadata": {},
   "source": [
    "**E1.1** Explore the graph **AG** using the methods:\n",
    "*  AG.nodes()\n",
    "*  AG.edges()\n",
    "*  AG.number_of_nodes()\n",
    "\n",
    "etc.\n",
    "\n",
    "Draw the graph using nx.draw"
   ]
  },
  {
   "cell_type": "code",
   "execution_count": 3,
   "metadata": {
    "collapsed": false
   },
   "outputs": [
    {
     "data": {
      "text/plain": [
       "['TIJ',\n",
       " 'PTY',\n",
       " 'YYZ',\n",
       " 'RIC',\n",
       " 'SNN',\n",
       " 'CJS',\n",
       " 'FRA',\n",
       " 'MGA',\n",
       " 'ADD',\n",
       " 'LGW',\n",
       " 'PWM',\n",
       " 'BEY',\n",
       " 'MLA',\n",
       " 'LAX',\n",
       " 'CDG',\n",
       " 'SAN',\n",
       " 'CMH',\n",
       " 'VCE']"
      ]
     },
     "execution_count": 3,
     "metadata": {},
     "output_type": "execute_result"
    }
   ],
   "source": [
    "AG.nodes()"
   ]
  },
  {
   "cell_type": "code",
   "execution_count": 4,
   "metadata": {
    "collapsed": false
   },
   "outputs": [
    {
     "data": {
      "text/plain": [
       "[('TIJ', 'CJS'),\n",
       " ('TIJ', 'CDG'),\n",
       " ('TIJ', 'LAX'),\n",
       " ('PTY', 'CDG'),\n",
       " ('PTY', 'LAX'),\n",
       " ('PTY', 'MGA'),\n",
       " ('YYZ', 'FRA'),\n",
       " ('YYZ', 'RIC'),\n",
       " ('YYZ', 'SNN'),\n",
       " ('YYZ', 'CDG'),\n",
       " ('YYZ', 'SAN'),\n",
       " ('YYZ', 'CMH'),\n",
       " ('YYZ', 'LAX'),\n",
       " ('YYZ', 'LGW'),\n",
       " ('RIC', 'PWM'),\n",
       " ('RIC', 'SAN'),\n",
       " ('RIC', 'CMH'),\n",
       " ('RIC', 'LAX'),\n",
       " ('SNN', 'LGW'),\n",
       " ('SNN', 'CDG'),\n",
       " ('SNN', 'LAX'),\n",
       " ('FRA', 'SAN'),\n",
       " ('FRA', 'BEY'),\n",
       " ('FRA', 'CDG'),\n",
       " ('FRA', 'MLA'),\n",
       " ('FRA', 'LAX'),\n",
       " ('FRA', 'VCE'),\n",
       " ('FRA', 'ADD'),\n",
       " ('FRA', 'LGW'),\n",
       " ('MGA', 'LAX'),\n",
       " ('ADD', 'CDG'),\n",
       " ('ADD', 'BEY'),\n",
       " ('LGW', 'MLA'),\n",
       " ('LGW', 'VCE'),\n",
       " ('LGW', 'SAN'),\n",
       " ('LGW', 'CDG'),\n",
       " ('LGW', 'LAX'),\n",
       " ('PWM', 'CMH'),\n",
       " ('BEY', 'CDG'),\n",
       " ('MLA', 'VCE'),\n",
       " ('LAX', 'CMH'),\n",
       " ('LAX', 'VCE'),\n",
       " ('LAX', 'CDG'),\n",
       " ('LAX', 'SAN'),\n",
       " ('CDG', 'VCE'),\n",
       " ('SAN', 'CMH')]"
      ]
     },
     "execution_count": 4,
     "metadata": {},
     "output_type": "execute_result"
    }
   ],
   "source": [
    "AG.edges()"
   ]
  },
  {
   "cell_type": "code",
   "execution_count": 5,
   "metadata": {
    "collapsed": false
   },
   "outputs": [
    {
     "data": {
      "image/svg+xml": [
       "<?xml version=\"1.0\" encoding=\"utf-8\" standalone=\"no\"?>\n",
       "<!DOCTYPE svg PUBLIC \"-//W3C//DTD SVG 1.1//EN\"\n",
       "  \"http://www.w3.org/Graphics/SVG/1.1/DTD/svg11.dtd\">\n",
       "<!-- Created with matplotlib (http://matplotlib.org/) -->\n",
       "<svg height=\"613pt\" version=\"1.1\" viewBox=\"0 0 773 613\" width=\"773pt\" xmlns=\"http://www.w3.org/2000/svg\" xmlns:xlink=\"http://www.w3.org/1999/xlink\">\n",
       " <defs>\n",
       "  <style type=\"text/css\">\n",
       "*{stroke-linecap:butt;stroke-linejoin:round;stroke-miterlimit:100000;}\n",
       "  </style>\n",
       " </defs>\n",
       " <g id=\"figure_1\">\n",
       "  <g id=\"patch_1\">\n",
       "   <path d=\"M 0 613.861562 \n",
       "L 773.42875 613.861562 \n",
       "L 773.42875 0 \n",
       "L 0 0 \n",
       "z\n",
       "\" style=\"fill:#ffffff;\"/>\n",
       "  </g>\n",
       "  <g id=\"axes_1\">\n",
       "   <g id=\"LineCollection_1\">\n",
       "    <path clip-path=\"url(#p51e3c5c486)\" d=\"M 289.153361 394.331783 \n",
       "L 140.745893 492.687187 \n",
       "\" style=\"fill:none;stroke:#000000;\"/>\n",
       "    <path clip-path=\"url(#p51e3c5c486)\" d=\"M 289.153361 394.331783 \n",
       "L 637.154582 177.19324 \n",
       "\" style=\"fill:none;stroke:#000000;\"/>\n",
       "    <path clip-path=\"url(#p51e3c5c486)\" d=\"M 289.153361 394.331783 \n",
       "L 614.372673 177.081586 \n",
       "\" style=\"fill:none;stroke:#000000;\"/>\n",
       "    <path clip-path=\"url(#p51e3c5c486)\" d=\"M 608.151559 182.812891 \n",
       "L 637.154582 177.19324 \n",
       "\" style=\"fill:none;stroke:#000000;\"/>\n",
       "    <path clip-path=\"url(#p51e3c5c486)\" d=\"M 608.151559 182.812891 \n",
       "L 614.372673 177.081586 \n",
       "\" style=\"fill:none;stroke:#000000;\"/>\n",
       "    <path clip-path=\"url(#p51e3c5c486)\" d=\"M 608.151559 182.812891 \n",
       "L 604.332833 166.430593 \n",
       "\" style=\"fill:none;stroke:#000000;\"/>\n",
       "    <path clip-path=\"url(#p51e3c5c486)\" d=\"M 634.375618 166.942321 \n",
       "L 638.750393 166.137093 \n",
       "\" style=\"fill:none;stroke:#000000;\"/>\n",
       "    <path clip-path=\"url(#p51e3c5c486)\" d=\"M 634.375618 166.942321 \n",
       "L 628.483449 144.917625 \n",
       "\" style=\"fill:none;stroke:#000000;\"/>\n",
       "    <path clip-path=\"url(#p51e3c5c486)\" d=\"M 634.375618 166.942321 \n",
       "L 629.363498 178.577422 \n",
       "\" style=\"fill:none;stroke:#000000;\"/>\n",
       "    <path clip-path=\"url(#p51e3c5c486)\" d=\"M 634.375618 166.942321 \n",
       "L 637.154582 177.19324 \n",
       "\" style=\"fill:none;stroke:#000000;\"/>\n",
       "    <path clip-path=\"url(#p51e3c5c486)\" d=\"M 634.375618 166.942321 \n",
       "L 639.524687 150.011825 \n",
       "\" style=\"fill:none;stroke:#000000;\"/>\n",
       "    <path clip-path=\"url(#p51e3c5c486)\" d=\"M 634.375618 166.942321 \n",
       "L 629.046469 139.368054 \n",
       "\" style=\"fill:none;stroke:#000000;\"/>\n",
       "    <path clip-path=\"url(#p51e3c5c486)\" d=\"M 634.375618 166.942321 \n",
       "L 614.372673 177.081586 \n",
       "\" style=\"fill:none;stroke:#000000;\"/>\n",
       "    <path clip-path=\"url(#p51e3c5c486)\" d=\"M 634.375618 166.942321 \n",
       "L 631.442845 159.58749 \n",
       "\" style=\"fill:none;stroke:#000000;\"/>\n",
       "    <path clip-path=\"url(#p51e3c5c486)\" d=\"M 628.483449 144.917625 \n",
       "L 632.603737 103.416659 \n",
       "\" style=\"fill:none;stroke:#000000;\"/>\n",
       "    <path clip-path=\"url(#p51e3c5c486)\" d=\"M 628.483449 144.917625 \n",
       "L 639.524687 150.011825 \n",
       "\" style=\"fill:none;stroke:#000000;\"/>\n",
       "    <path clip-path=\"url(#p51e3c5c486)\" d=\"M 628.483449 144.917625 \n",
       "L 629.046469 139.368054 \n",
       "\" style=\"fill:none;stroke:#000000;\"/>\n",
       "    <path clip-path=\"url(#p51e3c5c486)\" d=\"M 628.483449 144.917625 \n",
       "L 614.372673 177.081586 \n",
       "\" style=\"fill:none;stroke:#000000;\"/>\n",
       "    <path clip-path=\"url(#p51e3c5c486)\" d=\"M 629.363498 178.577422 \n",
       "L 631.442845 159.58749 \n",
       "\" style=\"fill:none;stroke:#000000;\"/>\n",
       "    <path clip-path=\"url(#p51e3c5c486)\" d=\"M 629.363498 178.577422 \n",
       "L 637.154582 177.19324 \n",
       "\" style=\"fill:none;stroke:#000000;\"/>\n",
       "    <path clip-path=\"url(#p51e3c5c486)\" d=\"M 629.363498 178.577422 \n",
       "L 614.372673 177.081586 \n",
       "\" style=\"fill:none;stroke:#000000;\"/>\n",
       "    <path clip-path=\"url(#p51e3c5c486)\" d=\"M 638.750393 166.137093 \n",
       "L 639.524687 150.011825 \n",
       "\" style=\"fill:none;stroke:#000000;\"/>\n",
       "    <path clip-path=\"url(#p51e3c5c486)\" d=\"M 638.750393 166.137093 \n",
       "L 655.031607 172.420388 \n",
       "\" style=\"fill:none;stroke:#000000;\"/>\n",
       "    <path clip-path=\"url(#p51e3c5c486)\" d=\"M 638.750393 166.137093 \n",
       "L 637.154582 177.19324 \n",
       "\" style=\"fill:none;stroke:#000000;\"/>\n",
       "    <path clip-path=\"url(#p51e3c5c486)\" d=\"M 638.750393 166.137093 \n",
       "L 649.237301 143.268812 \n",
       "\" style=\"fill:none;stroke:#000000;\"/>\n",
       "    <path clip-path=\"url(#p51e3c5c486)\" d=\"M 638.750393 166.137093 \n",
       "L 614.372673 177.081586 \n",
       "\" style=\"fill:none;stroke:#000000;\"/>\n",
       "    <path clip-path=\"url(#p51e3c5c486)\" d=\"M 638.750393 166.137093 \n",
       "L 628.354955 165.880214 \n",
       "\" style=\"fill:none;stroke:#000000;\"/>\n",
       "    <path clip-path=\"url(#p51e3c5c486)\" d=\"M 638.750393 166.137093 \n",
       "L 652.734811 174.082737 \n",
       "\" style=\"fill:none;stroke:#000000;\"/>\n",
       "    <path clip-path=\"url(#p51e3c5c486)\" d=\"M 638.750393 166.137093 \n",
       "L 631.442845 159.58749 \n",
       "\" style=\"fill:none;stroke:#000000;\"/>\n",
       "    <path clip-path=\"url(#p51e3c5c486)\" d=\"M 604.332833 166.430593 \n",
       "L 614.372673 177.081586 \n",
       "\" style=\"fill:none;stroke:#000000;\"/>\n",
       "    <path clip-path=\"url(#p51e3c5c486)\" d=\"M 652.734811 174.082737 \n",
       "L 637.154582 177.19324 \n",
       "\" style=\"fill:none;stroke:#000000;\"/>\n",
       "    <path clip-path=\"url(#p51e3c5c486)\" d=\"M 652.734811 174.082737 \n",
       "L 655.031607 172.420388 \n",
       "\" style=\"fill:none;stroke:#000000;\"/>\n",
       "    <path clip-path=\"url(#p51e3c5c486)\" d=\"M 631.442845 159.58749 \n",
       "L 649.237301 143.268812 \n",
       "\" style=\"fill:none;stroke:#000000;\"/>\n",
       "    <path clip-path=\"url(#p51e3c5c486)\" d=\"M 631.442845 159.58749 \n",
       "L 628.354955 165.880214 \n",
       "\" style=\"fill:none;stroke:#000000;\"/>\n",
       "    <path clip-path=\"url(#p51e3c5c486)\" d=\"M 631.442845 159.58749 \n",
       "L 639.524687 150.011825 \n",
       "\" style=\"fill:none;stroke:#000000;\"/>\n",
       "    <path clip-path=\"url(#p51e3c5c486)\" d=\"M 631.442845 159.58749 \n",
       "L 637.154582 177.19324 \n",
       "\" style=\"fill:none;stroke:#000000;\"/>\n",
       "    <path clip-path=\"url(#p51e3c5c486)\" d=\"M 631.442845 159.58749 \n",
       "L 614.372673 177.081586 \n",
       "\" style=\"fill:none;stroke:#000000;\"/>\n",
       "    <path clip-path=\"url(#p51e3c5c486)\" d=\"M 632.603737 103.416659 \n",
       "L 629.046469 139.368054 \n",
       "\" style=\"fill:none;stroke:#000000;\"/>\n",
       "    <path clip-path=\"url(#p51e3c5c486)\" d=\"M 655.031607 172.420388 \n",
       "L 637.154582 177.19324 \n",
       "\" style=\"fill:none;stroke:#000000;\"/>\n",
       "    <path clip-path=\"url(#p51e3c5c486)\" d=\"M 649.237301 143.268812 \n",
       "L 628.354955 165.880214 \n",
       "\" style=\"fill:none;stroke:#000000;\"/>\n",
       "    <path clip-path=\"url(#p51e3c5c486)\" d=\"M 614.372673 177.081586 \n",
       "L 629.046469 139.368054 \n",
       "\" style=\"fill:none;stroke:#000000;\"/>\n",
       "    <path clip-path=\"url(#p51e3c5c486)\" d=\"M 614.372673 177.081586 \n",
       "L 628.354955 165.880214 \n",
       "\" style=\"fill:none;stroke:#000000;\"/>\n",
       "    <path clip-path=\"url(#p51e3c5c486)\" d=\"M 614.372673 177.081586 \n",
       "L 637.154582 177.19324 \n",
       "\" style=\"fill:none;stroke:#000000;\"/>\n",
       "    <path clip-path=\"url(#p51e3c5c486)\" d=\"M 614.372673 177.081586 \n",
       "L 639.524687 150.011825 \n",
       "\" style=\"fill:none;stroke:#000000;\"/>\n",
       "    <path clip-path=\"url(#p51e3c5c486)\" d=\"M 637.154582 177.19324 \n",
       "L 628.354955 165.880214 \n",
       "\" style=\"fill:none;stroke:#000000;\"/>\n",
       "    <path clip-path=\"url(#p51e3c5c486)\" d=\"M 639.524687 150.011825 \n",
       "L 629.046469 139.368054 \n",
       "\" style=\"fill:none;stroke:#000000;\"/>\n",
       "   </g>\n",
       "   <g id=\"PathCollection_1\">\n",
       "    <defs>\n",
       "     <path d=\"M 0 8.660254 \n",
       "C 2.296726 8.660254 4.499694 7.747755 6.123724 6.123724 \n",
       "C 7.747755 4.499694 8.660254 2.296726 8.660254 0 \n",
       "C 8.660254 -2.296726 7.747755 -4.499694 6.123724 -6.123724 \n",
       "C 4.499694 -7.747755 2.296726 -8.660254 0 -8.660254 \n",
       "C -2.296726 -8.660254 -4.499694 -7.747755 -6.123724 -6.123724 \n",
       "C -7.747755 -4.499694 -8.660254 -2.296726 -8.660254 0 \n",
       "C -8.660254 2.296726 -7.747755 4.499694 -6.123724 6.123724 \n",
       "C -4.499694 7.747755 -2.296726 8.660254 0 8.660254 \n",
       "z\n",
       "\" id=\"m1a57d05e74\" style=\"stroke:#000000;stroke-width:0.3;\"/>\n",
       "    </defs>\n",
       "    <g clip-path=\"url(#p51e3c5c486)\">\n",
       "     <use style=\"fill:#ff0000;stroke:#000000;stroke-width:0.3;\" x=\"289.153361283\" xlink:href=\"#m1a57d05e74\" y=\"394.331782653\"/>\n",
       "     <use style=\"fill:#ff0000;stroke:#000000;stroke-width:0.3;\" x=\"608.151558719\" xlink:href=\"#m1a57d05e74\" y=\"182.812890943\"/>\n",
       "     <use style=\"fill:#ff0000;stroke:#000000;stroke-width:0.3;\" x=\"634.37561772\" xlink:href=\"#m1a57d05e74\" y=\"166.942320948\"/>\n",
       "     <use style=\"fill:#ff0000;stroke:#000000;stroke-width:0.3;\" x=\"628.483448604\" xlink:href=\"#m1a57d05e74\" y=\"144.917624976\"/>\n",
       "     <use style=\"fill:#ff0000;stroke:#000000;stroke-width:0.3;\" x=\"629.363498027\" xlink:href=\"#m1a57d05e74\" y=\"178.577421962\"/>\n",
       "     <use style=\"fill:#ff0000;stroke:#000000;stroke-width:0.3;\" x=\"140.745892857\" xlink:href=\"#m1a57d05e74\" y=\"492.6871875\"/>\n",
       "     <use style=\"fill:#ff0000;stroke:#000000;stroke-width:0.3;\" x=\"638.750393371\" xlink:href=\"#m1a57d05e74\" y=\"166.137093296\"/>\n",
       "     <use style=\"fill:#ff0000;stroke:#000000;stroke-width:0.3;\" x=\"604.332832779\" xlink:href=\"#m1a57d05e74\" y=\"166.430593069\"/>\n",
       "     <use style=\"fill:#ff0000;stroke:#000000;stroke-width:0.3;\" x=\"652.734810675\" xlink:href=\"#m1a57d05e74\" y=\"174.082737197\"/>\n",
       "     <use style=\"fill:#ff0000;stroke:#000000;stroke-width:0.3;\" x=\"631.442844851\" xlink:href=\"#m1a57d05e74\" y=\"159.587490321\"/>\n",
       "     <use style=\"fill:#ff0000;stroke:#000000;stroke-width:0.3;\" x=\"632.603737105\" xlink:href=\"#m1a57d05e74\" y=\"103.416659173\"/>\n",
       "     <use style=\"fill:#ff0000;stroke:#000000;stroke-width:0.3;\" x=\"655.031607143\" xlink:href=\"#m1a57d05e74\" y=\"172.420388194\"/>\n",
       "     <use style=\"fill:#ff0000;stroke:#000000;stroke-width:0.3;\" x=\"649.237301303\" xlink:href=\"#m1a57d05e74\" y=\"143.268812095\"/>\n",
       "     <use style=\"fill:#ff0000;stroke:#000000;stroke-width:0.3;\" x=\"614.372672859\" xlink:href=\"#m1a57d05e74\" y=\"177.08158649\"/>\n",
       "     <use style=\"fill:#ff0000;stroke:#000000;stroke-width:0.3;\" x=\"637.154581565\" xlink:href=\"#m1a57d05e74\" y=\"177.193239578\"/>\n",
       "     <use style=\"fill:#ff0000;stroke:#000000;stroke-width:0.3;\" x=\"639.524687368\" xlink:href=\"#m1a57d05e74\" y=\"150.011825045\"/>\n",
       "     <use style=\"fill:#ff0000;stroke:#000000;stroke-width:0.3;\" x=\"629.046468743\" xlink:href=\"#m1a57d05e74\" y=\"139.368054381\"/>\n",
       "     <use style=\"fill:#ff0000;stroke:#000000;stroke-width:0.3;\" x=\"628.354955372\" xlink:href=\"#m1a57d05e74\" y=\"165.880213811\"/>\n",
       "    </g>\n",
       "   </g>\n",
       "  </g>\n",
       " </g>\n",
       " <defs>\n",
       "  <clipPath id=\"p51e3c5c486\">\n",
       "   <rect height=\"576.0\" width=\"720.0\" x=\"37.88875\" y=\"12.6871875\"/>\n",
       "  </clipPath>\n",
       " </defs>\n",
       "</svg>\n"
      ],
      "text/plain": [
       "<matplotlib.figure.Figure at 0x7f2f51f676a0>"
      ]
     },
     "metadata": {},
     "output_type": "display_data"
    }
   ],
   "source": [
    "nx.draw(AG)"
   ]
  },
  {
   "cell_type": "markdown",
   "metadata": {},
   "source": [
    "**E1.2**  Find out the average distance between all pairs of airports in **AG**\n"
   ]
  },
  {
   "cell_type": "code",
   "execution_count": 6,
   "metadata": {
    "collapsed": false
   },
   "outputs": [
    {
     "data": {
      "text/plain": [
       "1.9673202614379084"
      ]
     },
     "execution_count": 6,
     "metadata": {},
     "output_type": "execute_result"
    }
   ],
   "source": [
    "np.average([nx.shortest_path_length(AG, source=u, target=v) for u in AG.nodes() for v in AG.nodes() if u!=v])"
   ]
  },
  {
   "cell_type": "markdown",
   "metadata": {},
   "source": [
    "**E1.3** Find out which airport in **AG** has the highest number of neighbours. "
   ]
  },
  {
   "cell_type": "code",
   "execution_count": 7,
   "metadata": {
    "collapsed": false
   },
   "outputs": [
    {
     "name": "stdout",
     "output_type": "stream",
     "text": [
      "LAX\n"
     ]
    }
   ],
   "source": [
    "maxnei=0\n",
    "node_w_max_nei=None\n",
    "\n",
    "for n in AG.nodes():\n",
    "    numnei=len(AG[n])\n",
    "    if numnei>maxnei:\n",
    "        maxnei=numnei\n",
    "        node_w_max_nei=n\n",
    "\n",
    "print(node_w_max_nei)"
   ]
  },
  {
   "cell_type": "markdown",
   "metadata": {},
   "source": [
    "**E1.4** Now remove that node from **AG**, and redo **E1.2**."
   ]
  },
  {
   "cell_type": "code",
   "execution_count": 8,
   "metadata": {
    "collapsed": false
   },
   "outputs": [],
   "source": [
    "AG.remove_node('LAX')"
   ]
  },
  {
   "cell_type": "code",
   "execution_count": 9,
   "metadata": {
    "collapsed": false
   },
   "outputs": [
    {
     "data": {
      "text/plain": [
       "2.2794117647058822"
      ]
     },
     "execution_count": 9,
     "metadata": {},
     "output_type": "execute_result"
    }
   ],
   "source": [
    "np.average([nx.shortest_path_length(AG, source=u, target=v) for u in AG.nodes() for v in AG.nodes() if u!=v])"
   ]
  },
  {
   "cell_type": "code",
   "execution_count": null,
   "metadata": {
    "collapsed": false
   },
   "outputs": [],
   "source": []
  }
 ],
 "metadata": {
  "kernelspec": {
   "display_name": "Python 3",
   "language": "python",
   "name": "python3"
  },
  "language_info": {
   "codemirror_mode": {
    "name": "ipython",
    "version": 3
   },
   "file_extension": ".py",
   "mimetype": "text/x-python",
   "name": "python",
   "nbconvert_exporter": "python",
   "pygments_lexer": "ipython3",
   "version": "3.4.0"
  }
 },
 "nbformat": 4,
 "nbformat_minor": 0
}
