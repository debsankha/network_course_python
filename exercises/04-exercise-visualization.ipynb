{
 "metadata": {
  "name": "",
  "signature": "sha256:84c27210733d3461f434bb8ec2f08f3f8f61e2c5eed95beff3e82d7cdab6eeef"
 },
 "nbformat": 3,
 "nbformat_minor": 0,
 "worksheets": [
  {
   "cells": [
    {
     "cell_type": "markdown",
     "metadata": {},
     "source": [
      "**3.Graph Layouts**"
     ]
    },
    {
     "cell_type": "markdown",
     "metadata": {},
     "source": [
      "a) Which layouts do you think would fit best to which kind of graphs?"
     ]
    },
    {
     "cell_type": "markdown",
     "metadata": {},
     "source": [
      "b) Create a random graph containing about 50 nodes. Assign random values\n",
      "\u2208 [0, 1] to the edges as \u2019radius\u2019 attributes."
     ]
    },
    {
     "cell_type": "markdown",
     "metadata": {},
     "source": [
      "c) Display the graph using the spring layout. Use the edge\u2019s \u2018radius\u2019 at-\n",
      "tributes as weights for the spring layout."
     ]
    },
    {
     "cell_type": "markdown",
     "metadata": {},
     "source": [
      "d) Display the graph using the shell layout. Distribute the nodes across 5\n",
      "different shells."
     ]
    },
    {
     "cell_type": "markdown",
     "metadata": {},
     "source": [
      "e)** Try to display the graph in a 3-dimensional spring layout (hint: use mat-\n",
      "plotlib\u2019s mplot3d toolkit). Scale the color and width of the edges according\n",
      "to their radius."
     ]
    },
    {
     "cell_type": "markdown",
     "metadata": {},
     "source": [
      "**E3.2 Graph Colorings**"
     ]
    },
    {
     "cell_type": "markdown",
     "metadata": {},
     "source": [
      "a) Load the graph from the file \"../data/visualization/huge_graph.xml\". How large is the\n",
      "graph?\n",
      "\n",
      "*HINT*: Matplotlib has difficulties displaying such large quantities of objects (dots\n",
      "and lines). It might be easier to turn off matplotlib\u2019s interactive mode\n",
      "(plt.ioff()) and save the plots as .png files to look at them\n",
      "(plt.savefig(\u2018plot name.png\u2019,dpi=600)). Modify the dpi argument\n",
      "to increase/decrease resolution."
     ]
    },
    {
     "cell_type": "markdown",
     "metadata": {},
     "source": [
      "b) Plot the graph using its \u2018x\u2019 and \u2018y\u2019 node attributes as coordinates and the\n",
      "edge\u2019s \u2018radius\u2019 attribute as edge-widhts. What kind of graph is this?"
     ]
    },
    {
     "cell_type": "markdown",
     "metadata": {},
     "source": [
      "c) Choose colors, linewidths, marker- and linestyles in a way that they sup-\n",
      "port the information contained in the graph (very subjective :-))."
     ]
    },
    {
     "cell_type": "markdown",
     "metadata": {},
     "source": [
      "d) What is the maximum degree of the nodes in the graph? Color the nodes\n",
      "differently according to their degree. Scale the node sizes according to the\n",
      "graph\u2019s node attribute \u2018conductivity\u2019."
     ]
    },
    {
     "cell_type": "markdown",
     "metadata": {},
     "source": [
      "e)* Color the thickest 15% of the edges differently than the rest to highlight\n",
      "them."
     ]
    },
    {
     "cell_type": "markdown",
     "metadata": {},
     "source": [
      "f)** Try to find the outermost cycle of the graph and color it differently."
     ]
    },
    {
     "cell_type": "code",
     "collapsed": false,
     "input": [],
     "language": "python",
     "metadata": {},
     "outputs": []
    }
   ],
   "metadata": {}
  }
 ]
}