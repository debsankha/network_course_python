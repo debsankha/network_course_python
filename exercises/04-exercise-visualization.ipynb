{
 "cells": [
  {
   "cell_type": "markdown",
   "metadata": {},
   "source": [
    "**3.Graph Layouts**"
   ]
  },
  {
   "cell_type": "markdown",
   "metadata": {},
   "source": [
    "a) Which layouts do you think would fit best to which kind of graphs?"
   ]
  },
  {
   "cell_type": "markdown",
   "metadata": {},
   "source": [
    "b) Create a random graph containing about 50 nodes. Assign random values\n",
    "∈ [0, 1] to the edges as ’radius’ attributes."
   ]
  },
  {
   "cell_type": "markdown",
   "metadata": {},
   "source": [
    "c) Display the graph using the spring layout. Use the edge’s ‘radius’ at-\n",
    "tributes as weights for the spring layout."
   ]
  },
  {
   "cell_type": "markdown",
   "metadata": {},
   "source": [
    "d) Display the graph using the shell layout. Distribute the nodes across 5\n",
    "different shells."
   ]
  },
  {
   "cell_type": "markdown",
   "metadata": {},
   "source": [
    "e)** Try to display the graph in a 3-dimensional spring layout (hint: use mat-\n",
    "plotlib’s mplot3d toolkit). Scale the color and width of the edges according\n",
    "to their radius."
   ]
  },
  {
   "cell_type": "markdown",
   "metadata": {},
   "source": [
    "**E3.2 Graph Colorings**"
   ]
  },
  {
   "cell_type": "markdown",
   "metadata": {},
   "source": [
<<<<<<< HEAD
    "a) Load the graph from the file `../data/visualization/huge_graph.xml`. How large is the\n",
    "graph?"
=======
    "a) Load the graph from the file \"../data/visualization/huge_graph.xml\". How large is the\n",
    "graph?\n",
    "\n",
    "*HINT*: Matplotlib has difficulties displaying such large quantities of objects (dots\n",
    "and lines). It might be easier to turn off matplotlib’s interactive mode\n",
    "(plt.ioff()) and save the plots as .png files to look at them\n",
    "(plt.savefig(‘plot name.png’,dpi=600)). Modify the dpi argument\n",
    "to increase/decrease resolution."
>>>>>>> master
   ]
  },
  {
   "cell_type": "markdown",
   "metadata": {},
   "source": [
    "b) Plot the graph using its ‘x’ and ‘y’ node attributes as coordinates and the\n",
    "edge’s ‘radius’ attribute as edge-widhts. What kind of graph is this?"
   ]
  },
  {
   "cell_type": "markdown",
   "metadata": {},
   "source": [
    "c) Choose colors, linewidths, marker- and linestyles in a way that they sup-\n",
    "port the information contained in the graph (very subjective :-))."
   ]
  },
  {
   "cell_type": "markdown",
   "metadata": {},
   "source": [
    "d) What is the maximum degree of the nodes in the graph? Color the nodes\n",
    "differently according to their degree. Scale the node sizes according to the\n",
    "graph’s node attribute ‘conductivity’."
   ]
  },
  {
   "cell_type": "markdown",
   "metadata": {},
   "source": [
    "e)* Color the thickest 15% of the edges differently than the rest to highlight\n",
    "them."
   ]
  },
  {
   "cell_type": "markdown",
   "metadata": {},
   "source": [
    "f)** Try to find the outermost cycle of the graph and color it differently."
   ]
  },
  {
   "cell_type": "code",
   "execution_count": null,
   "metadata": {
    "collapsed": false
   },
   "outputs": [],
   "source": []
  }
 ],
 "metadata": {
  "kernelspec": {
   "display_name": "Python 3",
   "language": "python",
   "name": "python3"
  },
  "language_info": {
   "codemirror_mode": {
    "name": "ipython",
    "version": 3
   },
   "file_extension": ".py",
   "mimetype": "text/x-python",
   "name": "python",
   "nbconvert_exporter": "python",
   "pygments_lexer": "ipython3",
   "version": "3.4.3"
  }
 },
 "nbformat": 4,
 "nbformat_minor": 0
}
