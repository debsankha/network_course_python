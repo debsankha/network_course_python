{
 "metadata": {
  "name": "",
  "signature": "sha256:9a11a147fe5e3f7f6b6da5ab4ecc2147ceda5384f1bb22c0a0d348f7266796b7"
 },
 "nbformat": 3,
 "nbformat_minor": 0,
 "worksheets": [
  {
   "cells": [
    {
     "cell_type": "code",
     "collapsed": false,
     "input": [
      "import networkx as nx\n",
      "%matplotlib inline\n",
      "import pylab\n",
      "pylab.rcParams['figure.figsize'] = (10.0, 8.0)\n",
      "import numpy as np"
     ],
     "language": "python",
     "metadata": {},
     "outputs": [],
     "prompt_number": 1
    },
    {
     "cell_type": "markdown",
     "metadata": {},
     "source": [
      "**E2.1  Shortest Paths and Cycles**\n"
     ]
    },
    {
     "cell_type": "code",
     "collapsed": false,
     "input": [
      "G=nx.read_graphml(\"../data/visualization/small_graph.xml\")#Load the graph"
     ],
     "language": "python",
     "metadata": {},
     "outputs": [],
     "prompt_number": 2
    },
    {
     "cell_type": "markdown",
     "metadata": {},
     "source": [
      "a) How many nodes and ages does G have?"
     ]
    },
    {
     "cell_type": "markdown",
     "metadata": {},
     "source": [
      "b) How many cycles does the cycle basis of the graph contain? How Many\n",
      "edges does the longest cycle in the cycle basis have?\n"
     ]
    },
    {
     "cell_type": "markdown",
     "metadata": {},
     "source": [
      "c) Create a small graph using G.add nodes from() and G.add edges from()\n",
      "containing about 5-10 nodes and edges. Check if the graph has a planar\n",
      "embedding using the following check for planarity:\n"
     ]
    },
    {
     "cell_type": "code",
     "collapsed": false,
     "input": [
      "# function checks if graph G has K (5) or K (3 ,3) as minors ,\n",
      "# returns True / False on planarity\n",
      "import itertools as it\n",
      "from networkx.algorithms import bipartite\n",
      "def is_planar ( G ):\n",
      "    result = True\n",
      "    n = len ( G . nodes ())\n",
      "    if n > 5:\n",
      "        for subnodes in it . combinations ( G . nodes () ,6):\n",
      "            subG = G . subgraph ( subnodes )\n",
      "            # check if the graph G has a subgraph K (3 ,3)\n",
      "            if bipartite.is_bipartite ( G ):\n",
      "                X , Y = bipartite . sets ( G )\n",
      "                if len ( X )==3:\n",
      "                    result = False\n",
      "    if n > 4 and result :\n",
      "        for subnodes in it . combinations ( G . nodes () ,5):\n",
      "            subG = G . subgraph ( subnodes )\n",
      "            # check if the graph G has a subgraph K (5)\n",
      "            if len ( subG . edges ())==10:\n",
      "                result = False\n",
      "    return result\n"
     ],
     "language": "python",
     "metadata": {},
     "outputs": [],
     "prompt_number": 14
    },
    {
     "cell_type": "markdown",
     "metadata": {},
     "source": [
      "d) Select two (random) nodes in the graph and calculate the length of the\n",
      "shortest path between them.\n"
     ]
    },
    {
     "cell_type": "markdown",
     "metadata": {},
     "source": [
      "e)  What is the greatest distance between any pair of vertices? (Longest\n",
      "shortest path/diameter)\n"
     ]
    },
    {
     "cell_type": "markdown",
     "metadata": {},
     "source": [
      "f)  Select one node in the graph. Create and plot a histogram of the shortest\n",
      "paths from this node to every other node.\n"
     ]
    },
    {
     "cell_type": "markdown",
     "metadata": {},
     "source": [
      "**E2.2 Edge and Node Attributes** "
     ]
    },
    {
     "cell_type": "markdown",
     "metadata": {},
     "source": [
      "a) Which node/edge attributes does the graph have?"
     ]
    },
    {
     "cell_type": "markdown",
     "metadata": {},
     "source": [
      "b) Using the node attributes calculate the total length of the graph."
     ]
    },
    {
     "cell_type": "markdown",
     "metadata": {},
     "source": [
      "c) Using the lengths calculated in c) create a new edge attribute called\n",
      "\u201clength\u201d for each edge. Calculate the length of the graph again using\n",
      "the new edge attribute.\n"
     ]
    },
    {
     "cell_type": "markdown",
     "metadata": {},
     "source": [
      "d) Create and plot a histogram of edge lengths.\n"
     ]
    },
    {
     "cell_type": "code",
     "collapsed": false,
     "input": [],
     "language": "python",
     "metadata": {},
     "outputs": []
    }
   ],
   "metadata": {}
  }
 ]
}