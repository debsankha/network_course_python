{
 "metadata": {
  "name": ""
 },
 "nbformat": 3,
 "nbformat_minor": 0,
 "worksheets": [
  {
   "cells": [
    {
     "cell_type": "code",
     "collapsed": false,
     "input": [
      "import xml.etree.ElementTree as etree"
     ],
     "language": "python",
     "metadata": {},
     "outputs": [],
     "prompt_number": 103
    },
    {
     "cell_type": "code",
     "collapsed": false,
     "input": [
      "xmlpath=\"./wikipedia.xml\""
     ],
     "language": "python",
     "metadata": {},
     "outputs": [],
     "prompt_number": 104
    },
    {
     "cell_type": "code",
     "collapsed": false,
     "input": [
      "for event, elem in etree.iterparse(xmlpath):\n",
      "    if elem.tag=='page':\n",
      "        txt=elem.find('./revision/text')\n",
      "        if len(txt.text)>10:\n",
      "            break\n",
      "    \n",
      "            "
     ],
     "language": "python",
     "metadata": {},
     "outputs": [],
     "prompt_number": 157
    },
    {
     "cell_type": "code",
     "collapsed": false,
     "input": [
      "pagedict={}"
     ],
     "language": "python",
     "metadata": {},
     "outputs": [],
     "prompt_number": 156
    },
    {
     "cell_type": "code",
     "collapsed": false,
     "input": [
      "with open(\"enwiki_title_id.dat\",'w') as f:\n",
      "    for event, elem in etree.iterparse(xmlpath):\n",
      "        if elem.tag=='page':\n",
      "            if elem.find('ns').text=='0':\n",
      "                pagedict[elem.find('title').text]=int(elem.find('id').text)\n",
      "                print(elem.find('id').text,elem.find('title').text, sep='\\t', file=f)\n",
      "\n",
      "                red=elem.find('redirect')  #Some wikipedia pages have redirects\n",
      "                if red is not None:\n",
      "                    pagedict[red.attrib['title']]=int(elem.find('id').text)\n",
      "                    print(elem.find('id').text,red.attrib['title'], sep='\\t', file=f)\n",
      "        "
     ],
     "language": "python",
     "metadata": {},
     "outputs": [
      {
       "ename": "ParseError",
       "evalue": "no element found: line 6214114, column 0 (<string>)",
       "output_type": "pyerr",
       "traceback": [
        "\u001b[0;36m  File \u001b[0;32m\"<string>\"\u001b[0;36m, line \u001b[0;32munknown\u001b[0m\n\u001b[0;31mParseError\u001b[0m\u001b[0;31m:\u001b[0m no element found: line 6214114, column 0\n"
       ]
      }
     ],
     "prompt_number": 168
    },
    {
     "cell_type": "code",
     "collapsed": false,
     "input": [
      "def upper_firstchar(st):\n",
      "    if len(st)<2:\n",
      "        return st.upper()\n",
      "    else:\n",
      "        return st[0].upper()+st[1:]\n",
      "\n",
      "with open(\"enwiki_edgelist.dat\",'w') as g:\n",
      "    for event, elem in etree.iterparse(xmlpath):\n",
      "        if elem.tag=='page':\n",
      "            if elem.find('ns').text=='0':\n",
      "                pid=int(elem.find('id').text)\n",
      "                ptxt=elem.find('./revision/text').text\n",
      "                \n",
      "                linklist=[pid]\n",
      "                for link in re.findall(r\"\\[\\[(.*?)\\]\\]\", ptxt):\n",
      "                    wptitle=link.split('|')[0]\n",
      "                    canonical_title=upper_firstchar(wptitle)\n",
      "                    try:\n",
      "                        linklist.append(pagedict[canonical_title])\n",
      "                    except KeyError:\n",
      "                        pass\n",
      "                print(' '.join(str(i) for i in linklist), file=g)\n",
      "                \n",
      "        "
     ],
     "language": "python",
     "metadata": {},
     "outputs": [
      {
       "ename": "ParseError",
       "evalue": "no element found: line 6214114, column 0 (<string>)",
       "output_type": "pyerr",
       "traceback": [
        "\u001b[0;36m  File \u001b[0;32m\"<string>\"\u001b[0;36m, line \u001b[0;32munknown\u001b[0m\n\u001b[0;31mParseError\u001b[0m\u001b[0;31m:\u001b[0m no element found: line 6214114, column 0\n"
       ]
      }
     ],
     "prompt_number": 167
    },
    {
     "cell_type": "code",
     "collapsed": false,
     "input": [],
     "language": "python",
     "metadata": {},
     "outputs": []
    }
   ],
   "metadata": {}
  }
 ]
}