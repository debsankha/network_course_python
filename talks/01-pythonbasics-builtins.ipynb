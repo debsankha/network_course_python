{
 "cells": [
  {
   "cell_type": "markdown",
   "metadata": {},
   "source": [
    "# Table of Contents\n",
    "* [1. Introduction to Interactive Network Analysis and Visualization with Python](#1.-Introduction-to-Interactive-Network-Analysis-and-Visualization-with-Python)\n",
    "\t* [1.1 What is Python?](#1.1-What-is-Python?)\n",
    "\t\t* [1.1.1 How to use Python](#1.1.1-How-to-use-Python)\n",
    "\t* [1.2 A short intro to jupyter](#1.2-A-short-intro-to-jupyter)\n",
    "\t\t* [1.2.1 Markdown is cool](#1.2.1-Markdown-is-cool)\n",
    "\t\t\t* [1.2.1.1 This is a heading](#1.2.1.1-This-is-a-heading)\n",
    "\t\t* [1.2.2 **Use the `TAB`**](#1.2.2-**Use-the-TAB**)\n",
    "\t\t* [1.2.3 Write your own documentations](#1.2.3-Write-your-own-documentations)\n",
    "\t\t* [1.2.4 Inline plots & interactive widgets](#1.2.4-Inline-plots-&-interactive-widgets)\n",
    "* [2. Short tutorial on python](#2.-Short-tutorial-on-python)\n",
    "\t* [2.1 datatypes and operators](#2.1-datatypes-and-operators)\n",
    "\t\t* [2.1.1 integer, float, strings](#2.1.1-integer,-float,-strings)\n",
    "\t\t* [2.1.2 Assignments](#2.1.2-Assignments)\n",
    "\t\t* [2.1.3 Conversion of datatypes:](#2.1.3-Conversion-of-datatypes:)\n",
    "\t\t* [2.1.4 Arithmetic and operators](#2.1.4-Arithmetic-and-operators)\n",
    "\t* [2.2 Conditions and control statements (if, while)](#2.2-Conditions-and-control-statements-%28if,-while%29)\n",
    "\t\t* [2.2.1 Comparison operators:](#2.2.1-Comparison-operators:)\n",
    "\t\t* [2.2.2 `is` operator](#2.2.2-is-operator)\n",
    "\t\t* [2.2.3 If ... else ...](#2.2.3-If-...-else-...)\n",
    "\t* [2.3 While loops:](#2.3-While-loops:)\n",
    "\t\t* [2.3.1 **Warning: ** Make sure that the condition gets True after a finite number of steps!](#2.3.1-**Warning:-**-Make-sure-that-the-condition-gets-True-after-a-finite-number-of-steps!)\n",
    "\t* [2.4 Sequences & for-loops](#2.4-Sequences-&-for-loops)\n",
    "\t\t* [2.4.1 Sequences](#2.4.1-Sequences)\n",
    "\t\t* [2.4.2 Specialities of lists](#2.4.2-Specialities-of-lists)\n",
    "\t\t\t* [2.4.2.1 In contrast to tuples and strings, lists are mutable. Items can be replaced, removed or added.](#2.4.2.1-In-contrast-to-tuples-and-strings,-lists-are-mutable.-Items-can-be-replaced,-removed-or-added.)\n",
    "\t\t\t* [2.4.2.2 **Warning:** assignment to lists do not create a copy](#2.4.2.2-**Warning:**-assignment-to-lists-do-not-create-a-copy)\n",
    "\t\t* [2.4.3 Specialities of strings:](#2.4.3-Specialities-of-strings:)\n",
    "\t\t\t* [2.4.3.1 Strings have some nice methods](#2.4.3.1-Strings-have-some-nice-methods)\n",
    "\t\t* [2.4.4 For-loops](#2.4.4-For-loops)\n",
    "\t\t\t* [2.4.4.1 Works on strings, tuples:](#2.4.4.1-Works-on-strings,-tuples:)\n",
    "\t\t\t* [2.4.4.2 Did I tell you about string formatting?](#2.4.4.2-Did-I-tell-you-about-string-formatting?)\n",
    "\t\t* [2.4.5 List comprehensions: A short way to create a sequence.](#2.4.5-List-comprehensions:-A-short-way-to-create-a-sequence.)\n",
    "\t\t* [2.4.6 What are `tuple`s for, you ask?](#2.4.6-What-are-tuples-for,-you-ask?)\n",
    "\t\t* [2.4.7 dictionaries:](#2.4.7-dictionaries:)\n",
    "\t* [2.5 functions:](#2.5-functions:)\n",
    "\t* [2.6 Using modules](#2.6-Using-modules)\n"
   ]
  },
  {
   "cell_type": "markdown",
   "metadata": {},
   "source": [
    "# 1. Introduction to Interactive Network Analysis and Visualization with Python"
   ]
  },
  {
   "cell_type": "markdown",
   "metadata": {},
   "source": [
    "*a GGNB short method course offered by Debsankha Manik and Jana Lassar at the MPI for Dynamics and Self-Organization in September 2014*"
   ]
  },
  {
   "cell_type": "markdown",
   "metadata": {},
   "source": [
    "## 1.1 What is Python?"
   ]
  },
  {
   "cell_type": "markdown",
   "metadata": {},
   "source": [
    "* a general-purpose, high-level programming language.\n",
    "* free and open source\n",
    "* easy to learn and easy to read\n",
    "* portable to any OS\n",
    "* saves your time rather than CPU time\n",
    "* used by many scientists \n",
    "   -> large set of modules for data processing/analysis/visualization/..."
   ]
  },
  {
   "cell_type": "markdown",
   "metadata": {},
   "source": [
    "<img\n",
    "src=\"http://image.slidesharecdn.com/scientific-python-151121091532-lva1-app6892/95/scientific-python-28-638.jpg?cb=1448101074\" />"
   ]
  },
  {
   "cell_type": "markdown",
   "metadata": {},
   "source": [
    "### 1.1.1 How to use Python"
   ]
  },
  {
   "cell_type": "markdown",
   "metadata": {},
   "source": [
    "* interactive interpreter (python, ipython)\n",
    "* scripts (with any text editor, there is no standard IDE)\n",
    "* jupyter (aka ipython notebook)"
   ]
  },
  {
   "cell_type": "markdown",
   "metadata": {},
   "source": [
    "## 1.2 A short intro to jupyter"
   ]
  },
  {
   "cell_type": "markdown",
   "metadata": {},
   "source": [
    "### 1.2.1 Markdown is cool"
   ]
  },
  {
   "cell_type": "markdown",
   "metadata": {},
   "source": [
    "Markdown is a lightweight markup language."
   ]
  },
  {
   "cell_type": "markdown",
   "metadata": {},
   "source": [
    "#### 1.2.1.1 This is a heading"
   ]
  },
  {
   "cell_type": "markdown",
   "metadata": {},
   "source": [
    "This is a list:\n",
    "\n",
    "  * apples\n",
    "  * oranges\n",
    "  * pears\n",
    "\n",
    "A numbered list:\n",
    "\n",
    "  1. apples\n",
    "  2. oranges\n",
    "  3. pears\n",
    "\n",
    "LaTeX equations \n",
    "\n",
    "\\begin{align}\n",
    "f(x \\; | \\; \\mu, \\sigma) = \\frac{1}{\\sigma\\sqrt{2\\pi} } \\; e^{ -\\frac{(x-\\mu)^2}{2\\sigma^2} }\n",
    "\\end{align}\n",
    "\n",
    "And this is a [link where you find more about markdown syntax](https://github.com/adam-p/markdown-here/wiki/Markdown-Cheatsheet)."
   ]
  },
  {
   "cell_type": "markdown",
   "metadata": {},
   "source": [
    "### 1.2.2 **Use the `TAB`**"
   ]
  },
  {
   "cell_type": "code",
   "execution_count": 4,
   "metadata": {
    "collapsed": true
   },
   "outputs": [],
   "source": [
    "# print(  # Tab now should display the docstring\n",
    "\n",
    "# Also woks:\n",
    "print??"
   ]
  },
  {
   "cell_type": "markdown",
   "metadata": {},
   "source": [
    "### 1.2.3 Write your own documentations"
   ]
  },
  {
   "cell_type": "code",
   "execution_count": 5,
   "metadata": {
    "collapsed": true
   },
   "outputs": [],
   "source": [
    "def isprime(n): \n",
    "    \"\"\"Determine if a given number is a prime number\"\"\" \n",
    "    for x in range(2, n-1): \n",
    "        if n % x == 0:       #if n modulo x equals 0\n",
    "            return False     #then n is not a prime number\n",
    "    return True "
   ]
  },
  {
   "cell_type": "code",
   "execution_count": 6,
   "metadata": {
    "collapsed": true
   },
   "outputs": [],
   "source": [
    "isprime??"
   ]
  },
  {
   "cell_type": "markdown",
   "metadata": {},
   "source": [
    "### 1.2.4 Inline plots & interactive widgets"
   ]
  },
  {
   "cell_type": "code",
   "execution_count": 7,
   "metadata": {
    "collapsed": false
   },
   "outputs": [
    {
     "data": {
      "image/svg+xml": [
       "<?xml version=\"1.0\" encoding=\"utf-8\" standalone=\"no\"?>\n",
       "<!DOCTYPE svg PUBLIC \"-//W3C//DTD SVG 1.1//EN\"\n",
       "  \"http://www.w3.org/Graphics/SVG/1.1/DTD/svg11.dtd\">\n",
       "<!-- Created with matplotlib (http://matplotlib.org/) -->\n",
       "<svg height=\"261pt\" version=\"1.1\" viewBox=\"0 0 393 261\" width=\"393pt\" xmlns=\"http://www.w3.org/2000/svg\" xmlns:xlink=\"http://www.w3.org/1999/xlink\">\n",
       " <defs>\n",
       "  <style type=\"text/css\">\n",
       "*{stroke-linecap:butt;stroke-linejoin:round;stroke-miterlimit:100000;}\n",
       "  </style>\n",
       " </defs>\n",
       " <g id=\"figure_1\">\n",
       "  <g id=\"patch_1\">\n",
       "   <path d=\"M 0 261.061562 \n",
       "L 393.235 261.061562 \n",
       "L 393.235 0 \n",
       "L 0 0 \n",
       "L 0 261.061562 \n",
       "z\n",
       "\" style=\"fill:none;\"/>\n",
       "  </g>\n",
       "  <g id=\"axes_1\">\n",
       "   <g id=\"patch_2\">\n",
       "    <path d=\"M 37.88875 235.887187 \n",
       "L 372.68875 235.887187 \n",
       "L 372.68875 12.687187 \n",
       "L 37.88875 12.687187 \n",
       "z\n",
       "\" style=\"fill:#eaeaf2;\"/>\n",
       "   </g>\n",
       "   <g id=\"matplotlib.axis_1\">\n",
       "    <g id=\"xtick_1\">\n",
       "     <g id=\"line2d_1\">\n",
       "      <path clip-path=\"url(#p2ee515f497)\" d=\"M 37.88875 235.887187 \n",
       "L 37.88875 12.687187 \n",
       "\" style=\"fill:none;stroke:#ffffff;stroke-linecap:round;\"/>\n",
       "     </g>\n",
       "     <g id=\"line2d_2\">\n",
       "      <defs>\n",
       "       <path d=\"M 0 0 \n",
       "L 0 -10 \n",
       "\" id=\"m5843026739\" style=\"stroke:#262626;\"/>\n",
       "      </defs>\n",
       "      <g>\n",
       "       <use style=\"fill:#262626;stroke:#262626;\" x=\"37.88875\" xlink:href=\"#m5843026739\" y=\"235.8871875\"/>\n",
       "      </g>\n",
       "     </g>\n",
       "     <g id=\"line2d_3\">\n",
       "      <defs>\n",
       "       <path d=\"M 0 0 \n",
       "L 0 10 \n",
       "\" id=\"m36589a8e3d\" style=\"stroke:#262626;\"/>\n",
       "      </defs>\n",
       "      <g>\n",
       "       <use style=\"fill:#262626;stroke:#262626;\" x=\"37.88875\" xlink:href=\"#m36589a8e3d\" y=\"12.6871875\"/>\n",
       "      </g>\n",
       "     </g>\n",
       "     <g id=\"text_1\">\n",
       "      <!-- 0 -->\n",
       "      <defs>\n",
       "       <path d=\"M 4.15625 35.296875 \n",
       "Q 4.15625 48 6.765625 55.734375 \n",
       "Q 9.375 63.484375 14.515625 67.671875 \n",
       "Q 19.671875 71.875 27.484375 71.875 \n",
       "Q 33.25 71.875 37.59375 69.546875 \n",
       "Q 41.9375 67.234375 44.765625 62.859375 \n",
       "Q 47.609375 58.5 49.21875 52.21875 \n",
       "Q 50.828125 45.953125 50.828125 35.296875 \n",
       "Q 50.828125 22.703125 48.234375 14.96875 \n",
       "Q 45.65625 7.234375 40.5 3 \n",
       "Q 35.359375 -1.21875 27.484375 -1.21875 \n",
       "Q 17.140625 -1.21875 11.234375 6.203125 \n",
       "Q 4.15625 15.140625 4.15625 35.296875 \n",
       "M 13.1875 35.296875 \n",
       "Q 13.1875 17.671875 17.3125 11.828125 \n",
       "Q 21.4375 6 27.484375 6 \n",
       "Q 33.546875 6 37.671875 11.859375 \n",
       "Q 41.796875 17.71875 41.796875 35.296875 \n",
       "Q 41.796875 52.984375 37.671875 58.78125 \n",
       "Q 33.546875 64.59375 27.390625 64.59375 \n",
       "Q 21.34375 64.59375 17.71875 59.46875 \n",
       "Q 13.1875 52.9375 13.1875 35.296875 \n",
       "\" id=\"ArialMT-30\"/>\n",
       "      </defs>\n",
       "      <g style=\"fill:#262626;\" transform=\"translate(34.5521875 251.4765625)scale(0.12 -0.12)\">\n",
       "       <use xlink:href=\"#ArialMT-30\"/>\n",
       "      </g>\n",
       "     </g>\n",
       "    </g>\n",
       "    <g id=\"xtick_2\">\n",
       "     <g id=\"line2d_4\">\n",
       "      <path clip-path=\"url(#p2ee515f497)\" d=\"M 104.84875 235.887187 \n",
       "L 104.84875 12.687187 \n",
       "\" style=\"fill:none;stroke:#ffffff;stroke-linecap:round;\"/>\n",
       "     </g>\n",
       "     <g id=\"line2d_5\">\n",
       "      <g>\n",
       "       <use style=\"fill:#262626;stroke:#262626;\" x=\"104.84875\" xlink:href=\"#m5843026739\" y=\"235.8871875\"/>\n",
       "      </g>\n",
       "     </g>\n",
       "     <g id=\"line2d_6\">\n",
       "      <g>\n",
       "       <use style=\"fill:#262626;stroke:#262626;\" x=\"104.84875\" xlink:href=\"#m36589a8e3d\" y=\"12.6871875\"/>\n",
       "      </g>\n",
       "     </g>\n",
       "     <g id=\"text_2\">\n",
       "      <!-- 200 -->\n",
       "      <defs>\n",
       "       <path d=\"M 50.34375 8.453125 \n",
       "L 50.34375 0 \n",
       "L 3.03125 0 \n",
       "Q 2.9375 3.171875 4.046875 6.109375 \n",
       "Q 5.859375 10.9375 9.828125 15.625 \n",
       "Q 13.8125 20.3125 21.34375 26.46875 \n",
       "Q 33.015625 36.03125 37.109375 41.625 \n",
       "Q 41.21875 47.21875 41.21875 52.203125 \n",
       "Q 41.21875 57.421875 37.46875 61 \n",
       "Q 33.734375 64.59375 27.734375 64.59375 \n",
       "Q 21.390625 64.59375 17.578125 60.78125 \n",
       "Q 13.765625 56.984375 13.71875 50.25 \n",
       "L 4.6875 51.171875 \n",
       "Q 5.609375 61.28125 11.65625 66.578125 \n",
       "Q 17.71875 71.875 27.9375 71.875 \n",
       "Q 38.234375 71.875 44.234375 66.15625 \n",
       "Q 50.25 60.453125 50.25 52 \n",
       "Q 50.25 47.703125 48.484375 43.546875 \n",
       "Q 46.734375 39.40625 42.65625 34.8125 \n",
       "Q 38.578125 30.21875 29.109375 22.21875 \n",
       "Q 21.1875 15.578125 18.9375 13.203125 \n",
       "Q 16.703125 10.84375 15.234375 8.453125 \n",
       "z\n",
       "\" id=\"ArialMT-32\"/>\n",
       "      </defs>\n",
       "      <g style=\"fill:#262626;\" transform=\"translate(94.8390625 251.4765625)scale(0.12 -0.12)\">\n",
       "       <use xlink:href=\"#ArialMT-32\"/>\n",
       "       <use x=\"55.615234375\" xlink:href=\"#ArialMT-30\"/>\n",
       "       <use x=\"111.23046875\" xlink:href=\"#ArialMT-30\"/>\n",
       "      </g>\n",
       "     </g>\n",
       "    </g>\n",
       "    <g id=\"xtick_3\">\n",
       "     <g id=\"line2d_7\">\n",
       "      <path clip-path=\"url(#p2ee515f497)\" d=\"M 171.80875 235.887187 \n",
       "L 171.80875 12.687187 \n",
       "\" style=\"fill:none;stroke:#ffffff;stroke-linecap:round;\"/>\n",
       "     </g>\n",
       "     <g id=\"line2d_8\">\n",
       "      <g>\n",
       "       <use style=\"fill:#262626;stroke:#262626;\" x=\"171.80875\" xlink:href=\"#m5843026739\" y=\"235.8871875\"/>\n",
       "      </g>\n",
       "     </g>\n",
       "     <g id=\"line2d_9\">\n",
       "      <g>\n",
       "       <use style=\"fill:#262626;stroke:#262626;\" x=\"171.80875\" xlink:href=\"#m36589a8e3d\" y=\"12.6871875\"/>\n",
       "      </g>\n",
       "     </g>\n",
       "     <g id=\"text_3\">\n",
       "      <!-- 400 -->\n",
       "      <defs>\n",
       "       <path d=\"M 32.328125 0 \n",
       "L 32.328125 17.140625 \n",
       "L 1.265625 17.140625 \n",
       "L 1.265625 25.203125 \n",
       "L 33.9375 71.578125 \n",
       "L 41.109375 71.578125 \n",
       "L 41.109375 25.203125 \n",
       "L 50.78125 25.203125 \n",
       "L 50.78125 17.140625 \n",
       "L 41.109375 17.140625 \n",
       "L 41.109375 0 \n",
       "z\n",
       "M 32.328125 25.203125 \n",
       "L 32.328125 57.46875 \n",
       "L 9.90625 25.203125 \n",
       "z\n",
       "\" id=\"ArialMT-34\"/>\n",
       "      </defs>\n",
       "      <g style=\"fill:#262626;\" transform=\"translate(161.7990625 251.4765625)scale(0.12 -0.12)\">\n",
       "       <use xlink:href=\"#ArialMT-34\"/>\n",
       "       <use x=\"55.615234375\" xlink:href=\"#ArialMT-30\"/>\n",
       "       <use x=\"111.23046875\" xlink:href=\"#ArialMT-30\"/>\n",
       "      </g>\n",
       "     </g>\n",
       "    </g>\n",
       "    <g id=\"xtick_4\">\n",
       "     <g id=\"line2d_10\">\n",
       "      <path clip-path=\"url(#p2ee515f497)\" d=\"M 238.76875 235.887187 \n",
       "L 238.76875 12.687187 \n",
       "\" style=\"fill:none;stroke:#ffffff;stroke-linecap:round;\"/>\n",
       "     </g>\n",
       "     <g id=\"line2d_11\">\n",
       "      <g>\n",
       "       <use style=\"fill:#262626;stroke:#262626;\" x=\"238.76875\" xlink:href=\"#m5843026739\" y=\"235.8871875\"/>\n",
       "      </g>\n",
       "     </g>\n",
       "     <g id=\"line2d_12\">\n",
       "      <g>\n",
       "       <use style=\"fill:#262626;stroke:#262626;\" x=\"238.76875\" xlink:href=\"#m36589a8e3d\" y=\"12.6871875\"/>\n",
       "      </g>\n",
       "     </g>\n",
       "     <g id=\"text_4\">\n",
       "      <!-- 600 -->\n",
       "      <defs>\n",
       "       <path d=\"M 49.75 54.046875 \n",
       "L 41.015625 53.375 \n",
       "Q 39.84375 58.546875 37.703125 60.890625 \n",
       "Q 34.125 64.65625 28.90625 64.65625 \n",
       "Q 24.703125 64.65625 21.53125 62.3125 \n",
       "Q 17.390625 59.28125 14.984375 53.46875 \n",
       "Q 12.59375 47.65625 12.5 36.921875 \n",
       "Q 15.671875 41.75 20.265625 44.09375 \n",
       "Q 24.859375 46.4375 29.890625 46.4375 \n",
       "Q 38.671875 46.4375 44.84375 39.96875 \n",
       "Q 51.03125 33.5 51.03125 23.25 \n",
       "Q 51.03125 16.5 48.125 10.71875 \n",
       "Q 45.21875 4.9375 40.140625 1.859375 \n",
       "Q 35.0625 -1.21875 28.609375 -1.21875 \n",
       "Q 17.625 -1.21875 10.6875 6.859375 \n",
       "Q 3.765625 14.9375 3.765625 33.5 \n",
       "Q 3.765625 54.25 11.421875 63.671875 \n",
       "Q 18.109375 71.875 29.4375 71.875 \n",
       "Q 37.890625 71.875 43.28125 67.140625 \n",
       "Q 48.6875 62.40625 49.75 54.046875 \n",
       "M 13.875 23.1875 \n",
       "Q 13.875 18.65625 15.796875 14.5 \n",
       "Q 17.71875 10.359375 21.1875 8.171875 \n",
       "Q 24.65625 6 28.46875 6 \n",
       "Q 34.03125 6 38.03125 10.484375 \n",
       "Q 42.046875 14.984375 42.046875 22.703125 \n",
       "Q 42.046875 30.125 38.078125 34.390625 \n",
       "Q 34.125 38.671875 28.125 38.671875 \n",
       "Q 22.171875 38.671875 18.015625 34.390625 \n",
       "Q 13.875 30.125 13.875 23.1875 \n",
       "\" id=\"ArialMT-36\"/>\n",
       "      </defs>\n",
       "      <g style=\"fill:#262626;\" transform=\"translate(228.7590625 251.4765625)scale(0.12 -0.12)\">\n",
       "       <use xlink:href=\"#ArialMT-36\"/>\n",
       "       <use x=\"55.615234375\" xlink:href=\"#ArialMT-30\"/>\n",
       "       <use x=\"111.23046875\" xlink:href=\"#ArialMT-30\"/>\n",
       "      </g>\n",
       "     </g>\n",
       "    </g>\n",
       "    <g id=\"xtick_5\">\n",
       "     <g id=\"line2d_13\">\n",
       "      <path clip-path=\"url(#p2ee515f497)\" d=\"M 305.72875 235.887187 \n",
       "L 305.72875 12.687187 \n",
       "\" style=\"fill:none;stroke:#ffffff;stroke-linecap:round;\"/>\n",
       "     </g>\n",
       "     <g id=\"line2d_14\">\n",
       "      <g>\n",
       "       <use style=\"fill:#262626;stroke:#262626;\" x=\"305.72875\" xlink:href=\"#m5843026739\" y=\"235.8871875\"/>\n",
       "      </g>\n",
       "     </g>\n",
       "     <g id=\"line2d_15\">\n",
       "      <g>\n",
       "       <use style=\"fill:#262626;stroke:#262626;\" x=\"305.72875\" xlink:href=\"#m36589a8e3d\" y=\"12.6871875\"/>\n",
       "      </g>\n",
       "     </g>\n",
       "     <g id=\"text_5\">\n",
       "      <!-- 800 -->\n",
       "      <defs>\n",
       "       <path d=\"M 17.671875 38.8125 \n",
       "Q 12.203125 40.828125 9.5625 44.53125 \n",
       "Q 6.9375 48.25 6.9375 53.421875 \n",
       "Q 6.9375 61.234375 12.546875 66.546875 \n",
       "Q 18.171875 71.875 27.484375 71.875 \n",
       "Q 36.859375 71.875 42.578125 66.421875 \n",
       "Q 48.296875 60.984375 48.296875 53.171875 \n",
       "Q 48.296875 48.1875 45.671875 44.5 \n",
       "Q 43.0625 40.828125 37.75 38.8125 \n",
       "Q 44.34375 36.671875 47.78125 31.875 \n",
       "Q 51.21875 27.09375 51.21875 20.453125 \n",
       "Q 51.21875 11.28125 44.71875 5.03125 \n",
       "Q 38.234375 -1.21875 27.640625 -1.21875 \n",
       "Q 17.046875 -1.21875 10.546875 5.046875 \n",
       "Q 4.046875 11.328125 4.046875 20.703125 \n",
       "Q 4.046875 27.6875 7.59375 32.390625 \n",
       "Q 11.140625 37.109375 17.671875 38.8125 \n",
       "M 15.921875 53.71875 \n",
       "Q 15.921875 48.640625 19.1875 45.40625 \n",
       "Q 22.46875 42.1875 27.6875 42.1875 \n",
       "Q 32.765625 42.1875 36.015625 45.375 \n",
       "Q 39.265625 48.578125 39.265625 53.21875 \n",
       "Q 39.265625 58.0625 35.90625 61.359375 \n",
       "Q 32.5625 64.65625 27.59375 64.65625 \n",
       "Q 22.5625 64.65625 19.234375 61.421875 \n",
       "Q 15.921875 58.203125 15.921875 53.71875 \n",
       "M 13.09375 20.65625 \n",
       "Q 13.09375 16.890625 14.875 13.375 \n",
       "Q 16.65625 9.859375 20.171875 7.921875 \n",
       "Q 23.6875 6 27.734375 6 \n",
       "Q 34.03125 6 38.125 10.046875 \n",
       "Q 42.234375 14.109375 42.234375 20.359375 \n",
       "Q 42.234375 26.703125 38.015625 30.859375 \n",
       "Q 33.796875 35.015625 27.4375 35.015625 \n",
       "Q 21.234375 35.015625 17.15625 30.90625 \n",
       "Q 13.09375 26.8125 13.09375 20.65625 \n",
       "\" id=\"ArialMT-38\"/>\n",
       "      </defs>\n",
       "      <g style=\"fill:#262626;\" transform=\"translate(295.7190625 251.4765625)scale(0.12 -0.12)\">\n",
       "       <use xlink:href=\"#ArialMT-38\"/>\n",
       "       <use x=\"55.615234375\" xlink:href=\"#ArialMT-30\"/>\n",
       "       <use x=\"111.23046875\" xlink:href=\"#ArialMT-30\"/>\n",
       "      </g>\n",
       "     </g>\n",
       "    </g>\n",
       "    <g id=\"xtick_6\">\n",
       "     <g id=\"line2d_16\">\n",
       "      <path clip-path=\"url(#p2ee515f497)\" d=\"M 372.68875 235.887187 \n",
       "L 372.68875 12.687187 \n",
       "\" style=\"fill:none;stroke:#ffffff;stroke-linecap:round;\"/>\n",
       "     </g>\n",
       "     <g id=\"line2d_17\">\n",
       "      <g>\n",
       "       <use style=\"fill:#262626;stroke:#262626;\" x=\"372.68875\" xlink:href=\"#m5843026739\" y=\"235.8871875\"/>\n",
       "      </g>\n",
       "     </g>\n",
       "     <g id=\"line2d_18\">\n",
       "      <g>\n",
       "       <use style=\"fill:#262626;stroke:#262626;\" x=\"372.68875\" xlink:href=\"#m36589a8e3d\" y=\"12.6871875\"/>\n",
       "      </g>\n",
       "     </g>\n",
       "     <g id=\"text_6\">\n",
       "      <!-- 1000 -->\n",
       "      <defs>\n",
       "       <path d=\"M 37.25 0 \n",
       "L 28.46875 0 \n",
       "L 28.46875 56 \n",
       "Q 25.296875 52.984375 20.140625 49.953125 \n",
       "Q 14.984375 46.921875 10.890625 45.40625 \n",
       "L 10.890625 53.90625 \n",
       "Q 18.265625 57.375 23.78125 62.296875 \n",
       "Q 29.296875 67.234375 31.59375 71.875 \n",
       "L 37.25 71.875 \n",
       "z\n",
       "\" id=\"ArialMT-31\"/>\n",
       "      </defs>\n",
       "      <g style=\"fill:#262626;\" transform=\"translate(359.3425 251.4765625)scale(0.12 -0.12)\">\n",
       "       <use xlink:href=\"#ArialMT-31\"/>\n",
       "       <use x=\"55.615234375\" xlink:href=\"#ArialMT-30\"/>\n",
       "       <use x=\"111.23046875\" xlink:href=\"#ArialMT-30\"/>\n",
       "       <use x=\"166.845703125\" xlink:href=\"#ArialMT-30\"/>\n",
       "      </g>\n",
       "     </g>\n",
       "    </g>\n",
       "   </g>\n",
       "   <g id=\"matplotlib.axis_2\">\n",
       "    <g id=\"ytick_1\">\n",
       "     <g id=\"line2d_19\">\n",
       "      <path clip-path=\"url(#p2ee515f497)\" d=\"M 37.88875 235.887187 \n",
       "L 372.68875 235.887187 \n",
       "\" style=\"fill:none;stroke:#ffffff;stroke-linecap:round;\"/>\n",
       "     </g>\n",
       "     <g id=\"line2d_20\">\n",
       "      <defs>\n",
       "       <path d=\"M 0 0 \n",
       "L 10 0 \n",
       "\" id=\"m8de02f9e15\" style=\"stroke:#262626;\"/>\n",
       "      </defs>\n",
       "      <g>\n",
       "       <use style=\"fill:#262626;stroke:#262626;\" x=\"37.88875\" xlink:href=\"#m8de02f9e15\" y=\"235.8871875\"/>\n",
       "      </g>\n",
       "     </g>\n",
       "     <g id=\"line2d_21\">\n",
       "      <defs>\n",
       "       <path d=\"M 0 0 \n",
       "L -10 0 \n",
       "\" id=\"m00511cad69\" style=\"stroke:#262626;\"/>\n",
       "      </defs>\n",
       "      <g>\n",
       "       <use style=\"fill:#262626;stroke:#262626;\" x=\"372.68875\" xlink:href=\"#m00511cad69\" y=\"235.8871875\"/>\n",
       "      </g>\n",
       "     </g>\n",
       "     <g id=\"text_7\">\n",
       "      <!-- −1.0 -->\n",
       "      <defs>\n",
       "       <path d=\"M 52.828125 31.203125 \n",
       "L 5.5625 31.203125 \n",
       "L 5.5625 39.40625 \n",
       "L 52.828125 39.40625 \n",
       "z\n",
       "\" id=\"ArialMT-2212\"/>\n",
       "       <path d=\"M 9.078125 0 \n",
       "L 9.078125 10.015625 \n",
       "L 19.09375 10.015625 \n",
       "L 19.09375 0 \n",
       "z\n",
       "\" id=\"ArialMT-2e\"/>\n",
       "      </defs>\n",
       "      <g style=\"fill:#262626;\" transform=\"translate(7.2 238.989375)scale(0.12 -0.12)\">\n",
       "       <use xlink:href=\"#ArialMT-2212\"/>\n",
       "       <use x=\"58.3984375\" xlink:href=\"#ArialMT-31\"/>\n",
       "       <use x=\"114.013671875\" xlink:href=\"#ArialMT-2e\"/>\n",
       "       <use x=\"141.796875\" xlink:href=\"#ArialMT-30\"/>\n",
       "      </g>\n",
       "     </g>\n",
       "    </g>\n",
       "    <g id=\"ytick_2\">\n",
       "     <g id=\"line2d_22\">\n",
       "      <path clip-path=\"url(#p2ee515f497)\" d=\"M 37.88875 180.087187 \n",
       "L 372.68875 180.087187 \n",
       "\" style=\"fill:none;stroke:#ffffff;stroke-linecap:round;\"/>\n",
       "     </g>\n",
       "     <g id=\"line2d_23\">\n",
       "      <g>\n",
       "       <use style=\"fill:#262626;stroke:#262626;\" x=\"37.88875\" xlink:href=\"#m8de02f9e15\" y=\"180.0871875\"/>\n",
       "      </g>\n",
       "     </g>\n",
       "     <g id=\"line2d_24\">\n",
       "      <g>\n",
       "       <use style=\"fill:#262626;stroke:#262626;\" x=\"372.68875\" xlink:href=\"#m00511cad69\" y=\"180.0871875\"/>\n",
       "      </g>\n",
       "     </g>\n",
       "     <g id=\"text_8\">\n",
       "      <!-- −0.5 -->\n",
       "      <defs>\n",
       "       <path d=\"M 4.15625 18.75 \n",
       "L 13.375 19.53125 \n",
       "Q 14.40625 12.796875 18.140625 9.390625 \n",
       "Q 21.875 6 27.15625 6 \n",
       "Q 33.5 6 37.890625 10.78125 \n",
       "Q 42.28125 15.578125 42.28125 23.484375 \n",
       "Q 42.28125 31 38.0625 35.34375 \n",
       "Q 33.84375 39.703125 27 39.703125 \n",
       "Q 22.75 39.703125 19.328125 37.765625 \n",
       "Q 15.921875 35.84375 13.96875 32.765625 \n",
       "L 5.71875 33.84375 \n",
       "L 12.640625 70.609375 \n",
       "L 48.25 70.609375 \n",
       "L 48.25 62.203125 \n",
       "L 19.671875 62.203125 \n",
       "L 15.828125 42.96875 \n",
       "Q 22.265625 47.46875 29.34375 47.46875 \n",
       "Q 38.71875 47.46875 45.15625 40.96875 \n",
       "Q 51.609375 34.46875 51.609375 24.265625 \n",
       "Q 51.609375 14.546875 45.953125 7.46875 \n",
       "Q 39.0625 -1.21875 27.15625 -1.21875 \n",
       "Q 17.390625 -1.21875 11.203125 4.25 \n",
       "Q 5.03125 9.71875 4.15625 18.75 \n",
       "\" id=\"ArialMT-35\"/>\n",
       "      </defs>\n",
       "      <g style=\"fill:#262626;\" transform=\"translate(7.2 183.189375)scale(0.12 -0.12)\">\n",
       "       <use xlink:href=\"#ArialMT-2212\"/>\n",
       "       <use x=\"58.3984375\" xlink:href=\"#ArialMT-30\"/>\n",
       "       <use x=\"114.013671875\" xlink:href=\"#ArialMT-2e\"/>\n",
       "       <use x=\"141.796875\" xlink:href=\"#ArialMT-35\"/>\n",
       "      </g>\n",
       "     </g>\n",
       "    </g>\n",
       "    <g id=\"ytick_3\">\n",
       "     <g id=\"line2d_25\">\n",
       "      <path clip-path=\"url(#p2ee515f497)\" d=\"M 37.88875 124.287187 \n",
       "L 372.68875 124.287187 \n",
       "\" style=\"fill:none;stroke:#ffffff;stroke-linecap:round;\"/>\n",
       "     </g>\n",
       "     <g id=\"line2d_26\">\n",
       "      <g>\n",
       "       <use style=\"fill:#262626;stroke:#262626;\" x=\"37.88875\" xlink:href=\"#m8de02f9e15\" y=\"124.2871875\"/>\n",
       "      </g>\n",
       "     </g>\n",
       "     <g id=\"line2d_27\">\n",
       "      <g>\n",
       "       <use style=\"fill:#262626;stroke:#262626;\" x=\"372.68875\" xlink:href=\"#m00511cad69\" y=\"124.2871875\"/>\n",
       "      </g>\n",
       "     </g>\n",
       "     <g id=\"text_9\">\n",
       "      <!-- 0.0 -->\n",
       "      <g style=\"fill:#262626;\" transform=\"translate(14.20875 127.389375)scale(0.12 -0.12)\">\n",
       "       <use xlink:href=\"#ArialMT-30\"/>\n",
       "       <use x=\"55.615234375\" xlink:href=\"#ArialMT-2e\"/>\n",
       "       <use x=\"83.3984375\" xlink:href=\"#ArialMT-30\"/>\n",
       "      </g>\n",
       "     </g>\n",
       "    </g>\n",
       "    <g id=\"ytick_4\">\n",
       "     <g id=\"line2d_28\">\n",
       "      <path clip-path=\"url(#p2ee515f497)\" d=\"M 37.88875 68.487187 \n",
       "L 372.68875 68.487187 \n",
       "\" style=\"fill:none;stroke:#ffffff;stroke-linecap:round;\"/>\n",
       "     </g>\n",
       "     <g id=\"line2d_29\">\n",
       "      <g>\n",
       "       <use style=\"fill:#262626;stroke:#262626;\" x=\"37.88875\" xlink:href=\"#m8de02f9e15\" y=\"68.4871875\"/>\n",
       "      </g>\n",
       "     </g>\n",
       "     <g id=\"line2d_30\">\n",
       "      <g>\n",
       "       <use style=\"fill:#262626;stroke:#262626;\" x=\"372.68875\" xlink:href=\"#m00511cad69\" y=\"68.4871875\"/>\n",
       "      </g>\n",
       "     </g>\n",
       "     <g id=\"text_10\">\n",
       "      <!-- 0.5 -->\n",
       "      <g style=\"fill:#262626;\" transform=\"translate(14.20875 71.589375)scale(0.12 -0.12)\">\n",
       "       <use xlink:href=\"#ArialMT-30\"/>\n",
       "       <use x=\"55.615234375\" xlink:href=\"#ArialMT-2e\"/>\n",
       "       <use x=\"83.3984375\" xlink:href=\"#ArialMT-35\"/>\n",
       "      </g>\n",
       "     </g>\n",
       "    </g>\n",
       "    <g id=\"ytick_5\">\n",
       "     <g id=\"line2d_31\">\n",
       "      <path clip-path=\"url(#p2ee515f497)\" d=\"M 37.88875 12.687187 \n",
       "L 372.68875 12.687187 \n",
       "\" style=\"fill:none;stroke:#ffffff;stroke-linecap:round;\"/>\n",
       "     </g>\n",
       "     <g id=\"line2d_32\">\n",
       "      <g>\n",
       "       <use style=\"fill:#262626;stroke:#262626;\" x=\"37.88875\" xlink:href=\"#m8de02f9e15\" y=\"12.6871875\"/>\n",
       "      </g>\n",
       "     </g>\n",
       "     <g id=\"line2d_33\">\n",
       "      <g>\n",
       "       <use style=\"fill:#262626;stroke:#262626;\" x=\"372.68875\" xlink:href=\"#m00511cad69\" y=\"12.6871875\"/>\n",
       "      </g>\n",
       "     </g>\n",
       "     <g id=\"text_11\">\n",
       "      <!-- 1.0 -->\n",
       "      <g style=\"fill:#262626;\" transform=\"translate(14.20875 15.789375)scale(0.12 -0.12)\">\n",
       "       <use xlink:href=\"#ArialMT-31\"/>\n",
       "       <use x=\"55.615234375\" xlink:href=\"#ArialMT-2e\"/>\n",
       "       <use x=\"83.3984375\" xlink:href=\"#ArialMT-30\"/>\n",
       "      </g>\n",
       "     </g>\n",
       "    </g>\n",
       "   </g>\n",
       "   <g id=\"line2d_34\">\n",
       "    <path clip-path=\"url(#p2ee515f497)\" d=\"M 37.88875 124.287187 \n",
       "L 42.57595 85.825037 \n",
       "L 45.25435 65.677699 \n",
       "L 47.26315 52.075742 \n",
       "L 48.93715 41.980724 \n",
       "L 50.61115 33.183727 \n",
       "L 51.95035 27.17468 \n",
       "L 53.28955 22.146273 \n",
       "L 54.29395 19.049444 \n",
       "L 55.29835 16.550597 \n",
       "L 56.30275 14.66393 \n",
       "L 56.97235 13.751692 \n",
       "L 57.64195 13.118677 \n",
       "L 58.31155 12.766482 \n",
       "L 58.98115 12.695999 \n",
       "L 59.65075 12.907405 \n",
       "L 60.32035 13.400165 \n",
       "L 60.98995 14.173036 \n",
       "L 61.65955 15.224065 \n",
       "L 62.66395 17.316156 \n",
       "L 63.66835 20.016078 \n",
       "L 64.67275 23.308488 \n",
       "L 66.01195 28.587213 \n",
       "L 67.35115 34.832312 \n",
       "L 69.02515 43.9007 \n",
       "L 70.69915 54.236832 \n",
       "L 72.70795 68.082838 \n",
       "L 75.05155 85.825037 \n",
       "L 78.39955 113.08682 \n",
       "L 84.76075 165.369888 \n",
       "L 87.43915 185.264797 \n",
       "L 89.44795 198.614112 \n",
       "L 91.12195 208.461642 \n",
       "L 92.79595 216.98169 \n",
       "L 94.13515 222.750888 \n",
       "L 95.47435 227.525804 \n",
       "L 96.47875 230.425095 \n",
       "L 97.48315 232.721289 \n",
       "L 98.48755 234.401339 \n",
       "L 99.15715 235.17421 \n",
       "L 99.82675 235.66697 \n",
       "L 100.49635 235.878376 \n",
       "L 101.16595 235.807893 \n",
       "L 101.83555 235.455698 \n",
       "L 102.50515 234.822683 \n",
       "L 103.17475 233.910445 \n",
       "L 104.17915 232.023778 \n",
       "L 105.18355 229.524931 \n",
       "L 106.18795 226.428102 \n",
       "L 107.52715 221.399695 \n",
       "L 108.86635 215.390648 \n",
       "L 110.54035 206.593651 \n",
       "L 112.21435 196.498633 \n",
       "L 114.22315 182.896676 \n",
       "L 116.56675 165.369888 \n",
       "L 119.57995 141.052363 \n",
       "L 127.28035 78.042873 \n",
       "L 129.62395 60.979973 \n",
       "L 131.63275 47.89173 \n",
       "L 133.30675 38.29791 \n",
       "L 134.98075 30.060191 \n",
       "L 136.31995 24.534485 \n",
       "L 137.65915 20.016078 \n",
       "L 138.66355 17.316156 \n",
       "L 139.66795 15.224065 \n",
       "L 140.67235 13.751692 \n",
       "L 141.34195 13.118677 \n",
       "L 142.01155 12.766482 \n",
       "L 142.68115 12.695999 \n",
       "L 143.35075 12.907405 \n",
       "L 144.02035 13.400165 \n",
       "L 144.68995 14.173036 \n",
       "L 145.35955 15.224065 \n",
       "L 146.36395 17.316156 \n",
       "L 147.36835 20.016078 \n",
       "L 148.37275 23.308488 \n",
       "L 149.71195 28.587213 \n",
       "L 151.05115 34.832312 \n",
       "L 152.72515 43.9007 \n",
       "L 154.39915 54.236832 \n",
       "L 156.40795 68.082838 \n",
       "L 158.75155 85.825037 \n",
       "L 162.09955 113.08682 \n",
       "L 168.46075 165.369888 \n",
       "L 171.13915 185.264797 \n",
       "L 173.14795 198.614112 \n",
       "L 174.82195 208.461642 \n",
       "L 176.49595 216.98169 \n",
       "L 177.83515 222.750888 \n",
       "L 179.17435 227.525804 \n",
       "L 180.17875 230.425095 \n",
       "L 181.18315 232.721289 \n",
       "L 182.18755 234.401339 \n",
       "L 182.85715 235.17421 \n",
       "L 183.52675 235.66697 \n",
       "L 184.19635 235.878376 \n",
       "L 184.86595 235.807893 \n",
       "L 185.53555 235.455698 \n",
       "L 186.20515 234.822683 \n",
       "L 186.87475 233.910445 \n",
       "L 187.87915 232.023778 \n",
       "L 188.88355 229.524931 \n",
       "L 189.88795 226.428102 \n",
       "L 191.22715 221.399695 \n",
       "L 192.56635 215.390648 \n",
       "L 194.24035 206.593651 \n",
       "L 195.91435 196.498633 \n",
       "L 197.92315 182.896676 \n",
       "L 200.26675 165.369888 \n",
       "L 203.27995 141.052363 \n",
       "L 210.98035 78.042873 \n",
       "L 213.32395 60.979973 \n",
       "L 215.33275 47.89173 \n",
       "L 217.00675 38.29791 \n",
       "L 218.68075 30.060191 \n",
       "L 220.01995 24.534485 \n",
       "L 221.35915 20.016078 \n",
       "L 222.36355 17.316156 \n",
       "L 223.36795 15.224065 \n",
       "L 224.37235 13.751692 \n",
       "L 225.04195 13.118677 \n",
       "L 225.71155 12.766482 \n",
       "L 226.38115 12.695999 \n",
       "L 227.05075 12.907405 \n",
       "L 227.72035 13.400165 \n",
       "L 228.38995 14.173036 \n",
       "L 229.05955 15.224065 \n",
       "L 230.06395 17.316156 \n",
       "L 231.06835 20.016078 \n",
       "L 232.07275 23.308488 \n",
       "L 233.41195 28.587213 \n",
       "L 234.75115 34.832312 \n",
       "L 236.42515 43.9007 \n",
       "L 238.09915 54.236832 \n",
       "L 240.10795 68.082838 \n",
       "L 242.45155 85.825037 \n",
       "L 245.79955 113.08682 \n",
       "L 252.16075 165.369888 \n",
       "L 254.83915 185.264797 \n",
       "L 256.84795 198.614112 \n",
       "L 258.52195 208.461642 \n",
       "L 260.19595 216.98169 \n",
       "L 261.53515 222.750888 \n",
       "L 262.87435 227.525804 \n",
       "L 263.87875 230.425095 \n",
       "L 264.88315 232.721289 \n",
       "L 265.88755 234.401339 \n",
       "L 266.55715 235.17421 \n",
       "L 267.22675 235.66697 \n",
       "L 267.89635 235.878376 \n",
       "L 268.56595 235.807893 \n",
       "L 269.23555 235.455698 \n",
       "L 269.90515 234.822683 \n",
       "L 270.57475 233.910445 \n",
       "L 271.57915 232.023778 \n",
       "L 272.58355 229.524931 \n",
       "L 273.58795 226.428102 \n",
       "L 274.92715 221.399695 \n",
       "L 276.26635 215.390648 \n",
       "L 277.94035 206.593651 \n",
       "L 279.61435 196.498633 \n",
       "L 281.62315 182.896676 \n",
       "L 283.96675 165.369888 \n",
       "L 286.97995 141.052363 \n",
       "L 294.68035 78.042873 \n",
       "L 297.02395 60.979973 \n",
       "L 299.03275 47.89173 \n",
       "L 300.70675 38.29791 \n",
       "L 302.38075 30.060191 \n",
       "L 303.71995 24.534485 \n",
       "L 305.05915 20.016078 \n",
       "L 306.06355 17.316156 \n",
       "L 307.06795 15.224065 \n",
       "L 308.07235 13.751692 \n",
       "L 308.74195 13.118677 \n",
       "L 309.41155 12.766482 \n",
       "L 310.08115 12.695999 \n",
       "L 310.75075 12.907405 \n",
       "L 311.42035 13.400165 \n",
       "L 312.08995 14.173036 \n",
       "L 312.75955 15.224065 \n",
       "L 313.76395 17.316156 \n",
       "L 314.76835 20.016078 \n",
       "L 315.77275 23.308488 \n",
       "L 317.11195 28.587213 \n",
       "L 318.45115 34.832312 \n",
       "L 320.12515 43.9007 \n",
       "L 321.79915 54.236832 \n",
       "L 323.80795 68.082838 \n",
       "L 326.15155 85.825037 \n",
       "L 329.49955 113.08682 \n",
       "L 335.86075 165.369888 \n",
       "L 338.53915 185.264797 \n",
       "L 340.54795 198.614112 \n",
       "L 342.22195 208.461642 \n",
       "L 343.89595 216.98169 \n",
       "L 345.23515 222.750888 \n",
       "L 346.57435 227.525804 \n",
       "L 347.57875 230.425095 \n",
       "L 348.58315 232.721289 \n",
       "L 349.58755 234.401339 \n",
       "L 350.25715 235.17421 \n",
       "L 350.92675 235.66697 \n",
       "L 351.59635 235.878376 \n",
       "L 352.26595 235.807893 \n",
       "L 352.93555 235.455698 \n",
       "L 353.60515 234.822683 \n",
       "L 354.27475 233.910445 \n",
       "L 355.27915 232.023778 \n",
       "L 356.28355 229.524931 \n",
       "L 357.28795 226.428102 \n",
       "L 358.62715 221.399695 \n",
       "L 359.96635 215.390648 \n",
       "L 361.64035 206.593651 \n",
       "L 363.31435 196.498633 \n",
       "L 365.32315 182.896676 \n",
       "L 367.66675 165.369888 \n",
       "L 370.67995 141.052363 \n",
       "L 372.35395 127.091706 \n",
       "L 372.35395 127.091706 \n",
       "\" style=\"fill:none;stroke:#f77189;stroke-linecap:round;stroke-width:3.0;\"/>\n",
       "   </g>\n",
       "   <g id=\"patch_3\">\n",
       "    <path d=\"M 37.88875 235.887187 \n",
       "L 37.88875 12.687187 \n",
       "\" style=\"fill:none;stroke:#ffffff;stroke-linecap:square;stroke-linejoin:miter;stroke-width:3.0;\"/>\n",
       "   </g>\n",
       "   <g id=\"patch_4\">\n",
       "    <path d=\"M 37.88875 235.887187 \n",
       "L 372.68875 235.887187 \n",
       "\" style=\"fill:none;stroke:#ffffff;stroke-linecap:square;stroke-linejoin:miter;stroke-width:3.0;\"/>\n",
       "   </g>\n",
       "   <g id=\"patch_5\">\n",
       "    <path d=\"M 372.68875 235.887187 \n",
       "L 372.68875 12.687187 \n",
       "\" style=\"fill:none;stroke:#ffffff;stroke-linecap:square;stroke-linejoin:miter;stroke-width:3.0;\"/>\n",
       "   </g>\n",
       "   <g id=\"patch_6\">\n",
       "    <path d=\"M 37.88875 12.687187 \n",
       "L 372.68875 12.687187 \n",
       "\" style=\"fill:none;stroke:#ffffff;stroke-linecap:square;stroke-linejoin:miter;stroke-width:3.0;\"/>\n",
       "   </g>\n",
       "  </g>\n",
       " </g>\n",
       " <defs>\n",
       "  <clipPath id=\"p2ee515f497\">\n",
       "   <rect height=\"223.2\" width=\"334.8\" x=\"37.88875\" y=\"12.6871875\"/>\n",
       "  </clipPath>\n",
       " </defs>\n",
       "</svg>\n"
      ],
      "text/plain": [
       "<matplotlib.figure.Figure at 0x7fa2796441d0>"
      ]
     },
     "metadata": {},
     "output_type": "display_data"
    }
   ],
   "source": [
    "%matplotlib inline\n",
    "import pylab as pl\n",
    "import numpy as np\n",
    "from IPython.html.widgets import interact\n",
    "\n",
    "def plot(frequency):\n",
    "    x = np.arange(1000)\n",
    "    pl.plot(x, np.sin(2*np.pi*frequency*x/1000))\n",
    "interact(plot, frequency=(0,20,1))"
   ]
  },
  {
   "cell_type": "markdown",
   "metadata": {},
   "source": [
    "# 2. Short tutorial on python"
   ]
  },
  {
   "cell_type": "markdown",
   "metadata": {},
   "source": [
    "## 2.1 datatypes and operators"
   ]
  },
  {
   "cell_type": "markdown",
   "metadata": {},
   "source": [
    "### 2.1.1 integer, float, strings"
   ]
  },
  {
   "cell_type": "code",
   "execution_count": 8,
   "metadata": {
    "collapsed": false
   },
   "outputs": [],
   "source": [
    "#name = object\n",
    "a = 17\n",
    "b = 3.14\n",
    "c = \"bla\""
   ]
  },
  {
   "cell_type": "code",
   "execution_count": 9,
   "metadata": {
    "collapsed": false
   },
   "outputs": [
    {
     "name": "stdout",
     "output_type": "stream",
     "text": [
      "17\n",
      "3.14\n",
      "bla\n",
      "[2, 4.1, 'bla']\n"
     ]
    }
   ],
   "source": [
    "print(a)\n",
    "print(b)\n",
    "print(c)"
   ]
  },
  {
   "cell_type": "code",
   "execution_count": 10,
   "metadata": {
    "collapsed": false
   },
   "outputs": [
    {
     "name": "stdout",
     "output_type": "stream",
     "text": [
      "<class 'int'>\n",
      "<class 'float'>\n",
      "<class 'str'>\n",
      "<class 'list'>\n"
     ]
    }
   ],
   "source": [
    "print(type(a))\n",
    "print(type(b))\n",
    "print(type(c))"
   ]
  },
  {
   "cell_type": "markdown",
   "metadata": {},
   "source": [
    "### 2.1.2 Assignments"
   ]
  },
  {
   "cell_type": "code",
   "execution_count": 11,
   "metadata": {
    "collapsed": false
   },
   "outputs": [
    {
     "name": "stdout",
     "output_type": "stream",
     "text": [
      "Used names can always be reassigned to other objects regardles of their data type!\n"
     ]
    }
   ],
   "source": [
    "a = 17\n",
    "a = \"Used names can always be reassigned to other objects regardles of their data type!\"\n",
    "print(a)"
   ]
  },
  {
   "cell_type": "markdown",
   "metadata": {},
   "source": [
    "### 2.1.3 Conversion of datatypes:"
   ]
  },
  {
   "cell_type": "code",
   "execution_count": 12,
   "metadata": {
    "collapsed": false
   },
   "outputs": [
    {
     "name": "stdout",
     "output_type": "stream",
     "text": [
      "5\n",
      "5.23\n",
      "12\n",
      "True\n"
     ]
    }
   ],
   "source": [
    "print(int(5.5))\n",
    "print(float('5.23'))\n",
    "print(str(12))\n",
    "print(bool('True'))"
   ]
  },
  {
   "cell_type": "markdown",
   "metadata": {},
   "source": [
    "### 2.1.4 Arithmetic and operators"
   ]
  },
  {
   "cell_type": "markdown",
   "metadata": {},
   "source": [
    "* +\n",
    "* -\n",
    "* *\n",
    "* /\n",
    "* // (integer division)\n",
    "* %  (modulo operator)\n",
    "* \\** (power)"
   ]
  },
  {
   "cell_type": "code",
   "execution_count": 217,
   "metadata": {
    "collapsed": false
   },
   "outputs": [
    {
     "data": {
      "text/plain": [
       "8.5"
      ]
     },
     "execution_count": 217,
     "metadata": {},
     "output_type": "execute_result"
    }
   ],
   "source": [
    "print(x+y)\n",
    "print(\"bla\" + \"bla\")\n",
    "print(x/y)\n",
    "print(x*2)\n",
    "print('bla'*3)\n",
    "print(x/2)\n",
    "print(x**3)                #the exponentiation operator\n",
    "print(x%2)                 #the remainder operator"
   ]
  },
  {
   "cell_type": "markdown",
   "metadata": {},
   "source": [
    "## 2.2 Conditions and control statements (if, while)"
   ]
  },
  {
   "cell_type": "markdown",
   "metadata": {},
   "source": [
    "### 2.2.1 Comparison operators:"
   ]
  },
  {
   "cell_type": "markdown",
   "metadata": {},
   "source": [
    "| Operator      | True, if      |\n",
    "| ------------- |:-------------:|\n",
    "|     a == b    | a equals b    |\n",
    "|     a > b     | a is larger than b  |\n",
    "|     a < b     | a is smaller than b |\n",
    "|     a >= b    | a is larger than b or equals b |\n",
    "|     a <= b    | a is smaller than b or equals b |\n",
    "|     a != b    | a and b are unequal |\n",
    "|     a is b    | a is the same object as b |\n",
    "|     a is not b| a is not the same object as b |"
   ]
  },
  {
   "cell_type": "code",
   "execution_count": 61,
   "metadata": {
    "collapsed": false
   },
   "outputs": [
    {
     "name": "stdout",
     "output_type": "stream",
     "text": [
      "False\n",
      "False\n"
     ]
    }
   ],
   "source": [
    "print(x==y)\n",
    "print(x==5)"
   ]
  },
  {
   "cell_type": "markdown",
   "metadata": {},
   "source": [
    "### 2.2.2 `is` operator"
   ]
  },
  {
   "cell_type": "code",
   "execution_count": 15,
   "metadata": {
    "collapsed": false
   },
   "outputs": [
    {
     "data": {
      "text/plain": [
       "True"
      ]
     },
     "execution_count": 15,
     "metadata": {},
     "output_type": "execute_result"
    }
   ],
   "source": [
    "x = 3\n",
    "y = 3\n",
    "x is y"
   ]
  },
  {
   "cell_type": "markdown",
   "metadata": {},
   "source": [
    "'==' compares values while 'is' compares identities"
   ]
  },
  {
   "cell_type": "code",
   "execution_count": 16,
   "metadata": {
    "collapsed": false
   },
   "outputs": [
    {
     "data": {
      "text/plain": [
       "False"
      ]
     },
     "execution_count": 16,
     "metadata": {},
     "output_type": "execute_result"
    }
   ],
   "source": [
    "x = [1]\n",
    "y = [1]\n",
    "x is y"
   ]
  },
  {
   "cell_type": "markdown",
   "metadata": {},
   "source": [
    "But:"
   ]
  },
  {
   "cell_type": "code",
   "execution_count": 64,
   "metadata": {
    "collapsed": false
   },
   "outputs": [
    {
     "data": {
      "text/plain": [
       "True"
      ]
     },
     "execution_count": 64,
     "metadata": {},
     "output_type": "execute_result"
    }
   ],
   "source": [
    "x==y"
   ]
  },
  {
   "cell_type": "markdown",
   "metadata": {},
   "source": [
    "Warning: do not check equality of two floats (finite precision!!)"
   ]
  },
  {
   "cell_type": "code",
   "execution_count": 70,
   "metadata": {
    "collapsed": false
   },
   "outputs": [
    {
     "data": {
      "text/plain": [
       "False"
      ]
     },
     "execution_count": 70,
     "metadata": {},
     "output_type": "execute_result"
    }
   ],
   "source": [
    "from math import sin, pi\n",
    "sin(2*pi)==0"
   ]
  },
  {
   "cell_type": "markdown",
   "metadata": {},
   "source": [
    "### 2.2.3 If ... else ..."
   ]
  },
  {
   "cell_type": "code",
   "execution_count": 53,
   "metadata": {
    "collapsed": false
   },
   "outputs": [
    {
     "name": "stdout",
     "output_type": "stream",
     "text": [
      "More would be better, but its sufficient.\n"
     ]
    }
   ],
   "source": [
    "number_of_people = 6\n",
    "\n",
    "if number_of_people < 5:\n",
    "    print('Not enough people to play this game.')\n",
    "elif number_of_people < 10:\n",
    "    print('More would be better, but its sufficient.')\n",
    "elif number_of_people < 20:\n",
    "    print('Perfect! Enjoy!')\n",
    "elif number_of_people < 30:\n",
    "    print('Less would be better, but it will work somehow.')\n",
    "else:\n",
    "    print('Sorry, but more than 30 is too much.')"
   ]
  },
  {
   "cell_type": "markdown",
   "metadata": {},
   "source": [
    "Conditional expressions:"
   ]
  },
  {
   "cell_type": "code",
   "execution_count": 55,
   "metadata": {
    "collapsed": false,
    "format": "column"
   },
   "outputs": [
    {
     "name": "stdout",
     "output_type": "stream",
     "text": [
      "Even.\n",
      "Even.\n"
     ]
    }
   ],
   "source": [
    "x = 12\n",
    "\n",
    "#the long version:\n",
    "if x%2==0:\n",
    "    message = \"Even.\"\n",
    "else:\n",
    "    message = \"Odd.\"\n",
    "print(message)\n",
    "\n",
    "#the short version:\n",
    "print( \"Even.\" if x%2==0 else \"Odd.\" ) "
   ]
  },
  {
   "cell_type": "markdown",
   "metadata": {},
   "source": [
    "## 2.3 While loops:"
   ]
  },
  {
   "cell_type": "code",
   "execution_count": 71,
   "metadata": {
    "collapsed": false
   },
   "outputs": [
    {
     "name": "stdout",
     "output_type": "stream",
     "text": [
      "17\n",
      "18\n",
      "19\n",
      "20\n"
     ]
    }
   ],
   "source": [
    "value = 17\n",
    "\n",
    "while value < 21:\n",
    "    print(value)\n",
    "    value = value + 1"
   ]
  },
  {
   "cell_type": "code",
   "execution_count": 72,
   "metadata": {
    "collapsed": false
   },
   "outputs": [
    {
     "name": "stdout",
     "output_type": "stream",
     "text": [
      "19\n",
      "21\n",
      "23\n",
      "25\n",
      "27\n",
      "29\n"
     ]
    }
   ],
   "source": [
    "value = 17\n",
    "max_value = 30\n",
    "\n",
    "while True:\n",
    "    value = value + 1\n",
    "    if value > max_value:\n",
    "        break              #stop here and escape the while loop\n",
    "    elif value%2==0:\n",
    "        continue           #stop here and continue the while loop\n",
    "    print(value)"
   ]
  },
  {
   "cell_type": "markdown",
   "metadata": {},
   "source": [
    "### 2.3.1 **Warning: ** Make sure that the condition gets True after a finite number of steps!"
   ]
  },
  {
   "cell_type": "markdown",
   "metadata": {},
   "source": [
    "## 2.4 Sequences & for-loops"
   ]
  },
  {
   "cell_type": "markdown",
   "metadata": {},
   "source": [
    "### 2.4.1 Sequences"
   ]
  },
  {
   "cell_type": "markdown",
   "metadata": {},
   "source": [
    "| Sequence      | mutable?       | data type |\n",
    "| ------------- |:-------------:|:--------:|\n",
    "|     list      | yes           | arbitrary |\n",
    "|     tuple     | no            | arbitrary |\n",
    "|     string    | no            | Unicode symbols |"
   ]
  },
  {
   "cell_type": "code",
   "execution_count": 74,
   "metadata": {
    "collapsed": true
   },
   "outputs": [],
   "source": [
    "a = [1,2,3,4,5]   #a list\n",
    "b = (1,2,3,4,5)   #a tuple\n",
    "c = '12345'       #a string"
   ]
  },
  {
   "cell_type": "markdown",
   "metadata": {},
   "source": [
    "Since lists and tuples can contain arbitrary data types, they can be 'nested':"
   ]
  },
  {
   "cell_type": "code",
   "execution_count": 75,
   "metadata": {
    "collapsed": true
   },
   "outputs": [],
   "source": [
    "nested_list = [[1,2,3],[4,5,6],[7,8,9]]"
   ]
  },
  {
   "cell_type": "markdown",
   "metadata": {},
   "source": [
    "All three sequence types (tuples, strings and lists) share much of their syntax and functionality."
   ]
  },
  {
   "cell_type": "code",
   "execution_count": 77,
   "metadata": {
    "collapsed": false
   },
   "outputs": [
    {
     "name": "stdout",
     "output_type": "stream",
     "text": [
      "5 5 5\n"
     ]
    }
   ],
   "source": [
    "print(len(a),len(b),len(c))"
   ]
  },
  {
   "cell_type": "code",
   "execution_count": 78,
   "metadata": {
    "collapsed": false
   },
   "outputs": [
    {
     "name": "stdout",
     "output_type": "stream",
     "text": [
      "[1, 2, 3, 4, 5, 1, 2, 3, 4, 5]\n",
      "(1, 2, 3, 4, 5, 1, 2, 3, 4, 5)\n",
      "1234512345\n"
     ]
    }
   ],
   "source": [
    "print( a + a )\n",
    "print( b + b )\n",
    "print( c + c )"
   ]
  },
  {
   "cell_type": "markdown",
   "metadata": {},
   "source": [
    "single items are accessible by their index (starting from 0):"
   ]
  },
  {
   "cell_type": "code",
   "execution_count": 80,
   "metadata": {
    "collapsed": false
   },
   "outputs": [
    {
     "name": "stdout",
     "output_type": "stream",
     "text": [
      "1 2 3\n"
     ]
    }
   ],
   "source": [
    "print( a[0], b[1], c[2] )"
   ]
  },
  {
   "cell_type": "markdown",
   "metadata": {},
   "source": [
    "Negative indices are counted from the end (starting with -1)"
   ]
  },
  {
   "cell_type": "code",
   "execution_count": null,
   "metadata": {
    "collapsed": true
   },
   "outputs": [],
   "source": [
    "print ( a[-1], b[-3] )"
   ]
  },
  {
   "cell_type": "markdown",
   "metadata": {},
   "source": [
    "A subset of items can be accessed by \"slices\". \n",
    "\n",
    "Syntax: [I:J:K] means start from index I, stop at index J and take every K'th item. If I is omitted, start from the first item, if J is omitted, stop at the last item, and if K is omitted, take every item."
   ]
  },
  {
   "cell_type": "code",
   "execution_count": 82,
   "metadata": {
    "collapsed": false
   },
   "outputs": [
    {
     "name": "stdout",
     "output_type": "stream",
     "text": [
      "[2, 3, 4]\n",
      "[4, 5]\n",
      "[1, 2, 3, 4]\n",
      "[4, 5]\n",
      "[1, 3, 5]\n"
     ]
    }
   ],
   "source": [
    "print( a[1:4] ) #get items from 1 to 4\n",
    "print( a[3:5] ) #get items from 3 to 5\n",
    "print( a[:4] ) #get items from 0 to 4\n",
    "print( a[3:] ) #get items from 3 to the end\n",
    "print( a[::2] ) #get every second item"
   ]
  },
  {
   "cell_type": "markdown",
   "metadata": {},
   "source": [
    "The in-operator checks whether an item is in the sequence:"
   ]
  },
  {
   "cell_type": "code",
   "execution_count": 83,
   "metadata": {
    "collapsed": false
   },
   "outputs": [
    {
     "name": "stdout",
     "output_type": "stream",
     "text": [
      "False\n",
      "True\n"
     ]
    }
   ],
   "source": [
    "print((2,3) in (1,2,3,4,5))\n",
    "print('cde' in 'abcdefgh')"
   ]
  },
  {
   "cell_type": "markdown",
   "metadata": {},
   "source": [
    "### 2.4.2 Specialities of lists"
   ]
  },
  {
   "cell_type": "markdown",
   "metadata": {},
   "source": [
    "#### 2.4.2.1 In contrast to tuples and strings, lists are mutable. Items can be replaced, removed or added."
   ]
  },
  {
   "cell_type": "code",
   "execution_count": 86,
   "metadata": {
    "collapsed": false
   },
   "outputs": [
    {
     "name": "stdout",
     "output_type": "stream",
     "text": [
      "[0, 0, 34, 4, 'blub', 12, 2, 1]\n"
     ]
    }
   ],
   "source": [
    "a = [1,2,3,4]      #create list\n",
    "a[2] = 12          #replace item 2 by value 12\n",
    "a.append(34)       #add value 34 to the end\n",
    "a.extend([0,0,0])  #add several values to the end\n",
    "a.pop()            #remove last item\n",
    "a.insert(3, 'blub')#insert object before index 3\n",
    "a.reverse()        #reverse list\n",
    "print(a)"
   ]
  },
  {
   "cell_type": "markdown",
   "metadata": {},
   "source": [
    "#### 2.4.2.2 **Warning:** assignment to lists do not create a copy"
   ]
  },
  {
   "cell_type": "code",
   "execution_count": 93,
   "metadata": {
    "collapsed": false
   },
   "outputs": [
    {
     "name": "stdout",
     "output_type": "stream",
     "text": [
      "[1, 2, 99] [1, 2, 99]\n"
     ]
    }
   ],
   "source": [
    "s = [1,2]\n",
    "t = s\n",
    "\n",
    "t.append(99)\n",
    "print(s, t)"
   ]
  },
  {
   "cell_type": "markdown",
   "metadata": {},
   "source": [
    "### 2.4.3 Specialities of strings:"
   ]
  },
  {
   "cell_type": "code",
   "execution_count": 87,
   "metadata": {
    "collapsed": false
   },
   "outputs": [
    {
     "data": {
      "text/plain": [
       "True"
      ]
     },
     "execution_count": 87,
     "metadata": {},
     "output_type": "execute_result"
    }
   ],
   "source": [
    "# Strings can be enlosed by both single quote and double quote.\n",
    "s='My home'\n",
    "t=\"My home\"\n",
    "s==t"
   ]
  },
  {
   "cell_type": "markdown",
   "metadata": {},
   "source": [
    "strings can contain quotation marks themselves. single/double quotes become important then:"
   ]
  },
  {
   "cell_type": "code",
   "execution_count": 94,
   "metadata": {
    "collapsed": false
   },
   "outputs": [],
   "source": [
    "newstring=\"This is Mary's home\"\n",
    "anotherstring='And he said: \"Let there be light\"'\n",
    "\n",
    "# And if you **really** need it, both single and double quotes:\n",
    "huge_string=\"\"\"This 'string' contains \"both\" types of quote\"\"\""
   ]
  },
  {
   "cell_type": "markdown",
   "metadata": {},
   "source": [
    "#### 2.4.3.1 Strings have some nice methods"
   ]
  },
  {
   "cell_type": "code",
   "execution_count": 88,
   "metadata": {
    "collapsed": false
   },
   "outputs": [
    {
     "name": "stdout",
     "output_type": "stream",
     "text": [
      "THIS 'STRING' CONTAINS \"BOTH\" TYPES OF QUOTE\n",
      "False\n",
      "14\n",
      "['This', \"'string'\", 'contains', '\"both\"', 'types', 'of', 'quote']\n",
      "4\n"
     ]
    }
   ],
   "source": [
    "print(huge_string.upper())\n",
    "print(huge_string.startswith('a'))\n",
    "print(huge_string.find('contain'))\n",
    "print(huge_string.split(' '))\n",
    "print(huge_string.count('s'))"
   ]
  },
  {
   "cell_type": "markdown",
   "metadata": {},
   "source": [
    "### 2.4.4 For-loops"
   ]
  },
  {
   "cell_type": "markdown",
   "metadata": {},
   "source": [
    "Remember how `while` loops were prone to infinite loop bugs?\n",
    "Python gives you a chance to avoid them in most cases:"
   ]
  },
  {
   "cell_type": "code",
   "execution_count": 96,
   "metadata": {
    "collapsed": false
   },
   "outputs": [
    {
     "name": "stdout",
     "output_type": "stream",
     "text": [
      "7\n",
      "14\n",
      "21\n",
      "28\n",
      "35\n",
      "42\n",
      "49\n"
     ]
    }
   ],
   "source": [
    "i = 1\n",
    "while i < 50:\n",
    "    if i%7 == 0:\n",
    "        print(i)\n",
    "    i += 1"
   ]
  },
  {
   "cell_type": "code",
   "execution_count": 97,
   "metadata": {
    "collapsed": false
   },
   "outputs": [
    {
     "name": "stdout",
     "output_type": "stream",
     "text": [
      "7\n",
      "14\n",
      "21\n",
      "28\n",
      "35\n",
      "42\n",
      "49\n"
     ]
    }
   ],
   "source": [
    "for i in range(1, 50, 1):\n",
    "    if i%7 == 0:\n",
    "        print(i)"
   ]
  },
  {
   "cell_type": "markdown",
   "metadata": {},
   "source": [
    "#### 2.4.4.1 Works on strings, tuples:"
   ]
  },
  {
   "cell_type": "code",
   "execution_count": 103,
   "metadata": {
    "collapsed": false
   },
   "outputs": [
    {
     "name": "stdout",
     "output_type": "stream",
     "text": [
      "h appears 2 times in \"home, sweet home\"\n"
     ]
    }
   ],
   "source": [
    "count = 0\n",
    "\n",
    "st = \"home, sweet home\"\n",
    "for char in st:\n",
    "    if char == 'h':\n",
    "        count += 1\n",
    "print(\"%c appears %d times in \\\"%s\\\"\"%('h', count, st))"
   ]
  },
  {
   "cell_type": "markdown",
   "metadata": {},
   "source": [
    "#### 2.4.4.2 Did I tell you about string formatting?"
   ]
  },
  {
   "cell_type": "code",
   "execution_count": 108,
   "metadata": {
    "collapsed": false
   },
   "outputs": [
    {
     "name": "stdout",
     "output_type": "stream",
     "text": [
      "John is 34 years old\n",
      "John is 34 years old, John has 3 children\n"
     ]
    }
   ],
   "source": [
    "print(\"%s is %d years old\"%('John', 34))\n",
    "print(\"{name} is {age} years old, {name} has 3 children\".format(name='John', age=34))"
   ]
  },
  {
   "cell_type": "markdown",
   "metadata": {},
   "source": [
    "For-loops can not only iterate through sequences, but also through 'iterable' objects, like range()."
   ]
  },
  {
   "cell_type": "code",
   "execution_count": 109,
   "metadata": {
    "collapsed": false
   },
   "outputs": [
    {
     "name": "stdout",
     "output_type": "stream",
     "text": [
      "5050\n"
     ]
    }
   ],
   "source": [
    "#Example: We want to sum up all numbers betwen 0 and 100. \n",
    "#Instead of manually typing a list of all numbers, we can use range: \n",
    "s = 0\n",
    "for i in range(101):\n",
    "    s = s + i\n",
    "print(s)    "
   ]
  },
  {
   "cell_type": "markdown",
   "metadata": {},
   "source": [
    "### 2.4.5 List comprehensions: A short way to create a sequence."
   ]
  },
  {
   "cell_type": "code",
   "execution_count": 110,
   "metadata": {
    "collapsed": false
   },
   "outputs": [
    {
     "name": "stdout",
     "output_type": "stream",
     "text": [
      "[0, 2, 4, 6, 8, 10, 12, 14, 16, 18, 20, 22, 24, 26, 28, 30, 32, 34, 36, 38, 40, 42, 44, 46, 48, 50, 52, 54, 56, 58, 60, 62, 64, 66, 68, 70, 72, 74, 76, 78, 80, 82, 84, 86, 88, 90, 92, 94, 96, 98, 100, 102, 104, 106, 108, 110, 112, 114, 116, 118, 120, 122, 124, 126, 128, 130, 132, 134, 136, 138, 140, 142, 144, 146, 148, 150, 152, 154, 156, 158, 160, 162, 164, 166, 168, 170, 172, 174, 176, 178, 180, 182, 184, 186, 188, 190, 192, 194, 196, 198, 200]\n"
     ]
    }
   ],
   "source": [
    "#long version: \"for-loop\"\n",
    "li = []\n",
    "for i in range(100):\n",
    "    li.append(i*2)\n",
    "\n",
    "#short version:\n",
    "li = [2*i for i in range(101)]\n",
    "\n",
    "print(li)"
   ]
  },
  {
   "cell_type": "markdown",
   "metadata": {},
   "source": [
    "List comprehensions can be used as a filter:"
   ]
  },
  {
   "cell_type": "code",
   "execution_count": 119,
   "metadata": {
    "collapsed": false
   },
   "outputs": [
    {
     "name": "stdout",
     "output_type": "stream",
     "text": [
      "[1.0, 0.5, 0.3333333333333333, 0.25, 0.2, 0.16666666666666666, 0.14285714285714285, 0.125, 0.1111111111111111, 0.1, 0.09090909090909091, 0.08333333333333333, 0.07692307692307693, 0.07142857142857142, 0.06666666666666667, 0.0625, 0.058823529411764705, 0.05555555555555555, 0.05263157894736842, 0.05, 0.047619047619047616, 0.045454545454545456, 0.043478260869565216, 0.041666666666666664, 0.04, 0.038461538461538464, 0.037037037037037035, 0.03571428571428571, 0.034482758620689655, 0.03333333333333333, 0.03225806451612903, 0.03125, 0.030303030303030304, 0.029411764705882353, 0.02857142857142857, 0.027777777777777776, 0.02702702702702703, 0.02631578947368421, 0.02564102564102564, 0.025, 0.024390243902439025, 0.023809523809523808, 0.023255813953488372, 0.022727272727272728, 0.022222222222222223, 0.021739130434782608, 0.02127659574468085, 0.020833333333333332, 0.02040816326530612, 0.02, 0.0196078431372549, 0.019230769230769232, 0.018867924528301886, 0.018518518518518517, 0.01818181818181818, 0.017857142857142856, 0.017543859649122806, 0.017241379310344827, 0.01694915254237288, 0.016666666666666666, 0.01639344262295082, 0.016129032258064516, 0.015873015873015872, 0.015625, 0.015384615384615385, 0.015151515151515152, 0.014925373134328358, 0.014705882352941176, 0.014492753623188406, 0.014285714285714285, 0.014084507042253521, 0.013888888888888888, 0.0136986301369863, 0.013513513513513514, 0.013333333333333334, 0.013157894736842105, 0.012987012987012988, 0.01282051282051282, 0.012658227848101266, 0.0125, 0.012345679012345678, 0.012195121951219513, 0.012048192771084338, 0.011904761904761904, 0.011764705882352941, 0.011627906976744186, 0.011494252873563218, 0.011363636363636364, 0.011235955056179775, 0.011111111111111112, 0.01098901098901099, 0.010869565217391304, 0.010752688172043012, 0.010638297872340425, 0.010526315789473684, 0.010416666666666666, 0.010309278350515464, 0.01020408163265306, 0.010101010101010102, 0.01]\n"
     ]
    }
   ],
   "source": [
    "li = [1/i for i in range(101) if i != 0]\n",
    "print(li)"
   ]
  },
  {
   "cell_type": "markdown",
   "metadata": {},
   "source": [
    "Also to place a default value"
   ]
  },
  {
   "cell_type": "code",
   "execution_count": 123,
   "metadata": {
    "collapsed": false
   },
   "outputs": [
    {
     "name": "stdout",
     "output_type": "stream",
     "text": [
      "[None, 1.0, 0.5, 0.3333333333333333, 0.25, 0.2, 0.16666666666666666, 0.14285714285714285, 0.125, 0.1111111111111111, 0.1, 0.09090909090909091, 0.08333333333333333, 0.07692307692307693, 0.07142857142857142, 0.06666666666666667, 0.0625, 0.058823529411764705, 0.05555555555555555, 0.05263157894736842, 0.05, 0.047619047619047616, 0.045454545454545456, 0.043478260869565216, 0.041666666666666664, 0.04, 0.038461538461538464, 0.037037037037037035, 0.03571428571428571, 0.034482758620689655, 0.03333333333333333, 0.03225806451612903, 0.03125, 0.030303030303030304, 0.029411764705882353, 0.02857142857142857, 0.027777777777777776, 0.02702702702702703, 0.02631578947368421, 0.02564102564102564, 0.025, 0.024390243902439025, 0.023809523809523808, 0.023255813953488372, 0.022727272727272728, 0.022222222222222223, 0.021739130434782608, 0.02127659574468085, 0.020833333333333332, 0.02040816326530612, 0.02, 0.0196078431372549, 0.019230769230769232, 0.018867924528301886, 0.018518518518518517, 0.01818181818181818, 0.017857142857142856, 0.017543859649122806, 0.017241379310344827, 0.01694915254237288, 0.016666666666666666, 0.01639344262295082, 0.016129032258064516, 0.015873015873015872, 0.015625, 0.015384615384615385, 0.015151515151515152, 0.014925373134328358, 0.014705882352941176, 0.014492753623188406, 0.014285714285714285, 0.014084507042253521, 0.013888888888888888, 0.0136986301369863, 0.013513513513513514, 0.013333333333333334, 0.013157894736842105, 0.012987012987012988, 0.01282051282051282, 0.012658227848101266, 0.0125, 0.012345679012345678, 0.012195121951219513, 0.012048192771084338, 0.011904761904761904, 0.011764705882352941, 0.011627906976744186, 0.011494252873563218, 0.011363636363636364, 0.011235955056179775, 0.011111111111111112, 0.01098901098901099, 0.010869565217391304, 0.010752688172043012, 0.010638297872340425, 0.010526315789473684, 0.010416666666666666, 0.010309278350515464, 0.01020408163265306, 0.010101010101010102, 0.01]\n"
     ]
    }
   ],
   "source": [
    "li = [1/i if i!=0 else None for i in range(101) ]\n",
    "print(li)"
   ]
  },
  {
   "cell_type": "markdown",
   "metadata": {},
   "source": [
    "And to write insanely obtuse code and mess with your collaborators :D"
   ]
  },
  {
   "cell_type": "code",
   "execution_count": 136,
   "metadata": {
    "collapsed": false
   },
   "outputs": [
    {
     "name": "stdout",
     "output_type": "stream",
     "text": [
      "[1, 2, 3, 4, 5, 6]\n"
     ]
    }
   ],
   "source": [
    "nested_list = [[1,2], [3], [4,5,6]]\n",
    "flattened_list = [item for sublist in nested_list for item in sublist]\n",
    "print(flattened_list)"
   ]
  },
  {
   "cell_type": "markdown",
   "metadata": {},
   "source": [
    "### 2.4.6 What are `tuple`s for, you ask?"
   ]
  },
  {
   "cell_type": "markdown",
   "metadata": {},
   "source": [
    "They are almost like lists, but *immutable*:"
   ]
  },
  {
   "cell_type": "code",
   "execution_count": 138,
   "metadata": {
    "collapsed": true
   },
   "outputs": [],
   "source": [
    "l = [1,2,3,4,5]\n",
    "t = [1,2,3,4,5]\n",
    "#or, simply:\n",
    "t = tuple(l)"
   ]
  },
  {
   "cell_type": "code",
   "execution_count": 141,
   "metadata": {
    "collapsed": false
   },
   "outputs": [
    {
     "name": "stdout",
     "output_type": "stream",
     "text": [
      "[3, 4, 5]\n",
      "(3, 4, 5)\n",
      "True\n",
      "True\n"
     ]
    }
   ],
   "source": [
    "print(l[2:5])\n",
    "print(t[2:5])\n",
    "\n",
    "print(2 in l)\n",
    "print(2 in t)"
   ]
  },
  {
   "cell_type": "code",
   "execution_count": 143,
   "metadata": {
    "collapsed": false
   },
   "outputs": [
    {
     "name": "stdout",
     "output_type": "stream",
     "text": [
      "[1, 2, 99, 4, 5]\n"
     ]
    },
    {
     "ename": "TypeError",
     "evalue": "'tuple' object does not support item assignment",
     "output_type": "error",
     "traceback": [
      "\u001b[1;31m---------------------------------------------------------------------------\u001b[0m",
      "\u001b[1;31mTypeError\u001b[0m                                 Traceback (most recent call last)",
      "\u001b[1;32m<ipython-input-143-203bd43c12cc>\u001b[0m in \u001b[0;36m<module>\u001b[1;34m()\u001b[0m\n\u001b[0;32m      1\u001b[0m \u001b[0ml\u001b[0m\u001b[1;33m[\u001b[0m\u001b[1;36m2\u001b[0m\u001b[1;33m]\u001b[0m \u001b[1;33m=\u001b[0m \u001b[1;36m99\u001b[0m\u001b[1;33m\u001b[0m\u001b[0m\n\u001b[0;32m      2\u001b[0m \u001b[0mprint\u001b[0m\u001b[1;33m(\u001b[0m\u001b[0ml\u001b[0m\u001b[1;33m)\u001b[0m\u001b[1;33m\u001b[0m\u001b[0m\n\u001b[1;32m----> 3\u001b[1;33m \u001b[0mt\u001b[0m\u001b[1;33m[\u001b[0m\u001b[1;36m2\u001b[0m\u001b[1;33m]\u001b[0m \u001b[1;33m=\u001b[0m \u001b[1;36m99\u001b[0m\u001b[1;33m\u001b[0m\u001b[0m\n\u001b[0m\u001b[0;32m      4\u001b[0m \u001b[0mprint\u001b[0m\u001b[1;33m(\u001b[0m\u001b[0mt\u001b[0m\u001b[1;33m)\u001b[0m\u001b[1;33m\u001b[0m\u001b[0m\n",
      "\u001b[1;31mTypeError\u001b[0m: 'tuple' object does not support item assignment"
     ]
    }
   ],
   "source": [
    "l[2] = 99\n",
    "print(l)\n",
    "t[2] = 99\n",
    "print(t)"
   ]
  },
  {
   "cell_type": "markdown",
   "metadata": {},
   "source": [
    "What's the use of immutability? glad you asked"
   ]
  },
  {
   "cell_type": "markdown",
   "metadata": {},
   "source": [
    "### 2.4.7 dictionaries:"
   ]
  },
  {
   "cell_type": "markdown",
   "metadata": {},
   "source": [
    "stores **key->value** pairs:"
   ]
  },
  {
   "cell_type": "code",
   "execution_count": 144,
   "metadata": {
    "collapsed": false
   },
   "outputs": [],
   "source": [
    "d={'germany':'berlin', 'france':'paris', 'poland':'warsaw', 'denmark':'copenhagen'}"
   ]
  },
  {
   "cell_type": "code",
   "execution_count": 145,
   "metadata": {
    "collapsed": false
   },
   "outputs": [
    {
     "data": {
      "text/plain": [
       "'berlin'"
      ]
     },
     "execution_count": 145,
     "metadata": {},
     "output_type": "execute_result"
    }
   ],
   "source": [
    "d['germany']"
   ]
  },
  {
   "cell_type": "markdown",
   "metadata": {},
   "source": [
    "You can add keys anytime:"
   ]
  },
  {
   "cell_type": "code",
   "execution_count": 146,
   "metadata": {
    "collapsed": false
   },
   "outputs": [],
   "source": [
    "d['belgium']='brussels'"
   ]
  },
  {
   "cell_type": "markdown",
   "metadata": {},
   "source": [
    "useful things you can do with dictionaries:"
   ]
  },
  {
   "cell_type": "code",
   "execution_count": 147,
   "metadata": {
    "collapsed": false
   },
   "outputs": [
    {
     "data": {
      "text/plain": [
       "dict_keys(['poland', 'germany', 'france', 'belgium', 'denmark'])"
      ]
     },
     "execution_count": 147,
     "metadata": {},
     "output_type": "execute_result"
    }
   ],
   "source": [
    "d.keys()"
   ]
  },
  {
   "cell_type": "code",
   "execution_count": 148,
   "metadata": {
    "collapsed": false
   },
   "outputs": [
    {
     "data": {
      "text/plain": [
       "dict_values(['warsaw', 'berlin', 'paris', 'brussels', 'copenhagen'])"
      ]
     },
     "execution_count": 148,
     "metadata": {},
     "output_type": "execute_result"
    }
   ],
   "source": [
    "d.values()"
   ]
  },
  {
   "cell_type": "markdown",
   "metadata": {},
   "source": [
    "Any datatype can be used as a key in dictionary, so long as it is **hashable** \n",
    "\n",
    "Thumbrule: **integer**, **float**, **tuple**, **string** are OK; ~~list~~, other ~~dictionaries~~ are NOT OK\n"
   ]
  },
  {
   "cell_type": "code",
   "execution_count": 150,
   "metadata": {
    "collapsed": false
   },
   "outputs": [
    {
     "ename": "TypeError",
     "evalue": "unhashable type: 'list'",
     "output_type": "error",
     "traceback": [
      "\u001b[1;31m---------------------------------------------------------------------------\u001b[0m",
      "\u001b[1;31mTypeError\u001b[0m                                 Traceback (most recent call last)",
      "\u001b[1;32m<ipython-input-150-da3a951b3156>\u001b[0m in \u001b[0;36m<module>\u001b[1;34m()\u001b[0m\n\u001b[1;32m----> 1\u001b[1;33m \u001b[0mmycrazydict\u001b[0m \u001b[1;33m=\u001b[0m \u001b[1;33m{\u001b[0m\u001b[1;33m(\u001b[0m\u001b[1;36m1\u001b[0m\u001b[1;33m,\u001b[0m\u001b[1;36m3\u001b[0m\u001b[1;33m,\u001b[0m\u001b[1;36m7\u001b[0m\u001b[1;33m)\u001b[0m\u001b[1;33m:\u001b[0m\u001b[1;34m'odd!'\u001b[0m\u001b[1;33m,\u001b[0m \u001b[1;33m[\u001b[0m\u001b[1;36m2\u001b[0m\u001b[1;33m,\u001b[0m\u001b[1;36m4\u001b[0m\u001b[1;33m,\u001b[0m\u001b[1;36m6\u001b[0m\u001b[1;33m]\u001b[0m\u001b[1;33m:\u001b[0m \u001b[1;34m'even!'\u001b[0m\u001b[1;33m}\u001b[0m\u001b[1;33m\u001b[0m\u001b[0m\n\u001b[0m",
      "\u001b[1;31mTypeError\u001b[0m: unhashable type: 'list'"
     ]
    }
   ],
   "source": [
    "mycrazydict = {(1,3,7):'odd!', [2,4,6]: 'even!'}"
   ]
  },
  {
   "cell_type": "markdown",
   "metadata": {},
   "source": [
    "## 2.5 functions:"
   ]
  },
  {
   "cell_type": "code",
   "execution_count": 151,
   "metadata": {
    "collapsed": false
   },
   "outputs": [],
   "source": [
    "def triple(x):\n",
    "    return x*3\n",
    "    "
   ]
  },
  {
   "cell_type": "code",
   "execution_count": 152,
   "metadata": {
    "collapsed": false
   },
   "outputs": [
    {
     "data": {
      "text/plain": [
       "12"
      ]
     },
     "execution_count": 152,
     "metadata": {},
     "output_type": "execute_result"
    }
   ],
   "source": [
    "triple(4)"
   ]
  },
  {
   "cell_type": "markdown",
   "metadata": {},
   "source": [
    "**Very important**: writing documentation for your code"
   ]
  },
  {
   "cell_type": "code",
   "execution_count": 153,
   "metadata": {
    "collapsed": false
   },
   "outputs": [],
   "source": [
    "def triple(x):\n",
    "    \"\"\"\n",
    "       This function accepts a number, returns 3 times that number.\n",
    "    \"\"\"\n",
    "    return x*3\n",
    "    "
   ]
  },
  {
   "cell_type": "code",
   "execution_count": 154,
   "metadata": {
    "collapsed": false
   },
   "outputs": [
    {
     "data": {
      "text/plain": [
       "<function __main__.triple>"
      ]
     },
     "execution_count": 154,
     "metadata": {},
     "output_type": "execute_result"
    }
   ],
   "source": [
    "triple #Shift+tab shows documentation in ipython"
   ]
  },
  {
   "cell_type": "code",
   "execution_count": 155,
   "metadata": {
    "collapsed": false
   },
   "outputs": [
    {
     "name": "stdout",
     "output_type": "stream",
     "text": [
      "Help on function triple in module __main__:\n",
      "\n",
      "triple(x)\n",
      "    This function accepts a number, returns 3 times that number.\n",
      "\n"
     ]
    }
   ],
   "source": [
    "help(triple) #this also works"
   ]
  },
  {
   "cell_type": "markdown",
   "metadata": {},
   "source": [
    "**when you pass any object to a function, any change done to the object will affect it globally:**"
   ]
  },
  {
   "cell_type": "code",
   "execution_count": 156,
   "metadata": {
    "collapsed": false
   },
   "outputs": [],
   "source": [
    "def modify(l):\n",
    "    l.append(23)\n",
    "    return 0"
   ]
  },
  {
   "cell_type": "code",
   "execution_count": 158,
   "metadata": {
    "collapsed": false
   },
   "outputs": [
    {
     "name": "stdout",
     "output_type": "stream",
     "text": [
      "[1, 2, 3, 23]\n"
     ]
    }
   ],
   "source": [
    "l=[1,2,3]\n",
    "modify(l)\n",
    "print(l)"
   ]
  },
  {
   "cell_type": "markdown",
   "metadata": {},
   "source": [
    "**but *reassignments* inside the function is not reflected globally**"
   ]
  },
  {
   "cell_type": "code",
   "execution_count": null,
   "metadata": {
    "collapsed": false
   },
   "outputs": [],
   "source": [
    "def change(l):\n",
    "    l=[1,2,34]\n",
    "    return 0\n",
    "\n",
    "mylist=[3,6]\n",
    "change(mylist)\n",
    "\n",
    "print mylist"
   ]
  },
  {
   "cell_type": "markdown",
   "metadata": {},
   "source": [
    "## 2.6 Using modules"
   ]
  },
  {
   "cell_type": "markdown",
   "metadata": {},
   "source": [
    "One of the most useful things about python is that there are tons of **modules** available, that do many of the tasks you might need to do:"
   ]
  },
  {
   "cell_type": "code",
   "execution_count": null,
   "metadata": {
    "collapsed": false
   },
   "outputs": [],
   "source": [
    "import math\n",
    "math.sin(0.1)"
   ]
  },
  {
   "cell_type": "code",
   "execution_count": null,
   "metadata": {
    "collapsed": false
   },
   "outputs": [],
   "source": [
    "help(math)"
   ]
  }
 ],
 "metadata": {
  "kernelspec": {
   "display_name": "Python 3",
   "language": "python",
   "name": "python3"
  },
  "language_info": {
   "codemirror_mode": {
    "name": "ipython",
    "version": 3
   },
   "file_extension": ".py",
   "mimetype": "text/x-python",
   "name": "python",
   "nbconvert_exporter": "python",
   "pygments_lexer": "ipython3",
   "version": "3.4.0"
  }
 },
 "nbformat": 4,
 "nbformat_minor": 0
}
