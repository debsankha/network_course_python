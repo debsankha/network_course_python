{
 "metadata": {
  "name": ""
 },
 "nbformat": 3,
 "nbformat_minor": 0,
 "worksheets": [
  {
   "cells": [
    {
     "cell_type": "heading",
     "level": 1,
     "metadata": {},
     "source": [
      "Introduction to NetworkX"
     ]
    },
    {
     "cell_type": "markdown",
     "metadata": {},
     "source": [
      "### Some Key Featuress\n",
      "*  A python library for creating, analyzing and visualizing graphs\n",
      "*  Easy to use\n",
      "*  Excellent documentation\n",
      "*  Free software\n"
     ]
    },
    {
     "cell_type": "heading",
     "level": 2,
     "metadata": {},
     "source": [
      "Creating graphs"
     ]
    },
    {
     "cell_type": "code",
     "collapsed": false,
     "input": [
      "import networkx as nx\n",
      "%matplotlib inline"
     ],
     "language": "python",
     "metadata": {},
     "outputs": [],
     "prompt_number": 1
    },
    {
     "cell_type": "code",
     "collapsed": false,
     "input": [
      "G=nx.Graph()"
     ],
     "language": "python",
     "metadata": {},
     "outputs": [],
     "prompt_number": 2
    },
    {
     "cell_type": "code",
     "collapsed": false,
     "input": [
      "G.nodes()"
     ],
     "language": "python",
     "metadata": {},
     "outputs": [
      {
       "metadata": {},
       "output_type": "pyout",
       "prompt_number": 3,
       "text": [
        "[]"
       ]
      }
     ],
     "prompt_number": 3
    },
    {
     "cell_type": "code",
     "collapsed": false,
     "input": [
      "G.edges()"
     ],
     "language": "python",
     "metadata": {},
     "outputs": [
      {
       "metadata": {},
       "output_type": "pyout",
       "prompt_number": 4,
       "text": [
        "[]"
       ]
      }
     ],
     "prompt_number": 4
    },
    {
     "cell_type": "code",
     "collapsed": false,
     "input": [
      "G.add_node(1)"
     ],
     "language": "python",
     "metadata": {},
     "outputs": [],
     "prompt_number": 5
    },
    {
     "cell_type": "code",
     "collapsed": false,
     "input": [
      "G.nodes()"
     ],
     "language": "python",
     "metadata": {},
     "outputs": [
      {
       "metadata": {},
       "output_type": "pyout",
       "prompt_number": 6,
       "text": [
        "[1]"
       ]
      }
     ],
     "prompt_number": 6
    },
    {
     "cell_type": "code",
     "collapsed": false,
     "input": [
      "G.add_nodes_from([5,6,7])"
     ],
     "language": "python",
     "metadata": {},
     "outputs": [],
     "prompt_number": 7
    },
    {
     "cell_type": "code",
     "collapsed": false,
     "input": [
      "G.add_edge(7,1)"
     ],
     "language": "python",
     "metadata": {},
     "outputs": [],
     "prompt_number": 8
    },
    {
     "cell_type": "code",
     "collapsed": false,
     "input": [
      "nx.draw(G)"
     ],
     "language": "python",
     "metadata": {},
     "outputs": [
      {
       "metadata": {},
       "output_type": "display_data",
       "png": "[encoded data removed]",
       "text": [
        "<matplotlib.figure.Figure at 0x7fb17b0287f0>"
       ]
      }
     ],
     "prompt_number": 9
    },
    {
     "cell_type": "code",
     "collapsed": false,
     "input": [
      "G.add_edges_from([(6,7),(1,5)])"
     ],
     "language": "python",
     "metadata": {},
     "outputs": [],
     "prompt_number": 10
    },
    {
     "cell_type": "code",
     "collapsed": false,
     "input": [
      "nx.draw(G)"
     ],
     "language": "python",
     "metadata": {},
     "outputs": [
      {
       "metadata": {},
       "output_type": "display_data",
       "png": "[encoded data removed]",
       "text": [
        "<matplotlib.figure.Figure at 0x7fb17affd6d8>"
       ]
      }
     ],
     "prompt_number": 11
    },
    {
     "cell_type": "heading",
     "level": 2,
     "metadata": {},
     "source": [
      "Accessing graph elements"
     ]
    },
    {
     "cell_type": "heading",
     "level": 4,
     "metadata": {},
     "source": [
      "Looping over nodes"
     ]
    },
    {
     "cell_type": "code",
     "collapsed": false,
     "input": [
      "for n in G.nodes_iter():\n",
      "    print(n)"
     ],
     "language": "python",
     "metadata": {},
     "outputs": [
      {
       "output_type": "stream",
       "stream": "stdout",
       "text": [
        "1\n",
        "5\n",
        "6\n",
        "7\n"
       ]
      }
     ],
     "prompt_number": 12
    },
    {
     "cell_type": "heading",
     "level": 4,
     "metadata": {},
     "source": [
      "Looping over edges"
     ]
    },
    {
     "cell_type": "code",
     "collapsed": false,
     "input": [
      "for u,v in G.edges_iter():\n",
      "    print(u,v)"
     ],
     "language": "python",
     "metadata": {},
     "outputs": [
      {
       "output_type": "stream",
       "stream": "stdout",
       "text": [
        "1 5\n",
        "1 7\n",
        "6 7\n"
       ]
      }
     ],
     "prompt_number": 13
    },
    {
     "cell_type": "heading",
     "level": 4,
     "metadata": {},
     "source": [
      "Looping over neighbourhood of a node"
     ]
    },
    {
     "cell_type": "code",
     "collapsed": false,
     "input": [
      "G[1]    #All dictionaries"
     ],
     "language": "python",
     "metadata": {},
     "outputs": [
      {
       "metadata": {},
       "output_type": "pyout",
       "prompt_number": 14,
       "text": [
        "{5: {}, 7: {}}"
       ]
      }
     ],
     "prompt_number": 14
    },
    {
     "cell_type": "code",
     "collapsed": false,
     "input": [
      "G[5]"
     ],
     "language": "python",
     "metadata": {},
     "outputs": [
      {
       "metadata": {},
       "output_type": "pyout",
       "prompt_number": 15,
       "text": [
        "{1: {}}"
       ]
      }
     ],
     "prompt_number": 15
    },
    {
     "cell_type": "heading",
     "level": 4,
     "metadata": {},
     "source": [
      "So it's really easy to loop over the whole graph or the neighbourhood of a node"
     ]
    },
    {
     "cell_type": "code",
     "collapsed": false,
     "input": [
      "[n for n in G[1]]"
     ],
     "language": "python",
     "metadata": {},
     "outputs": [
      {
       "metadata": {},
       "output_type": "pyout",
       "prompt_number": 16,
       "text": [
        "[5, 7]"
       ]
      }
     ],
     "prompt_number": 16
    },
    {
     "cell_type": "code",
     "collapsed": false,
     "input": [
      "G.neighbors(1)"
     ],
     "language": "python",
     "metadata": {},
     "outputs": [
      {
       "metadata": {},
       "output_type": "pyout",
       "prompt_number": 17,
       "text": [
        "[5, 7]"
       ]
      }
     ],
     "prompt_number": 17
    },
    {
     "cell_type": "heading",
     "level": 2,
     "metadata": {},
     "source": [
      "Accessing global graph properties"
     ]
    },
    {
     "cell_type": "code",
     "collapsed": false,
     "input": [
      "G.number_of_nodes()"
     ],
     "language": "python",
     "metadata": {},
     "outputs": [
      {
       "metadata": {},
       "output_type": "pyout",
       "prompt_number": 18,
       "text": [
        "4"
       ]
      }
     ],
     "prompt_number": 18
    },
    {
     "cell_type": "code",
     "collapsed": false,
     "input": [
      "G.number_of_edges()"
     ],
     "language": "python",
     "metadata": {},
     "outputs": [
      {
       "metadata": {},
       "output_type": "pyout",
       "prompt_number": 19,
       "text": [
        "3"
       ]
      }
     ],
     "prompt_number": 19
    },
    {
     "cell_type": "code",
     "collapsed": false,
     "input": [
      "nx.diameter(G)"
     ],
     "language": "python",
     "metadata": {},
     "outputs": [
      {
       "metadata": {},
       "output_type": "pyout",
       "prompt_number": 20,
       "text": [
        "3"
       ]
      }
     ],
     "prompt_number": 20
    },
    {
     "cell_type": "code",
     "collapsed": false,
     "input": [
      "nx.radius(G)"
     ],
     "language": "python",
     "metadata": {},
     "outputs": [
      {
       "metadata": {},
       "output_type": "pyout",
       "prompt_number": 21,
       "text": [
        "2"
       ]
      }
     ],
     "prompt_number": 21
    },
    {
     "cell_type": "heading",
     "level": 2,
     "metadata": {},
     "source": [
      "Edge attributes"
     ]
    },
    {
     "cell_type": "markdown",
     "metadata": {},
     "source": [
      "You might have noticed that each edge is in fact a dictionary:"
     ]
    },
    {
     "cell_type": "code",
     "collapsed": false,
     "input": [
      "G[1]   #Each node is a dictionary key. The value is another dictionary: whose keys are all the nodes it is connected to"
     ],
     "language": "python",
     "metadata": {},
     "outputs": [
      {
       "metadata": {},
       "output_type": "pyout",
       "prompt_number": 22,
       "text": [
        "{5: {}, 7: {}}"
       ]
      }
     ],
     "prompt_number": 22
    },
    {
     "cell_type": "code",
     "collapsed": false,
     "input": [
      "G[1][5]  #There's an empty dictionary corresponding to every edge"
     ],
     "language": "python",
     "metadata": {},
     "outputs": [
      {
       "metadata": {},
       "output_type": "pyout",
       "prompt_number": 23,
       "text": [
        "{}"
       ]
      }
     ],
     "prompt_number": 23
    },
    {
     "cell_type": "markdown",
     "metadata": {},
     "source": [
      "And one can store values in that, for example, edge weights:"
     ]
    },
    {
     "cell_type": "code",
     "collapsed": false,
     "input": [
      "G[1][5]['weight']=5"
     ],
     "language": "python",
     "metadata": {},
     "outputs": [],
     "prompt_number": 24
    },
    {
     "cell_type": "code",
     "collapsed": false,
     "input": [
      "import random"
     ],
     "language": "python",
     "metadata": {},
     "outputs": [],
     "prompt_number": 25
    },
    {
     "cell_type": "code",
     "collapsed": false,
     "input": [
      "for u,v in G.edges():\n",
      "    G[u][v]['weight']=random.randint(1,5)"
     ],
     "language": "python",
     "metadata": {},
     "outputs": [],
     "prompt_number": 26
    },
    {
     "cell_type": "code",
     "collapsed": false,
     "input": [
      "nx.draw(G,edge_color=[G[u][v]['weight'] for u,v in G.edges()])"
     ],
     "language": "python",
     "metadata": {},
     "outputs": [
      {
       "metadata": {},
       "output_type": "display_data",
       "png": "[encoded data removed]",
       "text": [
        "<matplotlib.figure.Figure at 0x7fb17afe3390>"
       ]
      }
     ],
     "prompt_number": 27
    },
    {
     "cell_type": "code",
     "collapsed": false,
     "input": [
      "G.edges(data=1)"
     ],
     "language": "python",
     "metadata": {},
     "outputs": [
      {
       "metadata": {},
       "output_type": "pyout",
       "prompt_number": 28,
       "text": [
        "[(1, 5, {'weight': 2}), (1, 7, {'weight': 4}), (6, 7, {'weight': 5})]"
       ]
      }
     ],
     "prompt_number": 28
    },
    {
     "cell_type": "heading",
     "level": 2,
     "metadata": {},
     "source": [
      "Node attributes"
     ]
    },
    {
     "cell_type": "code",
     "collapsed": false,
     "input": [
      "G.node[5]  #Each node has an empty dictionary as well, ready to have data stored in them"
     ],
     "language": "python",
     "metadata": {},
     "outputs": [
      {
       "metadata": {},
       "output_type": "pyout",
       "prompt_number": 29,
       "text": [
        "{}"
       ]
      }
     ],
     "prompt_number": 29
    },
    {
     "cell_type": "code",
     "collapsed": false,
     "input": [
      "G.node[1]['size']=800\n",
      "G.node[7]['size']=700\n",
      "G.node[6]['size']=400\n",
      "G.node[5]['size']=300"
     ],
     "language": "python",
     "metadata": {},
     "outputs": [],
     "prompt_number": 30
    },
    {
     "cell_type": "code",
     "collapsed": false,
     "input": [
      "nx.draw(G, node_size=[G.node[n]['size'] for n in G.nodes()])"
     ],
     "language": "python",
     "metadata": {},
     "outputs": [
      {
       "metadata": {},
       "output_type": "display_data",
       "png": "[encoded data removed]",
       "text": [
        "<matplotlib.figure.Figure at 0x7fb17b028978>"
       ]
      }
     ],
     "prompt_number": 31
    },
    {
     "cell_type": "heading",
     "level": 2,
     "metadata": {},
     "source": [
      "Shortest paths"
     ]
    },
    {
     "cell_type": "code",
     "collapsed": false,
     "input": [
      "AG=nx.read_gpickle(\"../data/smaller_airportnet.pickle\")"
     ],
     "language": "python",
     "metadata": {},
     "outputs": [],
     "prompt_number": 51
    },
    {
     "cell_type": "code",
     "collapsed": false,
     "input": [
      "nx.draw(AG, pos=nx.layout.circular_layout(AG))"
     ],
     "language": "python",
     "metadata": {},
     "outputs": [
      {
       "metadata": {},
       "output_type": "display_data",
       "png": "[encoded data removed]",
       "text": [
        "<matplotlib.figure.Figure at 0x7fb17a792cc0>"
       ]
      }
     ],
     "prompt_number": 58
    },
    {
     "cell_type": "code",
     "collapsed": false,
     "input": [
      "AG.edges(data=True)"
     ],
     "language": "python",
     "metadata": {},
     "outputs": [
      {
       "metadata": {},
       "output_type": "pyout",
       "prompt_number": 60,
       "text": [
        "[('CDG', 'LGW', {'weight': 307.34445687669347}),\n",
        " ('CDG', 'FRA', {'weight': 446.6445854751236}),\n",
        " ('CDG', 'ADD', {'weight': 5577.22194910237}),\n",
        " ('CDG', 'YYZ', {'weight': 6016.066052343258}),\n",
        " ('CDG', 'LAX', {'weight': 9096.793143645225}),\n",
        " ('CDG', 'SNN', {'weight': 901.9151141139355}),\n",
        " ('CDG', 'VCE', {'weight': 834.8210213418265}),\n",
        " ('CDG', 'BEY', {'weight': 3185.0744960510447}),\n",
        " ('PTY', 'LAX', {'weight': 4842.327552039023}),\n",
        " ('PTY', 'MGA', {'weight': 815.7305736560804}),\n",
        " ('VCE', 'LGW', {'weight': 1116.5587531642727}),\n",
        " ('VCE', 'FRA', {'weight': 577.1872932432697}),\n",
        " ('VCE', 'MLA', {'weight': 1086.8582281441547}),\n",
        " ('VCE', 'LAX', {'weight': 9882.293277538183}),\n",
        " ('BEY', 'ADD', {'weight': 2781.3712522852525}),\n",
        " ('BEY', 'FRA', {'weight': 2837.5232304249703}),\n",
        " ('SNN', 'YYZ', {'weight': 5116.050075503609}),\n",
        " ('SNN', 'LGW', {'weight': 622.5386459005956}),\n",
        " ('SNN', 'LAX', {'weight': 8217.506715916745}),\n",
        " ('LGW', 'FRA', {'weight': 628.2516160202888}),\n",
        " ('LGW', 'MLA', {'weight': 2061.6662400682885}),\n",
        " ('LGW', 'YYZ', {'weight': 5735.589735082426}),\n",
        " ('LGW', 'SAN', {'weight': 8838.915153502832}),\n",
        " ('LGW', 'LAX', {'weight': 8792.109011745264}),\n",
        " ('LAX', 'TIJ', {'weight': 205.2128472750958}),\n",
        " ('LAX', 'RIC', {'weight': 3698.5747961938105}),\n",
        " ('LAX', 'FRA', {'weight': 9315.399893900814}),\n",
        " ('LAX', 'CMH', {'weight': 3202.060463470945}),\n",
        " ('LAX', 'YYZ', {'weight': 3491.7624988415696}),\n",
        " ('LAX', 'SAN', {'weight': 175.62244640174586}),\n",
        " ('LAX', 'MGA', {'weight': 4060.5871936124663}),\n",
        " ('CJS', 'TIJ', {'weight': 997.1284164344642}),\n",
        " ('ADD', 'FRA', {'weight': 5346.131986736553}),\n",
        " ('MLA', 'FRA', {'weight': 1645.5353280661886}),\n",
        " ('PWM', 'CMH', {'weight': 1116.656358403322}),\n",
        " ('PWM', 'RIC', {'weight': 902.5287153119745}),\n",
        " ('CMH', 'YYZ', {'weight': 489.8750898020181}),\n",
        " ('CMH', 'RIC', {'weight': 556.5548156102898}),\n",
        " ('CMH', 'SAN', {'weight': 3152.2773068436572}),\n",
        " ('FRA', 'YYZ', {'weight': 6338.686185055444}),\n",
        " ('FRA', 'SAN', {'weight': 9371.287905666073}),\n",
        " ('YYZ', 'SAN', {'weight': 3462.8411451493994}),\n",
        " ('YYZ', 'RIC', {'weight': 712.9692203918436}),\n",
        " ('RIC', 'SAN', {'weight': 3635.2927649701583})]"
       ]
      }
     ],
     "prompt_number": 60
    },
    {
     "cell_type": "code",
     "collapsed": false,
     "input": [
      "nx.shortest_path_length(AG, 'YYZ', 'ADD')"
     ],
     "language": "python",
     "metadata": {},
     "outputs": [
      {
       "metadata": {},
       "output_type": "pyout",
       "prompt_number": 72,
       "text": [
        "2"
       ]
      }
     ],
     "prompt_number": 72
    },
    {
     "cell_type": "code",
     "collapsed": false,
     "input": [
      "[p for p in nx.shortest_paths.all_shortest_paths(AG,'YYZ', 'ADD')]"
     ],
     "language": "python",
     "metadata": {},
     "outputs": [
      {
       "metadata": {},
       "output_type": "pyout",
       "prompt_number": 71,
       "text": [
        "[['YYZ', 'CDG', 'ADD'], ['YYZ', 'FRA', 'ADD']]"
       ]
      }
     ],
     "prompt_number": 71
    },
    {
     "cell_type": "heading",
     "level": 5,
     "metadata": {},
     "source": [
      "By default, networkx doesn't look at edge weights when calculating shortest paths"
     ]
    },
    {
     "cell_type": "code",
     "collapsed": false,
     "input": [
      "nx.shortest_path_length(AG, 'YYZ', 'ADD', weight='weight')"
     ],
     "language": "python",
     "metadata": {},
     "outputs": [
      {
       "metadata": {},
       "output_type": "pyout",
       "prompt_number": 73,
       "text": [
        "11593.288001445628"
       ]
      }
     ],
     "prompt_number": 73
    },
    {
     "cell_type": "code",
     "collapsed": false,
     "input": [
      "[p for p in nx.shortest_paths.all_shortest_paths(AG,'YYZ', 'ADD', weight='weight')]"
     ],
     "language": "python",
     "metadata": {},
     "outputs": [
      {
       "metadata": {},
       "output_type": "pyout",
       "prompt_number": 74,
       "text": [
        "[['YYZ', 'CDG', 'ADD']]"
       ]
      }
     ],
     "prompt_number": 74
    },
    {
     "cell_type": "heading",
     "level": 2,
     "metadata": {},
     "source": [
      "Cycles"
     ]
    },
    {
     "cell_type": "code",
     "collapsed": false,
     "input": [
      "nx.cycle_basis(AG)"
     ],
     "language": "python",
     "metadata": {},
     "outputs": [
      {
       "metadata": {},
       "output_type": "pyout",
       "prompt_number": 76,
       "text": [
        "[['ADD', 'BEY', 'CDG'],\n",
        " ['FRA', 'BEY', 'CDG'],\n",
        " ['LGW', 'VCE', 'CDG'],\n",
        " ['FRA', 'VCE', 'CDG'],\n",
        " ['LAX', 'VCE', 'CDG'],\n",
        " ['LGW', 'MLA', 'VCE'],\n",
        " ['FRA', 'MLA', 'VCE'],\n",
        " ['YYZ', 'SNN', 'CDG'],\n",
        " ['LGW', 'SNN', 'CDG'],\n",
        " ['LAX', 'SNN', 'CDG'],\n",
        " ['LGW', 'LAX', 'CDG'],\n",
        " ['FRA', 'LAX', 'CDG'],\n",
        " ['YYZ', 'LAX', 'CDG'],\n",
        " ['PTY', 'MGA', 'LAX'],\n",
        " ['LGW', 'SAN', 'LAX'],\n",
        " ['FRA', 'SAN', 'LAX'],\n",
        " ['CMH', 'SAN', 'LAX'],\n",
        " ['YYZ', 'SAN', 'LAX'],\n",
        " ['RIC', 'SAN', 'LAX'],\n",
        " ['YYZ', 'CMH', 'LAX'],\n",
        " ['RIC', 'CMH', 'LAX'],\n",
        " ['RIC', 'PWM', 'CMH'],\n",
        " ['YYZ', 'RIC', 'LAX'],\n",
        " ['FRA', 'YYZ', 'CDG'],\n",
        " ['LGW', 'YYZ', 'CDG'],\n",
        " ['FRA', 'ADD', 'CDG'],\n",
        " ['LGW', 'FRA', 'CDG']]"
       ]
      }
     ],
     "prompt_number": 76
    },
    {
     "cell_type": "code",
     "collapsed": false,
     "input": [],
     "language": "python",
     "metadata": {},
     "outputs": []
    },
    {
     "cell_type": "heading",
     "level": 2,
     "metadata": {},
     "source": [
      "Reading/writing graphs"
     ]
    },
    {
     "cell_type": "markdown",
     "metadata": {},
     "source": [
      "Networkx supports reading and writing graphs in various formats:\n",
      "\n"
     ]
    },
    {
     "cell_type": "code",
     "collapsed": false,
     "input": [
      "nx.read_"
     ],
     "language": "python",
     "metadata": {},
     "outputs": []
    },
    {
     "cell_type": "code",
     "collapsed": false,
     "input": [
      "nx.write_edgelist(G, 'test_graph.edgelist')"
     ],
     "language": "python",
     "metadata": {},
     "outputs": [],
     "prompt_number": 32
    },
    {
     "cell_type": "code",
     "collapsed": false,
     "input": [
      "cat test_graph.edgelist"
     ],
     "language": "python",
     "metadata": {},
     "outputs": [
      {
       "output_type": "stream",
       "stream": "stdout",
       "text": [
        "1 5 {'weight': 2}\r\n",
        "1 7 {'weight': 4}\r\n",
        "6 7 {'weight': 5}\r\n"
       ]
      }
     ],
     "prompt_number": 33
    },
    {
     "cell_type": "code",
     "collapsed": false,
     "input": [
      "nx.write_graphml(G, 'test_graph.graphml')"
     ],
     "language": "python",
     "metadata": {},
     "outputs": [],
     "prompt_number": 34
    },
    {
     "cell_type": "code",
     "collapsed": false,
     "input": [
      "cat test_graph.graphml"
     ],
     "language": "python",
     "metadata": {},
     "outputs": [
      {
       "output_type": "stream",
       "stream": "stdout",
       "text": [
        "<?xml version=\"1.0\" encoding=\"utf-8\"?><graphml xmlns=\"http://graphml.graphdrawing.org/xmlns\" xmlns:xsi=\"http://www.w3.org/2001/XMLSchema-instance\" xsi:schemaLocation=\"http://graphml.graphdrawing.org/xmlns http://graphml.graphdrawing.org/xmlns/1.0/graphml.xsd\">\r\n",
        "  <key attr.name=\"weight\" attr.type=\"long\" for=\"edge\" id=\"d1\" />\r\n",
        "  <key attr.name=\"size\" attr.type=\"long\" for=\"node\" id=\"d0\" />\r\n",
        "  <graph edgedefault=\"undirected\">\r\n",
        "    <node id=\"1\">\r\n",
        "      <data key=\"d0\">800</data>\r\n",
        "    </node>\r\n",
        "    <node id=\"5\">\r\n",
        "      <data key=\"d0\">300</data>\r\n",
        "    </node>\r\n",
        "    <node id=\"6\">\r\n",
        "      <data key=\"d0\">400</data>\r\n",
        "    </node>\r\n",
        "    <node id=\"7\">\r\n",
        "      <data key=\"d0\">700</data>\r\n",
        "    </node>\r\n",
        "    <edge source=\"1\" target=\"5\">\r\n",
        "      <data key=\"d1\">2</data>\r\n",
        "    </edge>\r\n",
        "    <edge source=\"1\" target=\"7\">\r\n",
        "      <data key=\"d1\">4</data>\r\n",
        "    </edge>\r\n",
        "    <edge source=\"6\" target=\"7\">\r\n",
        "      <data key=\"d1\">5</data>\r\n",
        "    </edge>\r\n",
        "  </graph>\r\n",
        "</graphml>\r\n"
       ]
      }
     ],
     "prompt_number": 35
    },
    {
     "cell_type": "code",
     "collapsed": false,
     "input": [
      "H=nx.read_graphml(\"test_graph.graphml\")"
     ],
     "language": "python",
     "metadata": {},
     "outputs": [],
     "prompt_number": 37
    },
    {
     "cell_type": "code",
     "collapsed": false,
     "input": [
      "H.nodes()"
     ],
     "language": "python",
     "metadata": {},
     "outputs": [
      {
       "metadata": {},
       "output_type": "pyout",
       "prompt_number": 42,
       "text": [
        "['5', '6', '7', '1']"
       ]
      }
     ],
     "prompt_number": 42
    },
    {
     "cell_type": "markdown",
     "metadata": {},
     "source": [
      "By default, networkx reads node labe;ls as strings, but it's easy to override:"
     ]
    },
    {
     "cell_type": "code",
     "collapsed": false,
     "input": [
      "H=nx.read_graphml(\"test_graph.graphml\", node_type=int)"
     ],
     "language": "python",
     "metadata": {},
     "outputs": [],
     "prompt_number": 43
    },
    {
     "cell_type": "code",
     "collapsed": false,
     "input": [
      "H.nodes()"
     ],
     "language": "python",
     "metadata": {},
     "outputs": [
      {
       "metadata": {},
       "output_type": "pyout",
       "prompt_number": 44,
       "text": [
        "[1, 5, 6, 7]"
       ]
      }
     ],
     "prompt_number": 44
    },
    {
     "cell_type": "heading",
     "level": 5,
     "metadata": {},
     "source": [
      "Our recommendation: gpickle"
     ]
    },
    {
     "cell_type": "code",
     "collapsed": false,
     "input": [
      "nx.write_gpickle(G, \"test_graph.gpickle\")"
     ],
     "language": "python",
     "metadata": {},
     "outputs": [],
     "prompt_number": 45
    },
    {
     "cell_type": "code",
     "collapsed": false,
     "input": [
      "H=nx.read_gpickle(\"test_graph.gpickle\")"
     ],
     "language": "python",
     "metadata": {},
     "outputs": [],
     "prompt_number": 47
    },
    {
     "cell_type": "code",
     "collapsed": false,
     "input": [
      "H.nodes()"
     ],
     "language": "python",
     "metadata": {},
     "outputs": [
      {
       "metadata": {},
       "output_type": "pyout",
       "prompt_number": 49,
       "text": [
        "[1, 5, 6, 7]"
       ]
      }
     ],
     "prompt_number": 49
    },
    {
     "cell_type": "heading",
     "level": 4,
     "metadata": {},
     "source": [
      "Time for some Exercises!"
     ]
    }
   ],
   "metadata": {}
  }
 ]
}