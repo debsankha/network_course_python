{
 "metadata": {
  "name": ""
 },
 "nbformat": 3,
 "nbformat_minor": 0,
 "worksheets": [
  {
   "cells": [
    {
     "cell_type": "markdown",
     "metadata": {},
     "source": [
      "### Day 1\n",
      "1.  [Graph theory introduction](http://localhost:8888/00-graph_theory.ipynb)\n",
      "2.  [Networkx Introduction](http://localhost:8888/02-networkx-intro.ipynb)\n",
      "3.  Exercises 1\n",
      "4.  [Basic network analysis](http://localhost:8888/03-networkx-analysis.ipynb)\n",
      "5.  Exercises 2 (leaf)\n",
      "6.  [Network visualizations](http://localhost:8888/04-networkx-visualization.ipynb)\n",
      "7.  Exercise 3"
     ]
    },
    {
     "cell_type": "markdown",
     "metadata": {},
     "source": [
      "### Day 2\n",
      "\n",
      "1.  [Network algorithms](http://localhost:8888/05-networkx-algorithms.ipynb)\n",
      "2.  Exercises 4\n",
      "3.  [Graph tool](http://localhost:8888/06-graph-tool.ipynb)\n",
      "4.  Other fun stuff\n",
      "5.  Exercises (Random walk/Adaptive networks)"
     ]
    },
    {
     "cell_type": "code",
     "collapsed": false,
     "input": [],
     "language": "python",
     "metadata": {},
     "outputs": []
    }
   ],
   "metadata": {}
  }
 ]
}