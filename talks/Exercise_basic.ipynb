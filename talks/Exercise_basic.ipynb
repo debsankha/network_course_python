{
 "metadata": {
  "name": ""
 },
 "nbformat": 3,
 "nbformat_minor": 0,
 "worksheets": [
  {
   "cells": [
    {
     "cell_type": "code",
     "collapsed": false,
     "input": [
      "import networkx as nx\n",
      "%matplotlib inline\n",
      "import pylab\n",
      "pylab.rcParams['figure.figsize'] = (10.0, 8.0)\n"
     ],
     "language": "python",
     "metadata": {},
     "outputs": [],
     "prompt_number": 5
    },
    {
     "cell_type": "code",
     "collapsed": false,
     "input": [
      "AG=nx.read_gpickle(\"../data/smaller_airportnet.pickle\")"
     ],
     "language": "python",
     "metadata": {},
     "outputs": [],
     "prompt_number": 32
    },
    {
     "cell_type": "markdown",
     "metadata": {},
     "source": [
      "**E1.1** Explore the graph **AG** using the methods:\n",
      "*  AG.nodes()\n",
      "*  AG.edges()\n",
      "*  AG.number_of_nodes()\n",
      "\n",
      "etc.\n",
      "\n",
      "Draw the graph using nx.draw"
     ]
    },
    {
     "cell_type": "markdown",
     "metadata": {},
     "source": [
      "**E1.2**  Find out the average distance between all pairs of airports in **AG**\n"
     ]
    },
    {
     "cell_type": "markdown",
     "metadata": {},
     "source": [
      "**E1.3** Find out which airport in **AG** has the highest number of neighbours. "
     ]
    },
    {
     "cell_type": "markdown",
     "metadata": {},
     "source": [
      "**E1.4** Now remove that node from **AG**, and redo **E1.2**."
     ]
    }
   ],
   "metadata": {}
  }
 ]
}