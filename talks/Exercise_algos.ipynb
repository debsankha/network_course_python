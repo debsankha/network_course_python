{
 "metadata": {
  "name": ""
 },
 "nbformat": 3,
 "nbformat_minor": 0,
 "worksheets": [
  {
   "cells": [
    {
     "cell_type": "code",
     "collapsed": false,
     "input": [
      "import networkx as nx\n",
      "%matplotlib inline\n",
      "import pylab\n",
      "pylab.rcParams['figure.figsize'] = (10.0, 8.0)\n",
      "import numpy as np"
     ],
     "language": "python",
     "metadata": {},
     "outputs": [],
     "prompt_number": 1
    },
    {
     "cell_type": "code",
     "collapsed": false,
     "input": [
      "GA=nx.read_gpickle(\"../data/airport/big_airportnet.gpickle\")  #Reading the big airportnet"
     ],
     "language": "python",
     "metadata": {},
     "outputs": [],
     "prompt_number": 5
    },
    {
     "cell_type": "markdown",
     "metadata": {},
     "source": [
      "**E4.1** Plot the degree distribution of **GA**. Does the tail of the degree distribution follow a power law? What is the exponent?"
     ]
    },
    {
     "cell_type": "markdown",
     "metadata": {},
     "source": [
      "**E4.2** Calculate the centralities of the nodes in **GA**"
     ]
    },
    {
     "cell_type": "markdown",
     "metadata": {},
     "source": [
      "**E4.3** Keep on removing **GA**"
     ]
    }
   ],
   "metadata": {}
  }
 ]
}