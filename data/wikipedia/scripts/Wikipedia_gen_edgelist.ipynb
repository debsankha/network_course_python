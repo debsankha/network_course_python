{
 "metadata": {
  "name": ""
 },
 "nbformat": 3,
 "nbformat_minor": 0,
 "worksheets": [
  {
   "cells": [
    {
     "cell_type": "code",
     "collapsed": false,
     "input": [
      "import xml.etree.ElementTree as etree"
     ],
     "language": "python",
     "metadata": {},
     "outputs": [],
     "prompt_number": 1
    },
    {
     "cell_type": "code",
     "collapsed": false,
     "input": [
      "xmlpath=\"./wikipedia.xml\""
     ],
     "language": "python",
     "metadata": {},
     "outputs": [],
     "prompt_number": 2
    },
    {
     "cell_type": "markdown",
     "metadata": {},
     "source": [
      "for event, elem in etree.iterparse(xmlpath):\n",
      "    if elem.tag=='page':\n",
      "        txt=elem.find('./revision/text')\n",
      "        if len(txt.text)>10:\n",
      "            break\n",
      "    \n",
      "            "
     ]
    },
    {
     "cell_type": "code",
     "collapsed": false,
     "input": [
      "pagedict={}"
     ],
     "language": "python",
     "metadata": {},
     "outputs": [],
     "prompt_number": 3
    },
    {
     "cell_type": "code",
     "collapsed": false,
     "input": [
      "with open(\"enwiki_title_id.dat\",'w') as f:\n",
      "    for event, elem in etree.iterparse(xmlpath):\n",
      "        if elem.tag=='page':\n",
      "            if elem.find('ns').text=='0':\n",
      "                pagedict[elem.find('title').text]=int(elem.find('id').text)\n",
      "                print(elem.find('id').text,elem.find('title').text, sep='\\t', file=f)\n",
      "\n",
      "                red=elem.find('redirect')  #Some wikipedia pages have redirects\n",
      "                if red is not None:\n",
      "                    pagedict[red.attrib['title']]=int(elem.find('id').text)\n",
      "                    print(elem.find('id').text,red.attrib['title'], sep='\\t', file=f)\n",
      "        "
     ],
     "language": "python",
     "metadata": {},
     "outputs": [],
     "prompt_number": "*"
    },
    {
     "cell_type": "code",
     "collapsed": false,
     "input": [
      "def upper_firstchar(st):\n",
      "    if len(st)<2:\n",
      "        return st.upper()\n",
      "    else:\n",
      "        return st[0].upper()+st[1:]\n",
      "\n",
      "with open(\"enwiki_edgelist.dat\",'w') as g:\n",
      "    for event, elem in etree.iterparse(xmlpath):\n",
      "        if elem.tag=='page':\n",
      "            if elem.find('ns').text=='0':\n",
      "                pid=int(elem.find('id').text)\n",
      "                ptxt=elem.find('./revision/text').text\n",
      "                \n",
      "                linklist=[pid]\n",
      "                for link in re.findall(r\"\\[\\[(.*?)\\]\\]\", ptxt):\n",
      "                    wptitle=link.split('|')[0]\n",
      "                    canonical_title=upper_firstchar(wptitle)\n",
      "                    try:\n",
      "                        linklist.append(pagedict[canonical_title])\n",
      "                    except KeyError:\n",
      "                        pass\n",
      "                print(' '.join(str(i) for i in linklist), file=g)\n",
      "                \n",
      "        "
     ],
     "language": "python",
     "metadata": {},
     "outputs": [],
     "prompt_number": "*"
    },
    {
     "cell_type": "code",
     "collapsed": false,
     "input": [
      "  "
     ],
     "language": "python",
     "metadata": {},
     "outputs": []
    }
   ],
   "metadata": {}
  }
 ]
}